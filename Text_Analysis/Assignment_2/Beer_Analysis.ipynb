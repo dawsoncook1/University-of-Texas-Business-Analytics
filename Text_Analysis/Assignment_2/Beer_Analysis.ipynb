{
 "cells": [
  {
   "cell_type": "markdown",
   "metadata": {
    "id": "o77Ry7PdatlM"
   },
   "source": [
    "# **Assignment 2: Building a Crowdsourced Beer Recommendation System**\n",
    "\n",
    "### Group Members: Bhavna Kaparaju (bgk378), Callie Gilmore (cgg756), Dawson Cook (dcc2436), India Lindsay (igl257), Ali Daanesh Sayyed (as92998)\n",
    "\n",
    "### 8:30am Class"
   ]
  },
  {
   "cell_type": "markdown",
   "metadata": {
    "id": "Vl_KAexuoBW-"
   },
   "source": [
    "## Task A: Scraping  Top Rated Beers on Beer Advocate (source: https://www.beeradvocate.com/beer/top-rated/) "
   ]
  },
  {
   "cell_type": "code",
   "execution_count": null,
   "metadata": {
    "id": "HadP0AYzn56A"
   },
   "outputs": [],
   "source": [
    "import requests\n",
    "from bs4 import BeautifulSoup\n",
    "from lxml import html\n",
    "import pandas as pd"
   ]
  },
  {
   "cell_type": "code",
   "execution_count": null,
   "metadata": {
    "id": "yuqgKvb5n56D"
   },
   "outputs": [],
   "source": [
    "def get_product_links():\n",
    "    df = pd.DataFrame(columns=['product_name', 'product_review', 'user_rating'])\n",
    "    \n",
    "    base_url = 'https://www.beeradvocate.com'\n",
    "    \n",
    "    page = requests.get(base_url+'/beer/top-rated/')\n",
    "    soup = BeautifulSoup(page.text,'html.parser')\n",
    "    \n",
    "    cells = soup.find_all('td')\n",
    "    for cell in cells:\n",
    "        if len(cell) == 2:            \n",
    "            product = cell.find('b').text\n",
    "            external_url = cell.find('a')['href']\n",
    "            \n",
    "            product_page = requests.get(base_url+external_url)\n",
    "            tree = html.fromstring(product_page.content)\n",
    "            for i in range(1,26):\n",
    "                try:\n",
    "                    rating = tree.xpath('/html/body/div[2]/div/div[2]/div[2]/div[2]/div/div/div[3]/div/div/div[2]/div[8]/div/div[{}]/div[2]/span[2]/text()'.format(i))[0]\n",
    "                                         #/html/body/div[2]/div/div[2]/div[2]/div[2]/div/div/div[3]/div/div/div[2]/div[8]/div/div[1]/div[2]/span[2]\n",
    "                    comments = tree.xpath('/html/body/div[2]/div/div[2]/div[2]/div[2]/div/div/div[3]/div/div/div[2]/div[8]/div/div[{}]/div[2]/text()'.format(i))[1:6]\n",
    "                                         #/html/body/div[2]/div/div[2]/div[2]/div[2]/div/div/div[3]/div/div/div[2]/div[8]/div/div[1]/div[2]/text()[2]\n",
    "                    comment = \"\"\n",
    "                    for com in comments:\n",
    "                        comment += com.strip('\\n') + \" \"\n",
    "\n",
    "                    df = df.append({'product_name': product,\n",
    "                                    'product_review': comment, \n",
    "                                    'user_rating': rating}, \n",
    "                                    ignore_index=True)\n",
    "                except:\n",
    "                    pass\n",
    "\n",
    "    return df \n",
    "\n",
    "df = get_product_links()"
   ]
  },
  {
   "cell_type": "code",
   "execution_count": null,
   "metadata": {
    "id": "d3q3Yod-n56F"
   },
   "outputs": [],
   "source": [
    "df.to_csv('beer_reviews.csv',index=False)"
   ]
  },
  {
   "cell_type": "code",
   "execution_count": null,
   "metadata": {
    "id": "oGXdunqCSjd9"
   },
   "outputs": [],
   "source": [
    "beer_review = df.copy()"
   ]
  },
  {
   "cell_type": "markdown",
   "metadata": {
    "id": "sQwXyOzZPjxz"
   },
   "source": [
    "The following data frame contains 6,230 reviews for a total of 250 beer products"
   ]
  },
  {
   "cell_type": "code",
   "execution_count": null,
   "metadata": {
    "colab": {
     "base_uri": "https://localhost:8080/",
     "height": 200
    },
    "id": "3Ff5ojTKPomA",
    "outputId": "abf285b2-7805-4ec9-bc5b-5d8f86b41749"
   },
   "outputs": [
    {
     "data": {
      "text/html": [
       "<div>\n",
       "<style scoped>\n",
       "    .dataframe tbody tr th:only-of-type {\n",
       "        vertical-align: middle;\n",
       "    }\n",
       "\n",
       "    .dataframe tbody tr th {\n",
       "        vertical-align: top;\n",
       "    }\n",
       "\n",
       "    .dataframe thead th {\n",
       "        text-align: right;\n",
       "    }\n",
       "</style>\n",
       "<table border=\"1\" class=\"dataframe\">\n",
       "  <thead>\n",
       "    <tr style=\"text-align: right;\">\n",
       "      <th></th>\n",
       "      <th>product_name</th>\n",
       "      <th>product_review</th>\n",
       "      <th>user_rating</th>\n",
       "    </tr>\n",
       "  </thead>\n",
       "  <tbody>\n",
       "    <tr>\n",
       "      <th>0</th>\n",
       "      <td>Kentucky Brunch Brand Stout</td>\n",
       "      <td>Smell: early morning pancakes and coffee befor...</td>\n",
       "      <td>5.00</td>\n",
       "    </tr>\n",
       "    <tr>\n",
       "      <th>1</th>\n",
       "      <td>Kentucky Brunch Brand Stout</td>\n",
       "      <td>2019 vintage. Pours a very dark brown color wi...</td>\n",
       "      <td>4.53</td>\n",
       "    </tr>\n",
       "    <tr>\n",
       "      <th>2</th>\n",
       "      <td>Kentucky Brunch Brand Stout</td>\n",
       "      <td>It's hyped... There is a lot of breweries doin...</td>\n",
       "      <td>1.49</td>\n",
       "    </tr>\n",
       "    <tr>\n",
       "      <th>3</th>\n",
       "      <td>Kentucky Brunch Brand Stout</td>\n",
       "      <td>Reviewing 2019 vintage. This pours thick and c...</td>\n",
       "      <td>4.52</td>\n",
       "    </tr>\n",
       "    <tr>\n",
       "      <th>4</th>\n",
       "      <td>Kentucky Brunch Brand Stout</td>\n",
       "      <td>2018 version. Poured dark with a small head. S...</td>\n",
       "      <td>4.99</td>\n",
       "    </tr>\n",
       "  </tbody>\n",
       "</table>\n",
       "</div>"
      ],
      "text/plain": [
       "                  product_name  ... user_rating\n",
       "0  Kentucky Brunch Brand Stout  ...        5.00\n",
       "1  Kentucky Brunch Brand Stout  ...        4.53\n",
       "2  Kentucky Brunch Brand Stout  ...        1.49\n",
       "3  Kentucky Brunch Brand Stout  ...        4.52\n",
       "4  Kentucky Brunch Brand Stout  ...        4.99\n",
       "\n",
       "[5 rows x 3 columns]"
      ]
     },
     "execution_count": 15,
     "metadata": {
      "tags": []
     },
     "output_type": "execute_result"
    }
   ],
   "source": [
    "df.head()"
   ]
  },
  {
   "cell_type": "markdown",
   "metadata": {
    "id": "2cSD-M35t8C8"
   },
   "source": [
    "## Task B: Specifying 3 Attributes in a Product"
   ]
  },
  {
   "cell_type": "code",
   "execution_count": null,
   "metadata": {
    "colab": {
     "base_uri": "https://localhost:8080/",
     "height": 87
    },
    "id": "6Y8dOQgpuTY7",
    "outputId": "61062f7d-babf-4366-cb2d-a71a6005b22d"
   },
   "outputs": [
    {
     "name": "stdout",
     "output_type": "stream",
     "text": [
      "[nltk_data] Downloading package stopwords to /root/nltk_data...\n",
      "[nltk_data]   Unzipping corpora/stopwords.zip.\n",
      "[nltk_data] Downloading package punkt to /root/nltk_data...\n",
      "[nltk_data]   Unzipping tokenizers/punkt.zip.\n"
     ]
    }
   ],
   "source": [
    "from google.colab import files \n",
    "import io\n",
    "import pandas as pd\n",
    "from string import punctuation\n",
    "import nltk\n",
    "nltk.download('stopwords')\n",
    "nltk.download('punkt')\n",
    "from nltk.corpus import stopwords\n",
    "from nltk.tokenize import word_tokenize\n",
    "import string\n",
    "import re"
   ]
  },
  {
   "cell_type": "markdown",
   "metadata": {
    "id": "noiJ7g5hvv4J"
   },
   "source": [
    "### Word Frequency Analysis and Attribute Selection\n",
    "\n",
    "We calculated the frequency of each word mentioned in each review while specifically seeking to identify any words that describe the attributes of beer products. \n",
    "\n",
    "If you're interested in learning more about the many attributes of beer, reference this link: https://www.dummies.com/food-drink/drinks/beer/beer-for-dummies-cheat-sheet/"
   ]
  },
  {
   "cell_type": "code",
   "execution_count": null,
   "metadata": {
    "id": "_uJAehxpvFTQ"
   },
   "outputs": [],
   "source": [
    "wordcounter = pd.DataFrame(columns = ['Word','Count', 'Attribute']) \n",
    "\n",
    "attributes = ['aggressive', 'balanced', 'wellbalanced', 'well-balanced', 'complex', 'crisp', 'fruity', 'fruitforward', 'hoppy', 'malty', 'malt', 'robust']\n",
    "\n",
    "stop_words = set(stopwords.words('english')) \n",
    "\n",
    "df['product_review'] = df['product_review'].astype(str) \n",
    "\n",
    "for com in df['product_review']:  \n",
    "  com = re.sub(r'[^\\w\\s]', '', com) \n",
    "  words = com.lower().split()\n",
    "  words = [word for word in words if word not in stop_words] \n",
    "  for i in range(len(words)): \n",
    "    w = words[i]\n",
    "    b = False\n",
    "    if w in attributes: \n",
    "      b = True\n",
    "    if w in wordcounter['Word'].tolist():\n",
    "      w_index = wordcounter.index[wordcounter['Word'] ==w]\n",
    "      wordcounter.loc[w_index, 'Count'] += 1\n",
    "      if b == True: \n",
    "        wordcounter.loc[w_index,'Attribute'] = 'yes'\n",
    "      else:\n",
    "        wordcounter.loc[w_index,'Attribute'] = 'no'\n",
    "    else: \n",
    "      if b == True:\n",
    "        new_row = {'Word':w, 'Count':1,'Attribute':'yes'} \n",
    "      else:\n",
    "        new_row = {'Word':w, 'Count':1,'Attribute':'no'}\n",
    "        wordcounter = wordcounter.append(new_row,ignore_index=True) "
   ]
  },
  {
   "cell_type": "code",
   "execution_count": null,
   "metadata": {
    "id": "N-iATb4dvMR3"
   },
   "outputs": [],
   "source": [
    "wordcounter.sort_values(by='Count', ascending=False, inplace=True)\n",
    "wordcounter"
   ]
  },
  {
   "cell_type": "code",
   "execution_count": null,
   "metadata": {
    "id": "0iqxU8MMvRVG"
   },
   "outputs": [],
   "source": [
    "wordcounter.to_csv('word_count.csv', index=False) \n",
    "files.download('word_count.csv') "
   ]
  },
  {
   "cell_type": "markdown",
   "metadata": {
    "id": "MZAZeqtJvSRq"
   },
   "source": [
    "### Looking through the most frequently occuring words in the beer product reviews, we identified the following attributes used with the highest occurence within reviews:\n",
    "\n",
    "1.   Citrus\n",
    "2.   Fruit\n",
    "3.   Smooth\n",
    "\n",
    "Citrus is used to describe beers that contain citrusy elements within their flavor. Fruit can be used to describe a beer that contains flavors reminiscent of various fruits. Citrus and fruit may overlap in their descriptions of several beers however, they do have clear differences. Citrus references fruity flavors that are tart, bright, and slightly acidic: orange, lemon, grapefruit. Fruit references all flavors that are related to a fruit taste and extends to multiple categories of fruits, including berries, drupes, and pomes. Smooth describes the texture of the beer and the consistency of the flavor. \n",
    "\n",
    "For the purpose of our recommendation system, we will assume a customer has specified these three attributes as being important. We will seek to identify beer products that are described as containing these attributes."
   ]
  },
  {
   "cell_type": "markdown",
   "metadata": {
    "id": "iULyaXJXt-2G"
   },
   "source": [
    "## Task C: Performing a Similarity Analysis Using Cosine Similarity with Specified Attributes\n"
   ]
  },
  {
   "cell_type": "code",
   "execution_count": null,
   "metadata": {
    "id": "OAuukLHWUA_G"
   },
   "outputs": [],
   "source": [
    "df = beer_review.copy() #importing beer reviews dataframe"
   ]
  },
  {
   "cell_type": "code",
   "execution_count": null,
   "metadata": {
    "id": "tAurdEq_wD9T"
   },
   "outputs": [],
   "source": [
    "import io\n",
    "import pandas as pd\n",
    "from string import punctuation\n",
    "import nltk\n",
    "nltk.download('stopwords')\n",
    "nltk.download('punkt')\n",
    "from nltk.corpus import stopwords\n",
    "from nltk.tokenize import word_tokenize\n",
    "import string\n",
    "import re \n",
    "stop_words = set( stopwords.words('english'))\n",
    "import numpy as np\n",
    "import string"
   ]
  },
  {
   "cell_type": "code",
   "execution_count": null,
   "metadata": {
    "id": "rAScKKvvwEkE"
   },
   "outputs": [],
   "source": [
    "import numpy\n",
    "import re\n",
    "from scipy import spatial\n",
    "\n",
    "def tokenize(sentences):\n",
    "    words = []\n",
    "    for sentence in sentences:\n",
    "        w = word_extraction(sentence)\n",
    "        words.extend(w)\n",
    "    words = sorted(list(set(words)))\n",
    "    return words\n",
    "\n",
    "def word_extraction(sentence):\n",
    "    ignore = ['a', \"the\", \"is\"]\n",
    "    words = re.sub(\"[^\\w]\", \" \",  sentence).split()\n",
    "    cleaned_text = [w.lower() for w in words if w not in ignore]\n",
    "    return cleaned_text\n",
    "\n",
    "def generate_bow(allsentences):\n",
    "    vocab = ['citrus', 'fruit', 'smooth']\n",
    "    #print(\"Word List for Document \\n{0} \\n\".format(vocab));\n",
    "    words = word_extraction(allsentences)\n",
    "    bag_vector = numpy.zeros(len(vocab))\n",
    "    for w in words:\n",
    "        for i,word in enumerate(vocab):\n",
    "            if word == w:\n",
    "                bag_vector[i] = 1\n",
    "               # if bag_vecor[i] >1:\n",
    "                 #   bag_vector[i] = 1\n",
    "    #print(\"{0} \\n{1}\\n\".format(allsentences,numpy.array(bag_vector)))\n",
    "    #print(numpy.array(bag_vector))\n",
    "    return numpy.array(bag_vector)\n",
    "\n",
    "def CosSim(x):\n",
    "    feature_vector = [1.0,1.0,1.0]\n",
    "    cosine_similarity = 1 - spatial.distance.cosine(feature_vector, x)\n",
    "    return cosine_similarity\n",
    "\n",
    "df['Similarity_Score'] = df['product_review'].map(generate_bow).map(CosSim).fillna(0)"
   ]
  },
  {
   "cell_type": "code",
   "execution_count": null,
   "metadata": {
    "id": "P_NG0kiEwEhj"
   },
   "outputs": [],
   "source": [
    "df2 = df[['product_name', 'product_review', 'Similarity_Score']]\n",
    "df2.to_csv (r'C:\\Users\\bhavn\\Documents\\Text Analysis\\Assignment 2\\export_dataframe.csv', index = False, header=True)\n",
    "similarity_score = df2.copy()"
   ]
  },
  {
   "cell_type": "markdown",
   "metadata": {
    "id": "tAV98PqEPELa"
   },
   "source": [
    "We performed a similarity analysis (using cosine similarity) to identify whether the three attributes were contained within the review. Similarity scores range between 0 and 1. A similarity score of 1 indicates that all three attributes were mentioned within the review while a score of 0 indicates that none of the attributes were mentioned. "
   ]
  },
  {
   "cell_type": "code",
   "execution_count": null,
   "metadata": {
    "colab": {
     "base_uri": "https://localhost:8080/",
     "height": 200
    },
    "id": "iHwsnlTYP1Yt",
    "outputId": "97db9032-a055-4822-da15-aa813e6cb4d6"
   },
   "outputs": [
    {
     "data": {
      "text/html": [
       "<div>\n",
       "<style scoped>\n",
       "    .dataframe tbody tr th:only-of-type {\n",
       "        vertical-align: middle;\n",
       "    }\n",
       "\n",
       "    .dataframe tbody tr th {\n",
       "        vertical-align: top;\n",
       "    }\n",
       "\n",
       "    .dataframe thead th {\n",
       "        text-align: right;\n",
       "    }\n",
       "</style>\n",
       "<table border=\"1\" class=\"dataframe\">\n",
       "  <thead>\n",
       "    <tr style=\"text-align: right;\">\n",
       "      <th></th>\n",
       "      <th>product_name</th>\n",
       "      <th>product_review</th>\n",
       "      <th>Similarity_Score</th>\n",
       "    </tr>\n",
       "  </thead>\n",
       "  <tbody>\n",
       "    <tr>\n",
       "      <th>0</th>\n",
       "      <td>Kentucky Brunch Brand Stout</td>\n",
       "      <td>Smell: early morning pancakes and coffee befor...</td>\n",
       "      <td>0.00000</td>\n",
       "    </tr>\n",
       "    <tr>\n",
       "      <th>1</th>\n",
       "      <td>Kentucky Brunch Brand Stout</td>\n",
       "      <td>2019 vintage. Pours a very dark brown color wi...</td>\n",
       "      <td>0.00000</td>\n",
       "    </tr>\n",
       "    <tr>\n",
       "      <th>2</th>\n",
       "      <td>Kentucky Brunch Brand Stout</td>\n",
       "      <td>It's hyped... There is a lot of breweries doin...</td>\n",
       "      <td>0.00000</td>\n",
       "    </tr>\n",
       "    <tr>\n",
       "      <th>3</th>\n",
       "      <td>Kentucky Brunch Brand Stout</td>\n",
       "      <td>Reviewing 2019 vintage. This pours thick and c...</td>\n",
       "      <td>0.57735</td>\n",
       "    </tr>\n",
       "    <tr>\n",
       "      <th>4</th>\n",
       "      <td>Kentucky Brunch Brand Stout</td>\n",
       "      <td>2018 version. Poured dark with a small head. S...</td>\n",
       "      <td>0.57735</td>\n",
       "    </tr>\n",
       "  </tbody>\n",
       "</table>\n",
       "</div>"
      ],
      "text/plain": [
       "                  product_name  ... Similarity_Score\n",
       "0  Kentucky Brunch Brand Stout  ...          0.00000\n",
       "1  Kentucky Brunch Brand Stout  ...          0.00000\n",
       "2  Kentucky Brunch Brand Stout  ...          0.00000\n",
       "3  Kentucky Brunch Brand Stout  ...          0.57735\n",
       "4  Kentucky Brunch Brand Stout  ...          0.57735\n",
       "\n",
       "[5 rows x 3 columns]"
      ]
     },
     "execution_count": 16,
     "metadata": {
      "tags": []
     },
     "output_type": "execute_result"
    }
   ],
   "source": [
    "df2.head()"
   ]
  },
  {
   "cell_type": "markdown",
   "metadata": {
    "id": "eq7GgbH2t_Jd"
   },
   "source": [
    "## Task D: Performing a Feature Level Sentiment Analysis for Each of the 3 Features"
   ]
  },
  {
   "cell_type": "markdown",
   "metadata": {
    "id": "W-d_AARKQCcN"
   },
   "source": [
    "For each review, if the attribute was mentioned in the review, we wanted to understand the sentiment behind the author's description of the attribute in relation to the beer. This is important as we will only want to recommend beer products in which the desired attributes were mentioned in a positive manner. "
   ]
  },
  {
   "cell_type": "code",
   "execution_count": null,
   "metadata": {
    "id": "FPPBIZR6wUc9"
   },
   "outputs": [],
   "source": [
    "import pandas as pd\n",
    "import numpy as np\n",
    "import nltk\n",
    "from nltk.tokenize import word_tokenize\n",
    "from nltk.corpus import stopwords\n",
    "import re \n",
    "import spacy\n",
    "from vaderSentiment.vaderSentiment import SentimentIntensityAnalyzer #using Vader tool for sentiment analysis \n",
    "\n",
    "\n",
    "#loading nltk packages\n",
    "nltk.download('stopwords')\n",
    "nltk.download('punkt')\n",
    "\n",
    "stop = stopwords.words('english')\n",
    "stop.remove('not') #can convey different sentiment\n",
    "\n",
    "\n",
    "products = beer_review.copy() #importing dataframe of beer reviews"
   ]
  },
  {
   "cell_type": "code",
   "execution_count": null,
   "metadata": {
    "id": "sqXu05Q6wT_q"
   },
   "outputs": [],
   "source": [
    "products['product_review'] = products['product_review'].astype(str) #converting review to string"
   ]
  },
  {
   "cell_type": "code",
   "execution_count": null,
   "metadata": {
    "id": "V65PaN6Gwqo4"
   },
   "outputs": [],
   "source": [
    "def word_window(string,n,keyword):\n",
    "    \n",
    "    '''Searches for keyword in text and returns n words on either side of it as a tuple'''\n",
    "    \n",
    "    \n",
    "    '''splitting words seperated by spaces, want to contain all capitalization and \n",
    "    punctuation as it contains sentiment, also removing all stopwords'''\n",
    "\n",
    "    string_tokens = string.split() \n",
    "    string_no_sw = [word for word in string_tokens if not word in stop] \n",
    "    \n",
    "    #empty list to store words before and after keyword\n",
    "    window = ''\n",
    "    \n",
    "    #identifying if keyword in string and then grabbing 3 words before and 3 words after\n",
    "    for i in range(len(string_no_sw)):\n",
    "        word = string_no_sw[i]\n",
    "        if word == keyword:\n",
    "            \n",
    "            #words that appear before keyword\n",
    "            while (i-n) >= 0 and n >= 1:\n",
    "                window += string_no_sw[i-n] + ' '\n",
    "                n = n - 1\n",
    "            \n",
    "            #words that appear after keyword\n",
    "            while (i+n) <= (len(string_no_sw)-1) and n <= 3:\n",
    "                window += string_no_sw[i+n] + ' '\n",
    "                n = n + 1\n",
    "                \n",
    "    return window"
   ]
  },
  {
   "cell_type": "code",
   "execution_count": null,
   "metadata": {
    "id": "2MsBdwRNwrB5"
   },
   "outputs": [],
   "source": [
    "def sentiment_score(df,attr):\n",
    "\n",
    "  ''' given a list of attributes, this function finds the sentiment for a window of words surround each attribute in each review'''\n",
    "    \n",
    "    attr1 = attr[0]\n",
    "    attr2 = attr[1]\n",
    "    attr3 = attr[2]\n",
    "    \n",
    "    #creating dataframe to store sentiment\n",
    "    sentiment = pd.DataFrame(columns = ['Product_Name','Review',attr1, attr2, attr3]) \n",
    "    \n",
    "    analyzer = SentimentIntensityAnalyzer() #creating sentiment-intensity-analyzer object\n",
    "    review_index = 0 #keeps track of index of review\n",
    "    \n",
    "    for rev in df['product_review']:\n",
    "        \n",
    "        #rev = str(rev) #converting review to a string \n",
    "        \n",
    "        product_name = df['product_name'].iloc[review_index] #get product name associated with this review\n",
    "       \n",
    "        has_attributes = False #variable to check if review contains attributes\n",
    "    \n",
    "        for word in rev.split(): #for each word in the review\n",
    "            \n",
    "            word2 = word.lower() #only grab lower case to identify presence of attribute\n",
    "     \n",
    "           \n",
    "            if word2 in attr: #if word is an attribute\n",
    "                has_attributes = True #we know this review contains an attribute \n",
    "                a = word2\n",
    "                window = word_window(rev,3,word) #grabbing window of 3 surrounding words in each direction \n",
    "                score = analyzer.polarity_scores(window) #grab the sentiment score of this window of words\n",
    "                score = score['compound'] #grab the total compound score\n",
    "                #this grabs multiple mentions of same attribute in one review\n",
    "                \n",
    "                #using np.nan instead of zero so not included when taking averages\n",
    "                if word2 == attr1: \n",
    "                    new_row = {'Product_Name':product_name,'Review':rev,attr1:score, attr2:np.nan, attr3:np.nan}\n",
    "                elif word2 == attr2: \n",
    "                    new_row = {'Product_Name':product_name,'Review':rev,attr1:np.nan, attr2:score, attr3:np.nan}\n",
    "                else: #attr3\n",
    "                    new_row = {'Product_Name':product_name,'Review':rev,attr1:np.nan, attr2:np.nan, attr3:score}\n",
    "            \n",
    "                sentiment = sentiment.append(new_row,ignore_index=True) #add row to dataframe\n",
    "        \n",
    "        if has_attributes == False: # if rev contained no attributes.. update as np.nan for all attr to keep review in df \n",
    "            new_row = {'Product_Name':product_name,'Review':rev,attr1:np.nan, attr2:np.nan, attr3:np.nan}\n",
    "            sentiment = sentiment.append(new_row,ignore_index=True) #add row to dataframe\n",
    "        \n",
    "        review_index += 1 #increments review index     \n",
    "\n",
    "    return sentiment\n",
    "    "
   ]
  },
  {
   "cell_type": "code",
   "execution_count": null,
   "metadata": {
    "id": "Gl5aLbPQwq1h"
   },
   "outputs": [],
   "source": [
    "list_attr = ['citrus','smooth','fruit']\n",
    "sentiment_df = sentiment_score(products,list_attr)"
   ]
  },
  {
   "cell_type": "markdown",
   "metadata": {
    "id": "rzm0RzqJ15_h"
   },
   "source": [
    "If the attribute was mentioned in the review, we grabbed a window of words surrounding the attribute and calculated the sentiment used to describe such attribute. If an attribute was not mentioned within a review, a value of NaN was assigned to the attribute.\n",
    "\n",
    "The following dataframe contains each product, the review for each product, and the sentiment score if the review contains one of our selected attributes: citrus, smooth, fruit"
   ]
  },
  {
   "cell_type": "code",
   "execution_count": null,
   "metadata": {
    "colab": {
     "base_uri": "https://localhost:8080/",
     "height": 201
    },
    "id": "T44aMqwA8JTk",
    "outputId": "431ba770-173c-495f-b97c-f785987e69dd"
   },
   "outputs": [
    {
     "data": {
      "text/html": [
       "<div>\n",
       "<style scoped>\n",
       "    .dataframe tbody tr th:only-of-type {\n",
       "        vertical-align: middle;\n",
       "    }\n",
       "\n",
       "    .dataframe tbody tr th {\n",
       "        vertical-align: top;\n",
       "    }\n",
       "\n",
       "    .dataframe thead th {\n",
       "        text-align: right;\n",
       "    }\n",
       "</style>\n",
       "<table border=\"1\" class=\"dataframe\">\n",
       "  <thead>\n",
       "    <tr style=\"text-align: right;\">\n",
       "      <th></th>\n",
       "      <th>Unnamed: 0</th>\n",
       "      <th>Product_Name</th>\n",
       "      <th>Review</th>\n",
       "      <th>citrus</th>\n",
       "      <th>smooth</th>\n",
       "      <th>fruit</th>\n",
       "    </tr>\n",
       "  </thead>\n",
       "  <tbody>\n",
       "    <tr>\n",
       "      <th>0</th>\n",
       "      <td>0</td>\n",
       "      <td>Kentucky Brunch Brand Stout</td>\n",
       "      <td>Smell: early morning pancakes and coffee befor...</td>\n",
       "      <td>NaN</td>\n",
       "      <td>NaN</td>\n",
       "      <td>NaN</td>\n",
       "    </tr>\n",
       "    <tr>\n",
       "      <th>1</th>\n",
       "      <td>1</td>\n",
       "      <td>Kentucky Brunch Brand Stout</td>\n",
       "      <td>2019 vintage. Pours a very dark brown color wi...</td>\n",
       "      <td>NaN</td>\n",
       "      <td>NaN</td>\n",
       "      <td>NaN</td>\n",
       "    </tr>\n",
       "    <tr>\n",
       "      <th>2</th>\n",
       "      <td>2</td>\n",
       "      <td>Kentucky Brunch Brand Stout</td>\n",
       "      <td>It's hyped... There is a lot of breweries doin...</td>\n",
       "      <td>NaN</td>\n",
       "      <td>NaN</td>\n",
       "      <td>NaN</td>\n",
       "    </tr>\n",
       "    <tr>\n",
       "      <th>3</th>\n",
       "      <td>3</td>\n",
       "      <td>Kentucky Brunch Brand Stout</td>\n",
       "      <td>Reviewing 2019 vintage. This pours thick and c...</td>\n",
       "      <td>NaN</td>\n",
       "      <td>0.6249</td>\n",
       "      <td>NaN</td>\n",
       "    </tr>\n",
       "    <tr>\n",
       "      <th>4</th>\n",
       "      <td>4</td>\n",
       "      <td>Kentucky Brunch Brand Stout</td>\n",
       "      <td>2018 version. Poured dark with a small head. S...</td>\n",
       "      <td>NaN</td>\n",
       "      <td>0.5859</td>\n",
       "      <td>NaN</td>\n",
       "    </tr>\n",
       "  </tbody>\n",
       "</table>\n",
       "</div>"
      ],
      "text/plain": [
       "   Unnamed: 0                 Product_Name  ...  smooth  fruit\n",
       "0           0  Kentucky Brunch Brand Stout  ...     NaN    NaN\n",
       "1           1  Kentucky Brunch Brand Stout  ...     NaN    NaN\n",
       "2           2  Kentucky Brunch Brand Stout  ...     NaN    NaN\n",
       "3           3  Kentucky Brunch Brand Stout  ...  0.6249    NaN\n",
       "4           4  Kentucky Brunch Brand Stout  ...  0.5859    NaN\n",
       "\n",
       "[5 rows x 6 columns]"
      ]
     },
     "execution_count": 2,
     "metadata": {
      "tags": []
     },
     "output_type": "execute_result"
    }
   ],
   "source": [
    "sentiment_df "
   ]
  },
  {
   "cell_type": "markdown",
   "metadata": {
    "id": "8qky6xgO2rsf"
   },
   "source": [
    "\n",
    "We then calculated the average sentiment score for the mention of each attribute within all reviews for each product. A negative score indicates negative sentiment while a positive score indicates positive sentiment. A score of 0 indicates neutral sentiment. "
   ]
  },
  {
   "cell_type": "code",
   "execution_count": null,
   "metadata": {
    "id": "ngqHtAR0w5of"
   },
   "outputs": [],
   "source": [
    "avg_sentiment = sentiment_df.groupby(['Product_Name'])['citrus','smooth','fruit'].mean()"
   ]
  },
  {
   "cell_type": "code",
   "execution_count": null,
   "metadata": {
    "colab": {
     "base_uri": "https://localhost:8080/",
     "height": 201
    },
    "id": "bY1iwWI1w92u",
    "outputId": "d079ee41-a710-4704-e7d5-09dfdebea24b"
   },
   "outputs": [
    {
     "data": {
      "text/html": [
       "<div>\n",
       "<style scoped>\n",
       "    .dataframe tbody tr th:only-of-type {\n",
       "        vertical-align: middle;\n",
       "    }\n",
       "\n",
       "    .dataframe tbody tr th {\n",
       "        vertical-align: top;\n",
       "    }\n",
       "\n",
       "    .dataframe thead th {\n",
       "        text-align: right;\n",
       "    }\n",
       "</style>\n",
       "<table border=\"1\" class=\"dataframe\">\n",
       "  <thead>\n",
       "    <tr style=\"text-align: right;\">\n",
       "      <th></th>\n",
       "      <th>Product_Name</th>\n",
       "      <th>citrus</th>\n",
       "      <th>smooth</th>\n",
       "      <th>fruit</th>\n",
       "    </tr>\n",
       "  </thead>\n",
       "  <tbody>\n",
       "    <tr>\n",
       "      <th>0</th>\n",
       "      <td>3rd Anniversary Imperial IPA</td>\n",
       "      <td>0.51948</td>\n",
       "      <td>0.352267</td>\n",
       "      <td>0.000000</td>\n",
       "    </tr>\n",
       "    <tr>\n",
       "      <th>1</th>\n",
       "      <td>4th Anniversary</td>\n",
       "      <td>0.00000</td>\n",
       "      <td>0.028733</td>\n",
       "      <td>-0.197929</td>\n",
       "    </tr>\n",
       "    <tr>\n",
       "      <th>2</th>\n",
       "      <td>A Deal With The Devil</td>\n",
       "      <td>NaN</td>\n",
       "      <td>0.284975</td>\n",
       "      <td>0.318450</td>\n",
       "    </tr>\n",
       "    <tr>\n",
       "      <th>3</th>\n",
       "      <td>A Deal With The Devil - Double Oak-Aged</td>\n",
       "      <td>NaN</td>\n",
       "      <td>0.626633</td>\n",
       "      <td>0.000000</td>\n",
       "    </tr>\n",
       "    <tr>\n",
       "      <th>4</th>\n",
       "      <td>Aaron</td>\n",
       "      <td>NaN</td>\n",
       "      <td>0.173029</td>\n",
       "      <td>-0.106067</td>\n",
       "    </tr>\n",
       "  </tbody>\n",
       "</table>\n",
       "</div>"
      ],
      "text/plain": [
       "                              Product_Name   citrus    smooth     fruit\n",
       "0             3rd Anniversary Imperial IPA  0.51948  0.352267  0.000000\n",
       "1                          4th Anniversary  0.00000  0.028733 -0.197929\n",
       "2                    A Deal With The Devil      NaN  0.284975  0.318450\n",
       "3  A Deal With The Devil - Double Oak-Aged      NaN  0.626633  0.000000\n",
       "4                                    Aaron      NaN  0.173029 -0.106067"
      ]
     },
     "execution_count": 4,
     "metadata": {
      "tags": []
     },
     "output_type": "execute_result"
    }
   ],
   "source": [
    "\n",
    "avg_sentiment.head()"
   ]
  },
  {
   "cell_type": "markdown",
   "metadata": {
    "id": "aEgFv6QB22Ke"
   },
   "source": [
    "The following dataframe contains the overall average sentiment for each review: "
   ]
  },
  {
   "cell_type": "code",
   "execution_count": null,
   "metadata": {
    "id": "ABbSVB8zzpWN"
   },
   "outputs": [],
   "source": [
    "avg_attribute_sent = sentiment_df[['citrus','smooth','fruit']].mean().to_frame(name = 'Avg Sentiment')"
   ]
  },
  {
   "cell_type": "code",
   "execution_count": null,
   "metadata": {
    "colab": {
     "base_uri": "https://localhost:8080/",
     "height": 140
    },
    "id": "q4un19w7zo65",
    "outputId": "40331937-45cb-4fb8-ac12-9f364dfd5c52"
   },
   "outputs": [
    {
     "data": {
      "text/html": [
       "<div>\n",
       "<style scoped>\n",
       "    .dataframe tbody tr th:only-of-type {\n",
       "        vertical-align: middle;\n",
       "    }\n",
       "\n",
       "    .dataframe tbody tr th {\n",
       "        vertical-align: top;\n",
       "    }\n",
       "\n",
       "    .dataframe thead th {\n",
       "        text-align: right;\n",
       "    }\n",
       "</style>\n",
       "<table border=\"1\" class=\"dataframe\">\n",
       "  <thead>\n",
       "    <tr style=\"text-align: right;\">\n",
       "      <th></th>\n",
       "      <th>Unnamed: 0</th>\n",
       "      <th>Avg Sentiment</th>\n",
       "    </tr>\n",
       "  </thead>\n",
       "  <tbody>\n",
       "    <tr>\n",
       "      <th>0</th>\n",
       "      <td>citrus</td>\n",
       "      <td>0.205478</td>\n",
       "    </tr>\n",
       "    <tr>\n",
       "      <th>1</th>\n",
       "      <td>smooth</td>\n",
       "      <td>0.242716</td>\n",
       "    </tr>\n",
       "    <tr>\n",
       "      <th>2</th>\n",
       "      <td>fruit</td>\n",
       "      <td>0.257298</td>\n",
       "    </tr>\n",
       "  </tbody>\n",
       "</table>\n",
       "</div>"
      ],
      "text/plain": [
       "  Unnamed: 0  Avg Sentiment\n",
       "0     citrus       0.205478\n",
       "1     smooth       0.242716\n",
       "2      fruit       0.257298"
      ]
     },
     "execution_count": 6,
     "metadata": {
      "tags": []
     },
     "output_type": "execute_result"
    }
   ],
   "source": [
    "\n",
    "avg_attribute_sent "
   ]
  },
  {
   "cell_type": "code",
   "execution_count": null,
   "metadata": {
    "id": "CIofcNBnzzJJ"
   },
   "outputs": [],
   "source": [
    "sentiment_df.to_csv(\"Sentiment_Scores.csv\") #each product with each attribute if in review and sentiment score \n",
    "avg_sentiment.to_csv(\"Avg_Sentiment_Product.csv\") #each product w avg sentiment score for each attribute"
   ]
  },
  {
   "cell_type": "code",
   "execution_count": null,
   "metadata": {
    "id": "K47TwA3NzzGL"
   },
   "outputs": [],
   "source": [
    "avg_attribute_sent.to_csv(\"Avg_Sentiment_Attribute.csv\") #each attribute w avg sentiment score "
   ]
  },
  {
   "cell_type": "markdown",
   "metadata": {
    "id": "Vrfc3uLPt_ne"
   },
   "source": [
    "## Task E: We calculated the overall evaluation score for each beer as a combination of the average similarity score and average sentiment score. Our goal was to identify 3 beer products with the highest evaluation score to reccommend to the customer. "
   ]
  },
  {
   "cell_type": "code",
   "execution_count": null,
   "metadata": {
    "id": "Gef2OAFl0hgF"
   },
   "outputs": [],
   "source": [
    "import pandas as pd"
   ]
  },
  {
   "cell_type": "code",
   "execution_count": null,
   "metadata": {
    "id": "F7WjwwnZ0hjd"
   },
   "outputs": [],
   "source": [
    "df = similarity_score.copy() #importing similarity score dataframe from task C\n",
    "df2 = avg_sentiment.copy() #importing dataframe with avg sentiment score for each product by the three attributes "
   ]
  },
  {
   "cell_type": "code",
   "execution_count": null,
   "metadata": {
    "id": "YRyf8_WR0iBM"
   },
   "outputs": [],
   "source": [
    "df_Product_Simscore = df.groupby(['product_name'])[['Similarity_Score']].mean()"
   ]
  },
  {
   "cell_type": "code",
   "execution_count": null,
   "metadata": {
    "id": "2KSsDL070iGV"
   },
   "outputs": [],
   "source": [
    "df_merged = df_Product_Simscore.merge(df2, left_on='product_name', right_on='Product_Name')"
   ]
  },
  {
   "cell_type": "code",
   "execution_count": null,
   "metadata": {
    "id": "eaflEvJz0hoO"
   },
   "outputs": [],
   "source": [
    "df_merged = df_merged.fillna(0)"
   ]
  },
  {
   "cell_type": "code",
   "execution_count": null,
   "metadata": {
    "id": "blMpEZQT0haq"
   },
   "outputs": [],
   "source": [
    "df_merged.head()"
   ]
  },
  {
   "cell_type": "code",
   "execution_count": null,
   "metadata": {
    "id": "5AoLtheC0r9c"
   },
   "outputs": [],
   "source": [
    "df_merged['Citrus_evaluation_score'] = (df_merged['Similarity_Score'] + df_merged['citrus']) / 2\n",
    "df_merged['Smooth_evaluation_score'] = (df_merged['Similarity_Score'] + df_merged['smooth']) / 2\n",
    "df_merged['Fruit_evaluation_score'] = (df_merged['Similarity_Score'] + df_merged['fruit']) / 2\n",
    "df_merged['Overall_evaluation_score'] = (df_merged['Similarity_Score'] + df_merged['fruit'] + df_merged['citrus'] + df_merged['smooth']) / 4"
   ]
  },
  {
   "cell_type": "code",
   "execution_count": null,
   "metadata": {
    "id": "4wiFdnux0r6V"
   },
   "outputs": [],
   "source": [
    "df_Evaluation_Scores = df_merged[['Product_Name', 'Citrus_evaluation_score', 'Smooth_evaluation_score', 'Fruit_evaluation_score', 'Overall_evaluation_score']]"
   ]
  },
  {
   "cell_type": "markdown",
   "metadata": {
    "id": "31oIlziCU8aq"
   },
   "source": [
    "### The following dataframe contains the overall evaluation score and the evaluation score by attribute. Given that our customer prefers beers that our citrusy, fruity, and/or smooth, we would reccomend the following three beers as they have the highest overall evaluation score. \n",
    "1. Double Nelson \n",
    "2. Ghost In The Machine - Double Dry-Hopped\n",
    "3. Double Dry Hopped Fort Point Pale Ale"
   ]
  },
  {
   "cell_type": "code",
   "execution_count": null,
   "metadata": {
    "colab": {
     "base_uri": "https://localhost:8080/",
     "height": 139
    },
    "id": "WMYjnniB0r3Y",
    "outputId": "fdac2f88-5dbd-42c0-9a6b-8c6188dbe599"
   },
   "outputs": [
    {
     "data": {
      "text/html": [
       "<div>\n",
       "<style scoped>\n",
       "    .dataframe tbody tr th:only-of-type {\n",
       "        vertical-align: middle;\n",
       "    }\n",
       "\n",
       "    .dataframe tbody tr th {\n",
       "        vertical-align: top;\n",
       "    }\n",
       "\n",
       "    .dataframe thead th {\n",
       "        text-align: right;\n",
       "    }\n",
       "</style>\n",
       "<table border=\"1\" class=\"dataframe\">\n",
       "  <thead>\n",
       "    <tr style=\"text-align: right;\">\n",
       "      <th></th>\n",
       "      <th>Product_Name</th>\n",
       "      <th>Citrus_evaluation_score</th>\n",
       "      <th>Smooth_evaluation_score</th>\n",
       "      <th>Fruit_evaluation_score</th>\n",
       "      <th>Overall_evaluation_score</th>\n",
       "    </tr>\n",
       "  </thead>\n",
       "  <tbody>\n",
       "    <tr>\n",
       "      <th>89</th>\n",
       "      <td>Double Nelson</td>\n",
       "      <td>0.301038</td>\n",
       "      <td>0.340869</td>\n",
       "      <td>0.522069</td>\n",
       "      <td>0.452169</td>\n",
       "    </tr>\n",
       "    <tr>\n",
       "      <th>119</th>\n",
       "      <td>Ghost In The Machine - Double Dry-Hopped</td>\n",
       "      <td>0.366213</td>\n",
       "      <td>0.581688</td>\n",
       "      <td>0.306648</td>\n",
       "      <td>0.449287</td>\n",
       "    </tr>\n",
       "    <tr>\n",
       "      <th>84</th>\n",
       "      <td>Double Dry Hopped Fort Point Pale Ale</td>\n",
       "      <td>0.244010</td>\n",
       "      <td>0.514610</td>\n",
       "      <td>0.429322</td>\n",
       "      <td>0.429511</td>\n",
       "    </tr>\n",
       "  </tbody>\n",
       "</table>\n",
       "</div>"
      ],
      "text/plain": [
       "                                 Product_Name  ...  Overall_evaluation_score\n",
       "89                              Double Nelson  ...                  0.452169\n",
       "119  Ghost In The Machine - Double Dry-Hopped  ...                  0.449287\n",
       "84      Double Dry Hopped Fort Point Pale Ale  ...                  0.429511\n",
       "\n",
       "[3 rows x 5 columns]"
      ]
     },
     "execution_count": 29,
     "metadata": {
      "tags": []
     },
     "output_type": "execute_result"
    }
   ],
   "source": [
    "df_Evaluation_Scores.sort_values(by='Overall_evaluation_score', ascending=False)[0:3]"
   ]
  },
  {
   "cell_type": "markdown",
   "metadata": {
    "id": "uukaGaDEt_9k"
   },
   "source": [
    "## Task F: We then sought to analyze how our reccommendations would shift if we used word vectors to calculate similarity score (using the spaCy package). \n"
   ]
  },
  {
   "cell_type": "code",
   "execution_count": null,
   "metadata": {
    "colab": {
     "base_uri": "https://localhost:8080/",
     "height": 88
    },
    "id": "r3OCkoSiydRM",
    "outputId": "59cc7c42-a37c-4639-d938-488bebf086d7"
   },
   "outputs": [
    {
     "name": "stdout",
     "output_type": "stream",
     "text": [
      "[nltk_data] Downloading package stopwords to /root/nltk_data...\n",
      "[nltk_data]   Unzipping corpora/stopwords.zip.\n",
      "[nltk_data] Downloading package punkt to /root/nltk_data...\n",
      "[nltk_data]   Unzipping tokenizers/punkt.zip.\n"
     ]
    }
   ],
   "source": [
    "import io\n",
    "import pandas as pd\n",
    "from string import punctuation\n",
    "import nltk\n",
    "nltk.download('stopwords')\n",
    "nltk.download('punkt')\n",
    "from nltk.corpus import stopwords\n",
    "from nltk.tokenize import word_tokenize\n",
    "import string\n",
    "import re \n",
    "stop_words = set( stopwords.words('english'))\n",
    "import numpy as np\n",
    "import string"
   ]
  },
  {
   "cell_type": "code",
   "execution_count": null,
   "metadata": {
    "id": "wSzFqmc7yi7x"
   },
   "outputs": [],
   "source": [
    "df = beer_review.dropna()"
   ]
  },
  {
   "cell_type": "code",
   "execution_count": null,
   "metadata": {
    "id": "_MxtFQAKymvn"
   },
   "outputs": [],
   "source": [
    "df['cleaned_review'] = df['product_review'].apply(lambda x :x.translate(str.maketrans('', '', string.punctuation)))\n",
    "df['cleaned_review'] = df['cleaned_review'].apply(lambda x :x.lower())\n",
    "\n",
    "df['cleaned_review'] = df['cleaned_review'].apply(word_tokenize).apply(set).apply(list)\n",
    "def remove_stopwords(s):\n",
    "    return [w for w in s if not w in stop_words] \n",
    "    \n",
    "df['cleaned_review'] =  df['cleaned_review'].apply(remove_stopwords)"
   ]
  },
  {
   "cell_type": "code",
   "execution_count": null,
   "metadata": {
    "id": "lQGeTf3MymtD"
   },
   "outputs": [],
   "source": [
    "import spacy\n",
    "import en_core_web_lg\n",
    "nlp = en_core_web_lg.load()"
   ]
  },
  {
   "cell_type": "code",
   "execution_count": null,
   "metadata": {
    "id": "Ep5Z7BsJyp21"
   },
   "outputs": [],
   "source": [
    "def join_words(comment):   \n",
    "    \"\"\"Joins the tokenized words to a sentence\"\"\"\n",
    "    return \" \".join(comment) \n",
    "\n",
    "df['joined_review'] = df['cleaned_review'].map(join_words)"
   ]
  },
  {
   "cell_type": "code",
   "execution_count": null,
   "metadata": {
    "id": "Lzev77RtyusP"
   },
   "outputs": [],
   "source": [
    "def calculate_similarity(comment):\n",
    "    \"\"\"Compute similarity score\"\"\"\n",
    "    base = nlp(comment)\n",
    "    compare = nlp(input_attributes)\n",
    "    return base.similarity(compare)"
   ]
  },
  {
   "cell_type": "code",
   "execution_count": null,
   "metadata": {
    "id": "tdByNxZ8yvTc"
   },
   "outputs": [],
   "source": [
    "input_list = ['citrus', 'fruit', 'smooth']\n",
    "input_attributes =  \" \".join(input_list)\n",
    "df['spacy_similarity'] = df['joined_review'].map(calculate_similarity)"
   ]
  },
  {
   "cell_type": "markdown",
   "metadata": {
    "id": "PbpQK2tSSOme"
   },
   "source": [
    "The below dataframe shows the spacy similarity score for each review. "
   ]
  },
  {
   "cell_type": "code",
   "execution_count": null,
   "metadata": {
    "colab": {
     "base_uri": "https://localhost:8080/",
     "height": 411
    },
    "id": "Xvug0VgJyz9c",
    "outputId": "96fd17db-f098-4508-c759-3249150a7e9d"
   },
   "outputs": [
    {
     "data": {
      "text/html": [
       "<div>\n",
       "<style scoped>\n",
       "    .dataframe tbody tr th:only-of-type {\n",
       "        vertical-align: middle;\n",
       "    }\n",
       "\n",
       "    .dataframe tbody tr th {\n",
       "        vertical-align: top;\n",
       "    }\n",
       "\n",
       "    .dataframe thead th {\n",
       "        text-align: right;\n",
       "    }\n",
       "</style>\n",
       "<table border=\"1\" class=\"dataframe\">\n",
       "  <thead>\n",
       "    <tr style=\"text-align: right;\">\n",
       "      <th></th>\n",
       "      <th>product_name</th>\n",
       "      <th>product_review</th>\n",
       "      <th>user_rating</th>\n",
       "      <th>spacy_similarity</th>\n",
       "    </tr>\n",
       "  </thead>\n",
       "  <tbody>\n",
       "    <tr>\n",
       "      <th>0</th>\n",
       "      <td>Kentucky Brunch Brand Stout</td>\n",
       "      <td>Smell: early morning pancakes and coffee befor...</td>\n",
       "      <td>5.00</td>\n",
       "      <td>0.663443</td>\n",
       "    </tr>\n",
       "    <tr>\n",
       "      <th>1</th>\n",
       "      <td>Kentucky Brunch Brand Stout</td>\n",
       "      <td>2019 vintage. Pours a very dark brown color wi...</td>\n",
       "      <td>4.53</td>\n",
       "      <td>0.745518</td>\n",
       "    </tr>\n",
       "    <tr>\n",
       "      <th>2</th>\n",
       "      <td>Kentucky Brunch Brand Stout</td>\n",
       "      <td>It's hyped... There is a lot of breweries doin...</td>\n",
       "      <td>1.49</td>\n",
       "      <td>0.506517</td>\n",
       "    </tr>\n",
       "    <tr>\n",
       "      <th>3</th>\n",
       "      <td>Kentucky Brunch Brand Stout</td>\n",
       "      <td>Reviewing 2019 vintage. This pours thick and c...</td>\n",
       "      <td>4.52</td>\n",
       "      <td>0.619972</td>\n",
       "    </tr>\n",
       "    <tr>\n",
       "      <th>4</th>\n",
       "      <td>Kentucky Brunch Brand Stout</td>\n",
       "      <td>2018 version. Poured dark with a small head. S...</td>\n",
       "      <td>4.99</td>\n",
       "      <td>0.695420</td>\n",
       "    </tr>\n",
       "    <tr>\n",
       "      <th>...</th>\n",
       "      <td>...</td>\n",
       "      <td>...</td>\n",
       "      <td>...</td>\n",
       "      <td>...</td>\n",
       "    </tr>\n",
       "    <tr>\n",
       "      <th>6224</th>\n",
       "      <td>Madagascar</td>\n",
       "      <td>Pours a very dark chestnut brown with two-and-...</td>\n",
       "      <td>4.07</td>\n",
       "      <td>0.777653</td>\n",
       "    </tr>\n",
       "    <tr>\n",
       "      <th>6225</th>\n",
       "      <td>Madagascar</td>\n",
       "      <td>Vintage 2018 Heavy booze aroma with vanilla ac...</td>\n",
       "      <td>4.15</td>\n",
       "      <td>0.788488</td>\n",
       "    </tr>\n",
       "    <tr>\n",
       "      <th>6226</th>\n",
       "      <td>Madagascar</td>\n",
       "      <td>Opaque, near black body, with a frothy, cola-l...</td>\n",
       "      <td>4.21</td>\n",
       "      <td>0.758685</td>\n",
       "    </tr>\n",
       "    <tr>\n",
       "      <th>6227</th>\n",
       "      <td>Madagascar</td>\n",
       "      <td>Drank from a 1 pint, 6 fl oz bottle purchased ...</td>\n",
       "      <td>4.61</td>\n",
       "      <td>0.448734</td>\n",
       "    </tr>\n",
       "    <tr>\n",
       "      <th>6228</th>\n",
       "      <td>Madagascar</td>\n",
       "      <td>Pours black with an eggshell thin layer of kha...</td>\n",
       "      <td>4.00</td>\n",
       "      <td>0.731550</td>\n",
       "    </tr>\n",
       "  </tbody>\n",
       "</table>\n",
       "<p>6229 rows × 4 columns</p>\n",
       "</div>"
      ],
      "text/plain": [
       "                     product_name  ... spacy_similarity\n",
       "0     Kentucky Brunch Brand Stout  ...         0.663443\n",
       "1     Kentucky Brunch Brand Stout  ...         0.745518\n",
       "2     Kentucky Brunch Brand Stout  ...         0.506517\n",
       "3     Kentucky Brunch Brand Stout  ...         0.619972\n",
       "4     Kentucky Brunch Brand Stout  ...         0.695420\n",
       "...                           ...  ...              ...\n",
       "6224                   Madagascar  ...         0.777653\n",
       "6225                   Madagascar  ...         0.788488\n",
       "6226                   Madagascar  ...         0.758685\n",
       "6227                   Madagascar  ...         0.448734\n",
       "6228                   Madagascar  ...         0.731550\n",
       "\n",
       "[6229 rows x 4 columns]"
      ]
     },
     "execution_count": 22,
     "metadata": {
      "tags": []
     },
     "output_type": "execute_result"
    }
   ],
   "source": [
    "spacy_sim = df[['product_name','product_review','user_rating','spacy_similarity']]"
   ]
  },
  {
   "cell_type": "code",
   "execution_count": null,
   "metadata": {
    "id": "fn7-7eBL0O6s"
   },
   "outputs": [],
   "source": [
    "#import pandas as pd"
   ]
  },
  {
   "cell_type": "code",
   "execution_count": null,
   "metadata": {
    "id": "HaTWTQ8J0O6v"
   },
   "outputs": [],
   "source": [
    "\n",
    "df2 = avg_sentiment.copy() #importing dataframe with avg sentiment score for each product by the three attributes "
   ]
  },
  {
   "cell_type": "code",
   "execution_count": null,
   "metadata": {
    "id": "wiJi9jCo0O6w"
   },
   "outputs": [],
   "source": [
    "df_Product_spacyscore = spacy_sim.groupby(['product_name'])[['spacy_similarity']].mean()"
   ]
  },
  {
   "cell_type": "code",
   "execution_count": null,
   "metadata": {
    "id": "TjBB_o_g0O6y"
   },
   "outputs": [],
   "source": [
    "df_merged = df_Product_spacyscore.merge(df2, left_on='product_name', right_on='Product_Name')"
   ]
  },
  {
   "cell_type": "code",
   "execution_count": null,
   "metadata": {
    "id": "wbA9OPG60O6z"
   },
   "outputs": [],
   "source": [
    "df_merged = df_merged.fillna(0)"
   ]
  },
  {
   "cell_type": "code",
   "execution_count": null,
   "metadata": {
    "id": "Nfhh7mly0O61"
   },
   "outputs": [],
   "source": [
    "df_merged.head()"
   ]
  },
  {
   "cell_type": "code",
   "execution_count": null,
   "metadata": {
    "id": "w9mquUbg0O62"
   },
   "outputs": [],
   "source": [
    "df_merged['Citrus_evaluation_score'] = (df_merged['spacy_similarity'] + df_merged['citrus']) / 2\n",
    "df_merged['Smooth_evaluation_score'] = (df_merged['spacy_similarity'] + df_merged['smooth']) / 2\n",
    "df_merged['Fruit_evaluation_score'] = (df_merged['spacy_similarity'] + df_merged['fruit']) / 2\n",
    "df_merged['Overall_evaluation_score'] = (df_merged['spacy_similarity'] + df_merged['fruit'] + df_merged['citrus'] + df_merged['smooth']) / 4"
   ]
  },
  {
   "cell_type": "code",
   "execution_count": null,
   "metadata": {
    "id": "yswKw7aC0O64"
   },
   "outputs": [],
   "source": [
    "df_Evaluation_Scores_Spacy = df_merged[['Product_Name', 'Citrus_evaluation_score', 'Smooth_evaluation_score', 'Fruit_evaluation_score', 'Overall_evaluation_score']]"
   ]
  },
  {
   "cell_type": "markdown",
   "metadata": {
    "id": "WU5K7Dn_dpl4"
   },
   "source": [
    "Using Spacy's cosine calculations, we found that the three beers we should recommend are actually the same beers recommending using the regular cosine similarity score calculations: \n",
    "- Double Nelson\n",
    "- Ghost In The Machine - Double Dry-Hopped\t\n",
    "- Double Dry Hopped Fort Point Pale Ale\n",
    "\n",
    "However, the overall evaluation scores are much higher than the previous evaluation scores (seen in the second dataframe). \n"
   ]
  },
  {
   "cell_type": "code",
   "execution_count": null,
   "metadata": {
    "colab": {
     "base_uri": "https://localhost:8080/",
     "height": 139
    },
    "id": "ILKG0aifdAIU",
    "outputId": "096015a3-e5d2-43f2-a76a-ce8a7506c740"
   },
   "outputs": [
    {
     "data": {
      "text/html": [
       "<div>\n",
       "<style scoped>\n",
       "    .dataframe tbody tr th:only-of-type {\n",
       "        vertical-align: middle;\n",
       "    }\n",
       "\n",
       "    .dataframe tbody tr th {\n",
       "        vertical-align: top;\n",
       "    }\n",
       "\n",
       "    .dataframe thead th {\n",
       "        text-align: right;\n",
       "    }\n",
       "</style>\n",
       "<table border=\"1\" class=\"dataframe\">\n",
       "  <thead>\n",
       "    <tr style=\"text-align: right;\">\n",
       "      <th></th>\n",
       "      <th>Product_Name</th>\n",
       "      <th>Citrus_evaluation_score</th>\n",
       "      <th>Smooth_evaluation_score</th>\n",
       "      <th>Fruit_evaluation_score</th>\n",
       "      <th>Overall_evaluation_score</th>\n",
       "    </tr>\n",
       "  </thead>\n",
       "  <tbody>\n",
       "    <tr>\n",
       "      <th>89</th>\n",
       "      <td>Double Nelson</td>\n",
       "      <td>0.542417</td>\n",
       "      <td>0.582248</td>\n",
       "      <td>0.763448</td>\n",
       "      <td>0.572859</td>\n",
       "    </tr>\n",
       "    <tr>\n",
       "      <th>119</th>\n",
       "      <td>Ghost In The Machine - Double Dry-Hopped</td>\n",
       "      <td>0.542725</td>\n",
       "      <td>0.758200</td>\n",
       "      <td>0.483160</td>\n",
       "      <td>0.537543</td>\n",
       "    </tr>\n",
       "    <tr>\n",
       "      <th>84</th>\n",
       "      <td>Double Dry Hopped Fort Point Pale Ale</td>\n",
       "      <td>0.437351</td>\n",
       "      <td>0.707951</td>\n",
       "      <td>0.622663</td>\n",
       "      <td>0.526182</td>\n",
       "    </tr>\n",
       "  </tbody>\n",
       "</table>\n",
       "</div>"
      ],
      "text/plain": [
       "                                 Product_Name  ...  Overall_evaluation_score\n",
       "89                              Double Nelson  ...                  0.572859\n",
       "119  Ghost In The Machine - Double Dry-Hopped  ...                  0.537543\n",
       "84      Double Dry Hopped Fort Point Pale Ale  ...                  0.526182\n",
       "\n",
       "[3 rows x 5 columns]"
      ]
     },
     "execution_count": 26,
     "metadata": {
      "tags": []
     },
     "output_type": "execute_result"
    }
   ],
   "source": [
    "df_Evaluation_Scores_Spacy.sort_values(by='Overall_evaluation_score', ascending=False)[0:3]"
   ]
  },
  {
   "cell_type": "markdown",
   "metadata": {
    "id": "02_-56W5fEpK"
   },
   "source": [
    "The spaCy cosine similarity and the regular cosine similarity are both calculating cosine similarities while they have different approaches. Regular cosine similarity relies on a bag-of-words model while spaCy uses word vectors. \n",
    "\n",
    "The bag of words model counts the frequencies of each word and calculates the cosine similarity score relying upon the number of words that are the same in each document. In this context, a review that contained all three attributes explicitly was given a cosine similarity score of 1. \n",
    "\n",
    "A word vector captures the context for each word by calculating the probabilities for neighboring words. The python library spaCy contains pre-built word vectors that contain these probabilities. In this context, if a review contained words that have a high probability of being associated with one of our attributes, even if the review did not explicitly mention the attributes, then it was given a high cosine similarity score. \n",
    "\n",
    "Given that our similarity scores are higher when using the spaCy library and the exact same beers were recommended, it is likely that many of our reviews mention attributes that are often associated with the three attributes (citrus, smooth, and fruit) while these reviews do not explicitly state them. This helps us rely upon a greater number of reviews and thus have greater accuracy when recommending beer. \n",
    "\n",
    "If the spaCy cosine similarity score resulted in different beers being recommended, that would indicate that the word vector approach is associating words with our attributes that may have a different meaning within the context of beers. \n",
    "\n",
    "The evaluation scores found using regular cosine calculations can be seen below. "
   ]
  },
  {
   "cell_type": "code",
   "execution_count": null,
   "metadata": {
    "colab": {
     "base_uri": "https://localhost:8080/",
     "height": 139
    },
    "id": "uBAspeWndl0C",
    "outputId": "cb6cde87-4c2c-4094-cdec-408392145d8e"
   },
   "outputs": [
    {
     "data": {
      "text/html": [
       "<div>\n",
       "<style scoped>\n",
       "    .dataframe tbody tr th:only-of-type {\n",
       "        vertical-align: middle;\n",
       "    }\n",
       "\n",
       "    .dataframe tbody tr th {\n",
       "        vertical-align: top;\n",
       "    }\n",
       "\n",
       "    .dataframe thead th {\n",
       "        text-align: right;\n",
       "    }\n",
       "</style>\n",
       "<table border=\"1\" class=\"dataframe\">\n",
       "  <thead>\n",
       "    <tr style=\"text-align: right;\">\n",
       "      <th></th>\n",
       "      <th>Product_Name</th>\n",
       "      <th>Citrus_evaluation_score</th>\n",
       "      <th>Smooth_evaluation_score</th>\n",
       "      <th>Fruit_evaluation_score</th>\n",
       "      <th>Overall_evaluation_score</th>\n",
       "    </tr>\n",
       "  </thead>\n",
       "  <tbody>\n",
       "    <tr>\n",
       "      <th>89</th>\n",
       "      <td>Double Nelson</td>\n",
       "      <td>0.301038</td>\n",
       "      <td>0.340869</td>\n",
       "      <td>0.522069</td>\n",
       "      <td>0.452169</td>\n",
       "    </tr>\n",
       "    <tr>\n",
       "      <th>119</th>\n",
       "      <td>Ghost In The Machine - Double Dry-Hopped</td>\n",
       "      <td>0.366213</td>\n",
       "      <td>0.581688</td>\n",
       "      <td>0.306648</td>\n",
       "      <td>0.449287</td>\n",
       "    </tr>\n",
       "    <tr>\n",
       "      <th>84</th>\n",
       "      <td>Double Dry Hopped Fort Point Pale Ale</td>\n",
       "      <td>0.244010</td>\n",
       "      <td>0.514610</td>\n",
       "      <td>0.429322</td>\n",
       "      <td>0.429511</td>\n",
       "    </tr>\n",
       "  </tbody>\n",
       "</table>\n",
       "</div>"
      ],
      "text/plain": [
       "                                 Product_Name  ...  Overall_evaluation_score\n",
       "89                              Double Nelson  ...                  0.452169\n",
       "119  Ghost In The Machine - Double Dry-Hopped  ...                  0.449287\n",
       "84      Double Dry Hopped Fort Point Pale Ale  ...                  0.429511\n",
       "\n",
       "[3 rows x 5 columns]"
      ]
     },
     "execution_count": 29,
     "metadata": {
      "tags": []
     },
     "output_type": "execute_result"
    }
   ],
   "source": [
    "df_Evaluation_Scores.sort_values(by='Overall_evaluation_score', ascending=False)[0:3]"
   ]
  },
  {
   "cell_type": "markdown",
   "metadata": {
    "id": "s3DLCj1kcp7m"
   },
   "source": [
    "## Task G: How Recommendations Differ if based purely on Rating and not Feature Sentiment and Similarity Scores"
   ]
  },
  {
   "cell_type": "markdown",
   "metadata": {
    "id": "TdP6J3wkS_IQ"
   },
   "source": [
    "If we relied purely on the ratings posted on the beer review website to recommend 3 products, our reccomendations would fail to capture the true opinion of the reviewers. A product-rating score is indicative of the reviewers preferences for this certain beer. However, one customer's preferences may not match another customer's preferences. If we relied merely on the stars to recommend products, we would not be accounting for the\n",
    "variety of customer's preferences. Rather, our reccomendations would purely rely on a simplistic quantitative value. \n",
    "\n",
    "Beers have a wide variety of attributes, ranging from taste, smell, color, consistency, and vintage. \n",
    "By receiving input from the customer regarding their desired attributes, we are able to personalize the recommendations and account for both the complex nature of beer and customer preferences.\n",
    "If given 3 desired beer attributes, we can identify beers that have reviews that both contain these attributes (using similarity score) \n",
    "and mention these attributes in a positive manner (using sentiment analysis of attributes). We can suit the needs of any type of customer, from a beer novice to a beer connoisseur, as long as they know what they like. \n",
    "\n",
    "If we merely recommended the top 3 products based on the reviewers with the highest user ratings and the beer's product ratings, we would be reccomending the following beers to every customer: \n",
    "- Schaarbeekse Kriek\n",
    "- Trappist Westvleteren 12 (XII)\n",
    "- Everett Porter\n",
    "\n",
    "It also is extremely difficult to select the top 3 beers when 9 beers all have the same rating of 5.0. Here, we additionally relied upon the number of reviews per product to select the top 3. In the below dataframe, you can observe the beers that received 5 star ratings."
   ]
  },
  {
   "cell_type": "code",
   "execution_count": null,
   "metadata": {
    "colab": {
     "base_uri": "https://localhost:8080/",
     "height": 377
    },
    "id": "3uL0cefeAvSO",
    "outputId": "7a6ffa01-ec6d-469c-8795-17452cd29164"
   },
   "outputs": [
    {
     "data": {
      "text/html": [
       "<div>\n",
       "<style scoped>\n",
       "    .dataframe tbody tr th:only-of-type {\n",
       "        vertical-align: middle;\n",
       "    }\n",
       "\n",
       "    .dataframe tbody tr th {\n",
       "        vertical-align: top;\n",
       "    }\n",
       "\n",
       "    .dataframe thead th {\n",
       "        text-align: right;\n",
       "    }\n",
       "</style>\n",
       "<table border=\"1\" class=\"dataframe\">\n",
       "  <thead>\n",
       "    <tr style=\"text-align: right;\">\n",
       "      <th></th>\n",
       "      <th></th>\n",
       "      <th>product_review</th>\n",
       "    </tr>\n",
       "    <tr>\n",
       "      <th>product_name</th>\n",
       "      <th>user_rating</th>\n",
       "      <th></th>\n",
       "    </tr>\n",
       "  </thead>\n",
       "  <tbody>\n",
       "    <tr>\n",
       "      <th>Mother Of All Storms</th>\n",
       "      <th>5.00</th>\n",
       "      <td>15</td>\n",
       "    </tr>\n",
       "    <tr>\n",
       "      <th>Focal Banger</th>\n",
       "      <th>5.00</th>\n",
       "      <td>16</td>\n",
       "    </tr>\n",
       "    <tr>\n",
       "      <th>Everett Porter</th>\n",
       "      <th>5.00</th>\n",
       "      <td>17</td>\n",
       "    </tr>\n",
       "    <tr>\n",
       "      <th>Kentucky Brunch Brand Stout</th>\n",
       "      <th>5.00</th>\n",
       "      <td>7</td>\n",
       "    </tr>\n",
       "    <tr>\n",
       "      <th>Double Barrel Jesus</th>\n",
       "      <th>5.00</th>\n",
       "      <td>10</td>\n",
       "    </tr>\n",
       "    <tr>\n",
       "      <th>Dinner</th>\n",
       "      <th>5.00</th>\n",
       "      <td>13</td>\n",
       "    </tr>\n",
       "    <tr>\n",
       "      <th>Trappist Westvleteren 12 (XII)</th>\n",
       "      <th>5.00</th>\n",
       "      <td>17</td>\n",
       "    </tr>\n",
       "    <tr>\n",
       "      <th>Marshmallow Handjee</th>\n",
       "      <th>5.00</th>\n",
       "      <td>14</td>\n",
       "    </tr>\n",
       "    <tr>\n",
       "      <th>Schaarbeekse Kriek</th>\n",
       "      <th>5.00</th>\n",
       "      <td>19</td>\n",
       "    </tr>\n",
       "    <tr>\n",
       "      <th>Barrel Aged Imperial German Chocolate Cupcake Stout</th>\n",
       "      <th>4.96</th>\n",
       "      <td>16</td>\n",
       "    </tr>\n",
       "  </tbody>\n",
       "</table>\n",
       "</div>"
      ],
      "text/plain": [
       "                                                                product_review\n",
       "product_name                                       user_rating                \n",
       "Mother Of All Storms                               5.00                     15\n",
       "Focal Banger                                       5.00                     16\n",
       "Everett Porter                                     5.00                     17\n",
       "Kentucky Brunch Brand Stout                        5.00                      7\n",
       "Double Barrel Jesus                                5.00                     10\n",
       "Dinner                                             5.00                     13\n",
       "Trappist Westvleteren 12 (XII)                     5.00                     17\n",
       "Marshmallow Handjee                                5.00                     14\n",
       "Schaarbeekse Kriek                                 5.00                     19\n",
       "Barrel Aged Imperial German Chocolate Cupcake S... 4.96                     16"
      ]
     },
     "execution_count": 39,
     "metadata": {
      "tags": []
     },
     "output_type": "execute_result"
    }
   ],
   "source": [
    "highest_rated_beers = beer_review.groupby(['product_name','user_rating',]).count().sort_values(by = 'user_rating', ascending=False)\n",
    "highest_rated_beers.iloc[:10]"
   ]
  },
  {
   "cell_type": "markdown",
   "metadata": {
    "id": "drVTSJodH37o"
   },
   "source": [
    "\n",
    "\n",
    "\n",
    "However, when seeking to recomend a product based on the customer's preferences and the insights gained from the reviews, we found the following three beers:\n",
    "\n",
    "- Double Nelson\n",
    "- Ghost In The Machine - Double Dry-Hopped\n",
    "- Double Dry Hopped Fort Point Pale Ale\n",
    "\n",
    "These three beers would not have been recommended if we did not incorporate cosine similarity or sentiment analysis as they were not in the list of top rated beers. However, the customer is more likely to enjoy these beers as we know they match their specified preferences. \n",
    "\n",
    "An additional benefit of this approach is that if the customer ranked their desired attributes in order of preference, we would have additional insight into recommending a beer. For example, if this customer preferred fruity beers over smooth and citrus beers, we would recommend the Double Nelson as it had the highest evaluation score for the fruit attribute. \n"
   ]
  },
  {
   "cell_type": "code",
   "execution_count": null,
   "metadata": {
    "colab": {
     "base_uri": "https://localhost:8080/",
     "height": 139
    },
    "id": "RxHe7UNxfhRd",
    "outputId": "de6d175e-af3d-4cbb-e063-67706028bc46"
   },
   "outputs": [
    {
     "data": {
      "text/html": [
       "<div>\n",
       "<style scoped>\n",
       "    .dataframe tbody tr th:only-of-type {\n",
       "        vertical-align: middle;\n",
       "    }\n",
       "\n",
       "    .dataframe tbody tr th {\n",
       "        vertical-align: top;\n",
       "    }\n",
       "\n",
       "    .dataframe thead th {\n",
       "        text-align: right;\n",
       "    }\n",
       "</style>\n",
       "<table border=\"1\" class=\"dataframe\">\n",
       "  <thead>\n",
       "    <tr style=\"text-align: right;\">\n",
       "      <th></th>\n",
       "      <th>Product_Name</th>\n",
       "      <th>Citrus_evaluation_score</th>\n",
       "      <th>Smooth_evaluation_score</th>\n",
       "      <th>Fruit_evaluation_score</th>\n",
       "      <th>Overall_evaluation_score</th>\n",
       "    </tr>\n",
       "  </thead>\n",
       "  <tbody>\n",
       "    <tr>\n",
       "      <th>89</th>\n",
       "      <td>Double Nelson</td>\n",
       "      <td>0.542417</td>\n",
       "      <td>0.582248</td>\n",
       "      <td>0.763448</td>\n",
       "      <td>0.572859</td>\n",
       "    </tr>\n",
       "    <tr>\n",
       "      <th>119</th>\n",
       "      <td>Ghost In The Machine - Double Dry-Hopped</td>\n",
       "      <td>0.542725</td>\n",
       "      <td>0.758200</td>\n",
       "      <td>0.483160</td>\n",
       "      <td>0.537543</td>\n",
       "    </tr>\n",
       "    <tr>\n",
       "      <th>84</th>\n",
       "      <td>Double Dry Hopped Fort Point Pale Ale</td>\n",
       "      <td>0.437351</td>\n",
       "      <td>0.707951</td>\n",
       "      <td>0.622663</td>\n",
       "      <td>0.526182</td>\n",
       "    </tr>\n",
       "  </tbody>\n",
       "</table>\n",
       "</div>"
      ],
      "text/plain": [
       "                                 Product_Name  ...  Overall_evaluation_score\n",
       "89                              Double Nelson  ...                  0.572859\n",
       "119  Ghost In The Machine - Double Dry-Hopped  ...                  0.537543\n",
       "84      Double Dry Hopped Fort Point Pale Ale  ...                  0.526182\n",
       "\n",
       "[3 rows x 5 columns]"
      ]
     },
     "execution_count": 30,
     "metadata": {
      "tags": []
     },
     "output_type": "execute_result"
    }
   ],
   "source": [
    "df_Evaluation_Scores_Spacy.sort_values(by='Overall_evaluation_score', ascending=False)[0:3]"
   ]
  }
 ],
 "metadata": {
  "colab": {
   "collapsed_sections": [
    "MZAZeqtJvSRq"
   ],
   "name": "Beer_Analysis.ipynb",
   "provenance": []
  },
  "kernelspec": {
   "display_name": "Python 3",
   "language": "python",
   "name": "python3"
  },
  "language_info": {
   "codemirror_mode": {
    "name": "ipython",
    "version": 3
   },
   "file_extension": ".py",
   "mimetype": "text/x-python",
   "name": "python",
   "nbconvert_exporter": "python",
   "pygments_lexer": "ipython3",
   "version": "3.7.3"
  }
 },
 "nbformat": 4,
 "nbformat_minor": 1
}
