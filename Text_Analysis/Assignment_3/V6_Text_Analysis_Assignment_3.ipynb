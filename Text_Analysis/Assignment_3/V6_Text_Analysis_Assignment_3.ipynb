{
 "cells": [
  {
   "cell_type": "markdown",
   "metadata": {
    "id": "LMuXfoocZFgX"
   },
   "source": [
    "# Text Analysis Assignment #3\n",
    "#### Names: Ali Daanesh Sayed (as92998), Bhavna Kaparaju (bgk378), Callie Gilmore (cgg756), Dawson Cook (dcc2436), India Lindsay (igl257)\n",
    "#### Section: 8:30 am"
   ]
  },
  {
   "cell_type": "markdown",
   "metadata": {
    "id": "jM1zk3eZnWV8"
   },
   "source": [
    "## Insta Scraper"
   ]
  },
  {
   "cell_type": "code",
   "execution_count": 3,
   "metadata": {
    "id": "qD0oH4eEe4TB"
   },
   "outputs": [
    {
     "name": "stdout",
     "output_type": "stream",
     "text": [
      "Collecting instaloader\n",
      "  Downloading instaloader-4.5.3.tar.gz (47 kB)\n",
      "Requirement already satisfied: requests>=2.4 in c:\\users\\bhavn\\anaconda3\\lib\\site-packages (from instaloader) (2.22.0)\n",
      "Requirement already satisfied: chardet<3.1.0,>=3.0.2 in c:\\users\\bhavn\\anaconda3\\lib\\site-packages (from requests>=2.4->instaloader) (3.0.4)\n",
      "Requirement already satisfied: certifi>=2017.4.17 in c:\\users\\bhavn\\anaconda3\\lib\\site-packages (from requests>=2.4->instaloader) (2019.11.28)\n",
      "Requirement already satisfied: idna<2.9,>=2.5 in c:\\users\\bhavn\\anaconda3\\lib\\site-packages (from requests>=2.4->instaloader) (2.8)\n",
      "Requirement already satisfied: urllib3!=1.25.0,!=1.25.1,<1.26,>=1.21.1 in c:\\users\\bhavn\\anaconda3\\lib\\site-packages (from requests>=2.4->instaloader) (1.25.8)\n",
      "Building wheels for collected packages: instaloader\n",
      "  Building wheel for instaloader (setup.py): started\n",
      "  Building wheel for instaloader (setup.py): finished with status 'done'\n",
      "  Created wheel for instaloader: filename=instaloader-4.5.3-py3-none-any.whl size=50848 sha256=459bdbe5e6af1b7776162e0a2a43006f96cb0ad12191e71fe855189863a472e8\n",
      "  Stored in directory: c:\\users\\bhavn\\appdata\\local\\pip\\cache\\wheels\\00\\cb\\d8\\6add73b3101ae585a6d6e93904320f69fd0508fe46e5a98019\n",
      "Successfully built instaloader\n",
      "Installing collected packages: instaloader\n",
      "Successfully installed instaloader-4.5.3\n"
     ]
    },
    {
     "name": "stderr",
     "output_type": "stream",
     "text": [
      "C:\\Users\\bhavn\\Anaconda3\\lib\\site-packages\\win_unicode_console\\__init__.py:31: RuntimeWarning: sys.stdin.encoding == 'cp1252', whereas sys.stdout.encoding == 'UTF-8', readline hook consumer may assume they are the same\n",
      "  readline_hook.enable(use_pyreadline=use_pyreadline)\n"
     ]
    }
   ],
   "source": [
    "# Imports and Installs\n",
    "!pip install instaloader\n",
    "import instaloader\n",
    "import pandas as pd \n",
    "import time\n",
    "import os"
   ]
  },
  {
   "cell_type": "code",
   "execution_count": null,
   "metadata": {
    "id": "YLKPWBhjjXjz"
   },
   "outputs": [],
   "source": [
    "# Getting Zara\n",
    "L = instaloader.Instaloader()\n",
    "user_name = 'zara'\n",
    "profile = instaloader.Profile.from_username(L.context, user_name)\n",
    "\n",
    "# Converting to DF\n",
    "posts_df = pd.DataFrame(columns=['num_comments', 'num_likes', 'caption', 'image_url', 'is_video'])\n",
    "\n",
    "# URL of Zara's Instagram\n",
    "url = 'https://www.instagram.com/p/{}/'\n",
    "\n",
    "# Grabbing 700 posts just in case\n",
    "posts = profile.get_posts()\n",
    "posts_scrape = 700\n",
    "number = 0 "
   ]
  },
  {
   "cell_type": "code",
   "execution_count": null,
   "metadata": {
    "id": "qrnEc1WslPL-"
   },
   "outputs": [],
   "source": [
    "# Scraping # of comments, # of likes, caption, image_url, is_video\n",
    "for post in posts:\n",
    "    if number < posts_scrape:\n",
    "        number += 1\n",
    "        posts_df = posts_df.append({'num_comments': post.comments,\n",
    "                                    'num_likes': post.likes,\n",
    "                                    'caption': post.caption,\n",
    "                                    'image_url': post.url, \n",
    "                                    'is_video': post.is_video}, ignore_index=True)\n",
    "        posts_df.is_video.astype('bool')\n",
    "        if posts_df[posts_df.is_video == False].shape[0] == posts_scrape:\n",
    "            number = posts_scrape      \n",
    "    else:\n",
    "        break"
   ]
  },
  {
   "cell_type": "code",
   "execution_count": null,
   "metadata": {
    "id": "hGXbFfQDlcNE"
   },
   "outputs": [],
   "source": [
    "# Only grabbing posts by dropping any values where is_video column is true\n",
    "posts_df = posts_df[posts_df['is_video'] == False]\n",
    "# Dropping is_video column as it is no longer  needed\n",
    "posts_df = posts_df.drop('is_video', 1)\n",
    "# Exporting as CSV\n",
    "posts_df.to_csv('insta.csv', index=False)"
   ]
  },
  {
   "cell_type": "code",
   "execution_count": null,
   "metadata": {
    "colab": {
     "base_uri": "https://localhost:8080/",
     "height": 203
    },
    "id": "3Lleoc0GWEA5",
    "outputId": "500a6929-3c4d-43cc-e371-5ca70add9fb9"
   },
   "outputs": [
    {
     "data": {
      "text/html": [
       "<div>\n",
       "<style scoped>\n",
       "    .dataframe tbody tr th:only-of-type {\n",
       "        vertical-align: middle;\n",
       "    }\n",
       "\n",
       "    .dataframe tbody tr th {\n",
       "        vertical-align: top;\n",
       "    }\n",
       "\n",
       "    .dataframe thead th {\n",
       "        text-align: right;\n",
       "    }\n",
       "</style>\n",
       "<table border=\"1\" class=\"dataframe\">\n",
       "  <thead>\n",
       "    <tr style=\"text-align: right;\">\n",
       "      <th></th>\n",
       "      <th>num_comments</th>\n",
       "      <th>num_likes</th>\n",
       "      <th>caption</th>\n",
       "      <th>image_url</th>\n",
       "    </tr>\n",
       "  </thead>\n",
       "  <tbody>\n",
       "    <tr>\n",
       "      <th>0</th>\n",
       "      <td>421</td>\n",
       "      <td>73609</td>\n",
       "      <td>FW20 Campaign. Kids Collection\\nCreative Direc...</td>\n",
       "      <td>https://scontent-dfw5-2.cdninstagram.com/v/t51...</td>\n",
       "    </tr>\n",
       "    <tr>\n",
       "      <th>1</th>\n",
       "      <td>126</td>\n",
       "      <td>38690</td>\n",
       "      <td>FW20 Campaign. Kids Collection\\nCreative Direc...</td>\n",
       "      <td>https://scontent-dfw5-2.cdninstagram.com/v/t51...</td>\n",
       "    </tr>\n",
       "    <tr>\n",
       "      <th>2</th>\n",
       "      <td>196</td>\n",
       "      <td>56404</td>\n",
       "      <td>FW20 Campaign. Kids Collection\\nCreative Direc...</td>\n",
       "      <td>https://scontent-dfw5-2.cdninstagram.com/v/t51...</td>\n",
       "    </tr>\n",
       "    <tr>\n",
       "      <th>3</th>\n",
       "      <td>106</td>\n",
       "      <td>34923</td>\n",
       "      <td>FW20 Campaign. Man Collection\\nCreative Direct...</td>\n",
       "      <td>https://scontent-dfw5-2.cdninstagram.com/v/t51...</td>\n",
       "    </tr>\n",
       "    <tr>\n",
       "      <th>4</th>\n",
       "      <td>189</td>\n",
       "      <td>34424</td>\n",
       "      <td>FW20 Campaign. Man Collection\\nCreative Direct...</td>\n",
       "      <td>https://scontent-dfw5-2.cdninstagram.com/v/t51...</td>\n",
       "    </tr>\n",
       "  </tbody>\n",
       "</table>\n",
       "</div>"
      ],
      "text/plain": [
       "  num_comments num_likes                                            caption  \\\n",
       "0          421     73609  FW20 Campaign. Kids Collection\\nCreative Direc...   \n",
       "1          126     38690  FW20 Campaign. Kids Collection\\nCreative Direc...   \n",
       "2          196     56404  FW20 Campaign. Kids Collection\\nCreative Direc...   \n",
       "3          106     34923  FW20 Campaign. Man Collection\\nCreative Direct...   \n",
       "4          189     34424  FW20 Campaign. Man Collection\\nCreative Direct...   \n",
       "\n",
       "                                           image_url  \n",
       "0  https://scontent-dfw5-2.cdninstagram.com/v/t51...  \n",
       "1  https://scontent-dfw5-2.cdninstagram.com/v/t51...  \n",
       "2  https://scontent-dfw5-2.cdninstagram.com/v/t51...  \n",
       "3  https://scontent-dfw5-2.cdninstagram.com/v/t51...  \n",
       "4  https://scontent-dfw5-2.cdninstagram.com/v/t51...  "
      ]
     },
     "execution_count": 5,
     "metadata": {
      "tags": []
     },
     "output_type": "execute_result"
    }
   ],
   "source": [
    "posts_df = posts_df.reset_index(drop=True)\n",
    "posts_df.head(5)"
   ]
  },
  {
   "cell_type": "markdown",
   "metadata": {
    "id": "PTvluaE9nZ3V"
   },
   "source": [
    "## Google Vision"
   ]
  },
  {
   "cell_type": "code",
   "execution_count": 1,
   "metadata": {
    "colab": {
     "base_uri": "https://localhost:8080/",
     "height": 73,
     "resources": {
      "http://localhost:8080/nbextensions/google.colab/files.js": {
       "data": "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",
       "headers": [
        [
         "content-type",
         "application/javascript"
        ]
       ],
       "ok": true,
       "status": 200,
       "status_text": ""
      }
     }
    },
    "id": "rem_WC1DecBc",
    "outputId": "69adcf75-b8ee-4b17-bc88-84d51edbf7de"
   },
   "outputs": [
    {
     "data": {
      "text/html": [
       "\n",
       "     <input type=\"file\" id=\"files-1f4477e9-ee2d-4fb4-aefc-c6b30fb542e6\" name=\"files[]\" multiple disabled\n",
       "        style=\"border:none\" />\n",
       "     <output id=\"result-1f4477e9-ee2d-4fb4-aefc-c6b30fb542e6\">\n",
       "      Upload widget is only available when the cell has been executed in the\n",
       "      current browser session. Please rerun this cell to enable.\n",
       "      </output>\n",
       "      <script src=\"/nbextensions/google.colab/files.js\"></script> "
      ],
      "text/plain": [
       "<IPython.core.display.HTML object>"
      ]
     },
     "metadata": {
      "tags": []
     },
     "output_type": "display_data"
    },
    {
     "name": "stdout",
     "output_type": "stream",
     "text": [
      "Saving insta_labels.csv to insta_labels.csv\n"
     ]
    }
   ],
   "source": [
    "from google.colab import files \n",
    "uploaded = files.upload()"
   ]
  },
  {
   "cell_type": "code",
   "execution_count": 5,
   "metadata": {
    "id": "kF5HCNOCeq0t"
   },
   "outputs": [],
   "source": [
    "posts_df = pd.read_csv(\"insta_labels.csv\")"
   ]
  },
  {
   "cell_type": "code",
   "execution_count": null,
   "metadata": {
    "id": "LRxtl0HCnbFa"
   },
   "outputs": [],
   "source": [
    "#!pip install google-cloud-vision"
   ]
  },
  {
   "cell_type": "code",
   "execution_count": null,
   "metadata": {
    "id": "ZwpIvKlzuGk2"
   },
   "outputs": [],
   "source": [
    "from google.cloud import vision\n",
    "import os\n",
    "\n",
    "\"\"\"Initialize Environment Variables to enable authentication with google Vision API\"\"\"\n",
    "#credential_path = r\"C:\\Users\\india\\Documents\\text-assignment3-94cea931a4be.json\" \n",
    "os.environ[\"GOOGLE_APPLICATION_CREDENTIALS\"] = credential_path\n",
    "\n",
    "client = vision.ImageAnnotatorClient()\n",
    "image = vision.Image() \n",
    "\n",
    "\"\"\"storing urls for each image and file names\"\"\"\n",
    "file_name=[]\n",
    "labels=[]\n",
    "image_paths = []\n",
    "counter=0\n",
    "\n",
    "for each_img in posts_df.image_url:\n",
    "  image_paths.append(each_img)\n",
    "  file_name.append(str(posts_df.image_url.index[counter]+1) + \".jpg\")\n",
    "  counter+=1"
   ]
  },
  {
   "cell_type": "code",
   "execution_count": null,
   "metadata": {
    "id": "8n4AVlFh2Ipw"
   },
   "outputs": [],
   "source": [
    "def getlabelsforRemoteImage(uri):\n",
    "    \"\"\"Detects labels in the file located in Google Cloud Storage or on the\n",
    "    Web.\"\"\"\n",
    "    labels_list=[]\n",
    "    image.source.image_uri = uri\n",
    "\n",
    "    response = client.label_detection(image=image)\n",
    "    labels = response.label_annotations\n",
    "    \n",
    "    for label in labels:\n",
    "        labels_list.append(label.description)\n",
    "    print(uri)\n",
    "    print(labels_list)\n",
    "    return(labels_list)\n",
    "\n",
    "\"\"\"grabbing photo labels for each image url in our dataset\"\"\"\n",
    "for i in image_paths:\n",
    "    labels.append(getlabelsforRemoteImage(i))"
   ]
  },
  {
   "cell_type": "code",
   "execution_count": null,
   "metadata": {
    "id": "-rxfIzlqDriO"
   },
   "outputs": [],
   "source": [
    "posts_df['labels']=pd.Series(labels) #storing labels in our dataframe\n"
   ]
  },
  {
   "cell_type": "markdown",
   "metadata": {
    "id": "aBQ1Iezl9cxk"
   },
   "source": [
    "## Task A"
   ]
  },
  {
   "cell_type": "code",
   "execution_count": null,
   "metadata": {
    "id": "E0ueKAFm9cPq"
   },
   "outputs": [],
   "source": [
    "# Scaling Likes and Comments\n",
    "posts_df['scaled_likes'] = posts_df['num_likes'] / posts_df['num_likes'].max()\n",
    "posts_df['scaled_comms'] = posts_df['num_comments'] / posts_df['num_comments'].max()\n",
    "\n",
    "# Creating Engagement Score\n",
    "posts_df['engagement_score'] = .4 * posts_df['scaled_likes'] + .6 * posts_df['scaled_comms']\n",
    "\n",
    "# Qualitative 'High' or 'Low'\n",
    "def engagement_qual(eng_score):\n",
    "    if eng_score > posts_df['engagement_score'].median():\n",
    "        return 'High'\n",
    "    else:\n",
    "        return 'Low'\n",
    "\n",
    "# Binary 1 or 0 to perform other tasks\n",
    "def engagement_bin(eng_score):\n",
    "    if eng_score > posts_df['engagement_score'].median():\n",
    "        return 1\n",
    "    else:\n",
    "        return 0"
   ]
  },
  {
   "cell_type": "code",
   "execution_count": null,
   "metadata": {
    "id": "TtIv-GTaXVd5"
   },
   "outputs": [],
   "source": [
    "#Creating Engagement Columns\n",
    "posts_df['engagement'] = posts_df['engagement_score'].apply(engagement_bin)\n",
    "posts_df['engagement_qual'] = posts_df['engagement_score'].apply(engagement_qual)"
   ]
  },
  {
   "cell_type": "code",
   "execution_count": 7,
   "metadata": {
    "colab": {
     "base_uri": "https://localhost:8080/",
     "height": 544
    },
    "id": "q_WRMzz6VAKn",
    "outputId": "17312a6a-8e1c-4a5b-a7f2-3e2b5027deb5"
   },
   "outputs": [
    {
     "data": {
      "text/html": [
       "<div>\n",
       "<style scoped>\n",
       "    .dataframe tbody tr th:only-of-type {\n",
       "        vertical-align: middle;\n",
       "    }\n",
       "\n",
       "    .dataframe tbody tr th {\n",
       "        vertical-align: top;\n",
       "    }\n",
       "\n",
       "    .dataframe thead th {\n",
       "        text-align: right;\n",
       "    }\n",
       "</style>\n",
       "<table border=\"1\" class=\"dataframe\">\n",
       "  <thead>\n",
       "    <tr style=\"text-align: right;\">\n",
       "      <th></th>\n",
       "      <th>num_comments</th>\n",
       "      <th>num_likes</th>\n",
       "      <th>caption</th>\n",
       "      <th>image_url</th>\n",
       "      <th>labels</th>\n",
       "      <th>scaled_likes</th>\n",
       "      <th>scaled_comms</th>\n",
       "      <th>engagement_score</th>\n",
       "      <th>engagement</th>\n",
       "      <th>engagement_qual</th>\n",
       "    </tr>\n",
       "  </thead>\n",
       "  <tbody>\n",
       "    <tr>\n",
       "      <th>0</th>\n",
       "      <td>405</td>\n",
       "      <td>73222</td>\n",
       "      <td>FW20 Campaign. Kids Collection\\nCreative Direc...</td>\n",
       "      <td>https://scontent-iad3-1.cdninstagram.com/v/t51...</td>\n",
       "      <td>['Clothing', 'Fashion', 'Outerwear', 'Fur', 'S...</td>\n",
       "      <td>0.249823</td>\n",
       "      <td>0.124769</td>\n",
       "      <td>0.174791</td>\n",
       "      <td>1</td>\n",
       "      <td>High</td>\n",
       "    </tr>\n",
       "    <tr>\n",
       "      <th>1</th>\n",
       "      <td>124</td>\n",
       "      <td>38537</td>\n",
       "      <td>FW20 Campaign. Kids Collection\\nCreative Direc...</td>\n",
       "      <td>https://scontent-iad3-1.cdninstagram.com/v/t51...</td>\n",
       "      <td>['Sky', 'Darkness', 'Room', 'Adventure game', ...</td>\n",
       "      <td>0.131483</td>\n",
       "      <td>0.038201</td>\n",
       "      <td>0.075514</td>\n",
       "      <td>0</td>\n",
       "      <td>Low</td>\n",
       "    </tr>\n",
       "    <tr>\n",
       "      <th>2</th>\n",
       "      <td>194</td>\n",
       "      <td>56141</td>\n",
       "      <td>FW20 Campaign. Kids Collection\\nCreative Direc...</td>\n",
       "      <td>https://scontent-iad3-1.cdninstagram.com/v/t51...</td>\n",
       "      <td>['Cool', 'Fashion', 'Jeans', 'Sitting', 'Denim...</td>\n",
       "      <td>0.191545</td>\n",
       "      <td>0.059766</td>\n",
       "      <td>0.112478</td>\n",
       "      <td>0</td>\n",
       "      <td>Low</td>\n",
       "    </tr>\n",
       "    <tr>\n",
       "      <th>3</th>\n",
       "      <td>104</td>\n",
       "      <td>34764</td>\n",
       "      <td>FW20 Campaign. Man Collection\\nCreative Direct...</td>\n",
       "      <td>https://scontent-iad3-1.cdninstagram.com/v/t51...</td>\n",
       "      <td>['Hair', 'Face', 'Hairstyle', 'Eyebrow', 'Fore...</td>\n",
       "      <td>0.118610</td>\n",
       "      <td>0.032039</td>\n",
       "      <td>0.066668</td>\n",
       "      <td>0</td>\n",
       "      <td>Low</td>\n",
       "    </tr>\n",
       "    <tr>\n",
       "      <th>4</th>\n",
       "      <td>187</td>\n",
       "      <td>34312</td>\n",
       "      <td>FW20 Campaign. Man Collection\\nCreative Direct...</td>\n",
       "      <td>https://scontent-iad3-1.cdninstagram.com/v/t51...</td>\n",
       "      <td>['Snapshot', 'Standing', 'Hand', 'Arm', 'Human...</td>\n",
       "      <td>0.117068</td>\n",
       "      <td>0.057609</td>\n",
       "      <td>0.081393</td>\n",
       "      <td>0</td>\n",
       "      <td>Low</td>\n",
       "    </tr>\n",
       "  </tbody>\n",
       "</table>\n",
       "</div>"
      ],
      "text/plain": [
       "   num_comments  num_likes  ... engagement engagement_qual\n",
       "0           405      73222  ...          1            High\n",
       "1           124      38537  ...          0             Low\n",
       "2           194      56141  ...          0             Low\n",
       "3           104      34764  ...          0             Low\n",
       "4           187      34312  ...          0             Low\n",
       "\n",
       "[5 rows x 10 columns]"
      ]
     },
     "execution_count": 7,
     "metadata": {
      "tags": []
     },
     "output_type": "execute_result"
    }
   ],
   "source": [
    "posts_df.head()"
   ]
  },
  {
   "cell_type": "code",
   "execution_count": null,
   "metadata": {
    "id": "I_Nb6C_1Qowg"
   },
   "outputs": [],
   "source": [
    "posts_df.to_csv('insta_labels.csv', index=False) #saving to csv"
   ]
  },
  {
   "cell_type": "markdown",
   "metadata": {
    "id": "b61Kvx-CYD4T"
   },
   "source": [
    "## Task B\n",
    "Using TF-IDF scores within a logistic regression to predict engagement."
   ]
  },
  {
   "cell_type": "code",
   "execution_count": 8,
   "metadata": {
    "id": "-LCqbk5QYFBi"
   },
   "outputs": [],
   "source": [
    "from sklearn.feature_extraction.text import TfidfVectorizer\n",
    "from sklearn.model_selection import train_test_split\n",
    "from sklearn.linear_model import LogisticRegression\n",
    "from sklearn.metrics import confusion_matrix\n",
    "from sklearn.metrics import classification_report\n",
    "\n",
    "\n",
    "def predicting_eng(X,y):\n",
    "  \"\"\" logistic regression model using 80% train, 20% test split\"\"\"\n",
    "  X_train, X_test, y_train,y_test = train_test_split(X,y,test_size= 0.2, random_state=1)\n",
    "\n",
    "  \"\"\"initialize TFIDFVectorizer\"\"\"\n",
    "  tfidf_vectorizer = TfidfVectorizer(stop_words='english',use_idf=True)\n",
    "  fitted_vectorizer=tfidf_vectorizer.fit(X_train)\n",
    "  X_train_tfidf=fitted_vectorizer.transform(X_train)\n",
    "  X_test_tfidf = tfidf_vectorizer.transform(X_test)\n",
    "\n",
    "  \"\"\"fitting logistic regression model to data \"\"\"\n",
    "\n",
    "  model = LogisticRegression()\n",
    "  model.fit(X_train_tfidf,y_train)\n",
    "\n",
    "  \"\"\" Predicting on test data\"\"\" \n",
    "  y_fitted = model.predict(X_test_tfidf)\n",
    "\n",
    "  \"\"\"confusion matrix\"\"\"\n",
    "  print(confusion_matrix(y_test,y_fitted))\n",
    "  \n",
    "  \"\"\"classification report\"\"\"\n",
    "  print(classification_report(y_test,y_fitted))\n"
   ]
  },
  {
   "cell_type": "markdown",
   "metadata": {
    "id": "Jmiqe8SxOLgz"
   },
   "source": [
    "### Predicting engagement using only image labels"
   ]
  },
  {
   "cell_type": "code",
   "execution_count": 9,
   "metadata": {
    "colab": {
     "base_uri": "https://localhost:8080/",
     "height": 230
    },
    "id": "UJU6auZCM2ta",
    "outputId": "68e028b7-5b2f-4dc8-c408-cb53acf12466"
   },
   "outputs": [
    {
     "name": "stdout",
     "output_type": "stream",
     "text": [
      "Confusion Matrix and Classification Report: \n",
      "[[32 25]\n",
      " [17 40]]\n",
      "              precision    recall  f1-score   support\n",
      "\n",
      "           0       0.65      0.56      0.60        57\n",
      "           1       0.62      0.70      0.66        57\n",
      "\n",
      "    accuracy                           0.63       114\n",
      "   macro avg       0.63      0.63      0.63       114\n",
      "weighted avg       0.63      0.63      0.63       114\n",
      "\n"
     ]
    }
   ],
   "source": [
    "X = posts_df['labels']\n",
    "y = posts_df['engagement']\n",
    "print(\"Confusion Matrix and Classification Report: \")\n",
    "predicting_eng(X,y)"
   ]
  },
  {
   "cell_type": "markdown",
   "metadata": {
    "id": "Y2TfbBEfPhnB"
   },
   "source": [
    "### Predicting engagement using only captions"
   ]
  },
  {
   "cell_type": "code",
   "execution_count": 10,
   "metadata": {
    "colab": {
     "base_uri": "https://localhost:8080/",
     "height": 230
    },
    "id": "Ri25xUMKOY8O",
    "outputId": "df416ad2-3af9-47a6-d284-2bbfa0e0a5a5"
   },
   "outputs": [
    {
     "name": "stdout",
     "output_type": "stream",
     "text": [
      "Confusion Matrix and Classification Report: \n",
      "[[38 19]\n",
      " [16 41]]\n",
      "              precision    recall  f1-score   support\n",
      "\n",
      "           0       0.70      0.67      0.68        57\n",
      "           1       0.68      0.72      0.70        57\n",
      "\n",
      "    accuracy                           0.69       114\n",
      "   macro avg       0.69      0.69      0.69       114\n",
      "weighted avg       0.69      0.69      0.69       114\n",
      "\n"
     ]
    }
   ],
   "source": [
    "X = posts_df['caption']\n",
    "y = posts_df['engagement']\n",
    "print(\"Confusion Matrix and Classification Report: \")\n",
    "predicting_eng(X,y)"
   ]
  },
  {
   "cell_type": "markdown",
   "metadata": {
    "id": "UPvXcRGHVbjA"
   },
   "source": [
    "### Predicting engagement using a combination of captions and image labels"
   ]
  },
  {
   "cell_type": "code",
   "execution_count": 11,
   "metadata": {
    "colab": {
     "base_uri": "https://localhost:8080/",
     "height": 230
    },
    "id": "SHEZxovyVfFA",
    "outputId": "c8d33ff7-d3c9-4498-d4a1-e970d69b7a08"
   },
   "outputs": [
    {
     "name": "stdout",
     "output_type": "stream",
     "text": [
      "Confusion Matrix and Classification Report: \n",
      "[[35 22]\n",
      " [14 43]]\n",
      "              precision    recall  f1-score   support\n",
      "\n",
      "           0       0.71      0.61      0.66        57\n",
      "           1       0.66      0.75      0.70        57\n",
      "\n",
      "    accuracy                           0.68       114\n",
      "   macro avg       0.69      0.68      0.68       114\n",
      "weighted avg       0.69      0.68      0.68       114\n",
      "\n"
     ]
    }
   ],
   "source": [
    "posts_df['caption_labels'] = posts_df['caption'] + ' ' + posts_df['labels']\n",
    "X = posts_df['caption_labels']\n",
    "y = posts_df['engagement']\n",
    "print(\"Confusion Matrix and Classification Report: \")\n",
    "predicting_eng(X,y)"
   ]
  },
  {
   "cell_type": "markdown",
   "metadata": {
    "id": "SKrDfcWyVg5L"
   },
   "source": [
    "### Interpreting Our Model\n",
    "\n",
    "The engagement score was calculated by taking a weighted percentage of the number of likes and comments on a post. We set the engagement score to be equal to 1 if the users level of engagement with a post was greater than the median level for all posts. It was set to 0 if it was less than this value. This allowed our dataset to be equally balanced between the two engagement classes.\n",
    "\n",
    "When predicting engagement using only image labels, our model correctly classified 65% of posts that had an engagement of 0 and 62% that had an engagement of 1. When using only captions, we correctly classified 70% of posts with an engagement score of 0 and 68% with an engagement of 1. When combining the two, we correctly classified 71% of posts with low engagement and 66% of posts with high engagement.\n",
    "\n",
    "From these results, we can infer that using captions to predict engagement greatly increased our model's accuracy. Using both captions and labels helped improve the model's accuracy for posts with low engagement but only slightly. It decreased the model's predictive ability for posts with high engagement. This suggests that captions are very influential on a user's engagement with a post and carry more weight than the topics depicted within the image. Zara will be able to increase user response to posts by focusing on creating engaging captions."
   ]
  },
  {
   "cell_type": "markdown",
   "metadata": {
    "id": "9WTgerdZeVWZ"
   },
   "source": [
    "## Task C"
   ]
  },
  {
   "cell_type": "code",
   "execution_count": 7,
   "metadata": {
    "id": "TL1JS4LN7wD_"
   },
   "outputs": [
    {
     "name": "stdout",
     "output_type": "stream",
     "text": [
      "Requirement already satisfied: instaloader in c:\\users\\bhavn\\anaconda3\\lib\\site-packages (4.5.3)\n",
      "Requirement already satisfied: requests>=2.4 in c:\\users\\bhavn\\anaconda3\\lib\\site-packages (from instaloader) (2.22.0)\n",
      "Requirement already satisfied: certifi>=2017.4.17 in c:\\users\\bhavn\\anaconda3\\lib\\site-packages (from requests>=2.4->instaloader) (2019.11.28)\n",
      "Requirement already satisfied: idna<2.9,>=2.5 in c:\\users\\bhavn\\anaconda3\\lib\\site-packages (from requests>=2.4->instaloader) (2.8)\n",
      "Requirement already satisfied: chardet<3.1.0,>=3.0.2 in c:\\users\\bhavn\\anaconda3\\lib\\site-packages (from requests>=2.4->instaloader) (3.0.4)\n",
      "Requirement already satisfied: urllib3!=1.25.0,!=1.25.1,<1.26,>=1.21.1 in c:\\users\\bhavn\\anaconda3\\lib\\site-packages (from requests>=2.4->instaloader) (1.25.8)\n",
      "Requirement already satisfied: google-cloud in c:\\users\\bhavn\\anaconda3\\lib\\site-packages (0.34.0)\n",
      "Requirement already satisfied: google-cloud-vision in c:\\users\\bhavn\\anaconda3\\lib\\site-packages (2.0.0)\n",
      "Requirement already satisfied: proto-plus>=1.4.0 in c:\\users\\bhavn\\anaconda3\\lib\\site-packages (from google-cloud-vision) (1.11.0)\n",
      "Requirement already satisfied: libcst>=0.2.5 in c:\\users\\bhavn\\anaconda3\\lib\\site-packages (from google-cloud-vision) (0.3.13)\n",
      "Requirement already satisfied: google-api-core[grpc]<2.0.0dev,>=1.22.2 in c:\\users\\bhavn\\anaconda3\\lib\\site-packages (from google-cloud-vision) (1.23.0)\n",
      "Requirement already satisfied: protobuf>=3.12.0 in c:\\users\\bhavn\\anaconda3\\lib\\site-packages (from proto-plus>=1.4.0->google-cloud-vision) (3.13.0)\n",
      "Requirement already satisfied: typing-inspect>=0.4.0 in c:\\users\\bhavn\\anaconda3\\lib\\site-packages (from libcst>=0.2.5->google-cloud-vision) (0.6.0)\n",
      "Requirement already satisfied: typing-extensions>=3.7.4.2 in c:\\users\\bhavn\\anaconda3\\lib\\site-packages (from libcst>=0.2.5->google-cloud-vision) (3.7.4.3)\n",
      "Requirement already satisfied: pyyaml>=5.2 in c:\\users\\bhavn\\anaconda3\\lib\\site-packages (from libcst>=0.2.5->google-cloud-vision) (5.3)\n",
      "Requirement already satisfied: pytz in c:\\users\\bhavn\\anaconda3\\lib\\site-packages (from google-api-core[grpc]<2.0.0dev,>=1.22.2->google-cloud-vision) (2019.3)\n",
      "Requirement already satisfied: setuptools>=34.0.0 in c:\\users\\bhavn\\anaconda3\\lib\\site-packages (from google-api-core[grpc]<2.0.0dev,>=1.22.2->google-cloud-vision) (45.2.0.post20200210)\n",
      "Requirement already satisfied: six>=1.13.0 in c:\\users\\bhavn\\anaconda3\\lib\\site-packages (from google-api-core[grpc]<2.0.0dev,>=1.22.2->google-cloud-vision) (1.14.0)\n",
      "Requirement already satisfied: requests<3.0.0dev,>=2.18.0 in c:\\users\\bhavn\\anaconda3\\lib\\site-packages (from google-api-core[grpc]<2.0.0dev,>=1.22.2->google-cloud-vision) (2.22.0)\n",
      "Requirement already satisfied: googleapis-common-protos<2.0dev,>=1.6.0 in c:\\users\\bhavn\\anaconda3\\lib\\site-packages (from google-api-core[grpc]<2.0.0dev,>=1.22.2->google-cloud-vision) (1.52.0)\n",
      "Requirement already satisfied: google-auth<2.0dev,>=1.21.1 in c:\\users\\bhavn\\anaconda3\\lib\\site-packages (from google-api-core[grpc]<2.0.0dev,>=1.22.2->google-cloud-vision) (1.22.1)\n",
      "Requirement already satisfied: grpcio<2.0dev,>=1.29.0; extra == \"grpc\" in c:\\users\\bhavn\\anaconda3\\lib\\site-packages (from google-api-core[grpc]<2.0.0dev,>=1.22.2->google-cloud-vision) (1.33.1)\n",
      "Requirement already satisfied: mypy-extensions>=0.3.0 in c:\\users\\bhavn\\anaconda3\\lib\\site-packages (from typing-inspect>=0.4.0->libcst>=0.2.5->google-cloud-vision) (0.4.3)\n",
      "Requirement already satisfied: urllib3!=1.25.0,!=1.25.1,<1.26,>=1.21.1 in c:\\users\\bhavn\\anaconda3\\lib\\site-packages (from requests<3.0.0dev,>=2.18.0->google-api-core[grpc]<2.0.0dev,>=1.22.2->google-cloud-vision) (1.25.8)\n",
      "Requirement already satisfied: certifi>=2017.4.17 in c:\\users\\bhavn\\anaconda3\\lib\\site-packages (from requests<3.0.0dev,>=2.18.0->google-api-core[grpc]<2.0.0dev,>=1.22.2->google-cloud-vision) (2019.11.28)\n",
      "Requirement already satisfied: chardet<3.1.0,>=3.0.2 in c:\\users\\bhavn\\anaconda3\\lib\\site-packages (from requests<3.0.0dev,>=2.18.0->google-api-core[grpc]<2.0.0dev,>=1.22.2->google-cloud-vision) (3.0.4)\n",
      "Requirement already satisfied: idna<2.9,>=2.5 in c:\\users\\bhavn\\anaconda3\\lib\\site-packages (from requests<3.0.0dev,>=2.18.0->google-api-core[grpc]<2.0.0dev,>=1.22.2->google-cloud-vision) (2.8)\n",
      "Requirement already satisfied: rsa<5,>=3.1.4; python_version >= \"3.5\" in c:\\users\\bhavn\\anaconda3\\lib\\site-packages (from google-auth<2.0dev,>=1.21.1->google-api-core[grpc]<2.0.0dev,>=1.22.2->google-cloud-vision) (4.6)\n",
      "Requirement already satisfied: pyasn1-modules>=0.2.1 in c:\\users\\bhavn\\anaconda3\\lib\\site-packages (from google-auth<2.0dev,>=1.21.1->google-api-core[grpc]<2.0.0dev,>=1.22.2->google-cloud-vision) (0.2.8)\n",
      "Requirement already satisfied: cachetools<5.0,>=2.0.0 in c:\\users\\bhavn\\anaconda3\\lib\\site-packages (from google-auth<2.0dev,>=1.21.1->google-api-core[grpc]<2.0.0dev,>=1.22.2->google-cloud-vision) (4.1.1)\n",
      "Requirement already satisfied: pyasn1>=0.1.3 in c:\\users\\bhavn\\anaconda3\\lib\\site-packages (from rsa<5,>=3.1.4; python_version >= \"3.5\"->google-auth<2.0dev,>=1.21.1->google-api-core[grpc]<2.0.0dev,>=1.22.2->google-cloud-vision) (0.4.8)\n",
      "Requirement already satisfied: pyLDAvis in c:\\users\\bhavn\\anaconda3\\lib\\site-packages (2.1.2)\n",
      "Requirement already satisfied: numexpr in c:\\users\\bhavn\\anaconda3\\lib\\site-packages (from pyLDAvis) (2.7.1)\n",
      "Requirement already satisfied: funcy in c:\\users\\bhavn\\anaconda3\\lib\\site-packages (from pyLDAvis) (1.15)\n",
      "Requirement already satisfied: numpy>=1.9.2 in c:\\users\\bhavn\\anaconda3\\lib\\site-packages (from pyLDAvis) (1.18.1)\n",
      "Requirement already satisfied: pytest in c:\\users\\bhavn\\anaconda3\\lib\\site-packages (from pyLDAvis) (5.3.5)\n",
      "Requirement already satisfied: pandas>=0.17.0 in c:\\users\\bhavn\\anaconda3\\lib\\site-packages (from pyLDAvis) (1.0.1)\n",
      "Requirement already satisfied: jinja2>=2.7.2 in c:\\users\\bhavn\\anaconda3\\lib\\site-packages (from pyLDAvis) (2.11.1)\n",
      "Requirement already satisfied: wheel>=0.23.0 in c:\\users\\bhavn\\anaconda3\\lib\\site-packages (from pyLDAvis) (0.34.2)\n",
      "Requirement already satisfied: future in c:\\users\\bhavn\\anaconda3\\lib\\site-packages (from pyLDAvis) (0.18.2)\n",
      "Requirement already satisfied: joblib>=0.8.4 in c:\\users\\bhavn\\anaconda3\\lib\\site-packages (from pyLDAvis) (0.14.1)\n",
      "Requirement already satisfied: scipy>=0.18.0 in c:\\users\\bhavn\\anaconda3\\lib\\site-packages (from pyLDAvis) (1.4.1)\n",
      "Requirement already satisfied: py>=1.5.0 in c:\\users\\bhavn\\anaconda3\\lib\\site-packages (from pytest->pyLDAvis) (1.8.1)\n",
      "Requirement already satisfied: packaging in c:\\users\\bhavn\\anaconda3\\lib\\site-packages (from pytest->pyLDAvis) (20.1)\n",
      "Requirement already satisfied: attrs>=17.4.0 in c:\\users\\bhavn\\anaconda3\\lib\\site-packages (from pytest->pyLDAvis) (19.3.0)\n",
      "Requirement already satisfied: more-itertools>=4.0.0 in c:\\users\\bhavn\\anaconda3\\lib\\site-packages (from pytest->pyLDAvis) (8.2.0)\n",
      "Requirement already satisfied: pluggy<1.0,>=0.12 in c:\\users\\bhavn\\anaconda3\\lib\\site-packages (from pytest->pyLDAvis) (0.13.1)\n",
      "Requirement already satisfied: wcwidth in c:\\users\\bhavn\\anaconda3\\lib\\site-packages (from pytest->pyLDAvis) (0.1.8)\n",
      "Requirement already satisfied: importlib-metadata>=0.12 in c:\\users\\bhavn\\anaconda3\\lib\\site-packages (from pytest->pyLDAvis) (2.0.0)\n",
      "Requirement already satisfied: atomicwrites>=1.0 in c:\\users\\bhavn\\anaconda3\\lib\\site-packages (from pytest->pyLDAvis) (1.3.0)\n",
      "Requirement already satisfied: colorama in c:\\users\\bhavn\\anaconda3\\lib\\site-packages (from pytest->pyLDAvis) (0.4.3)\n",
      "Requirement already satisfied: pytz>=2017.2 in c:\\users\\bhavn\\anaconda3\\lib\\site-packages (from pandas>=0.17.0->pyLDAvis) (2019.3)\n",
      "Requirement already satisfied: python-dateutil>=2.6.1 in c:\\users\\bhavn\\anaconda3\\lib\\site-packages (from pandas>=0.17.0->pyLDAvis) (2.8.1)\n",
      "Requirement already satisfied: MarkupSafe>=0.23 in c:\\users\\bhavn\\anaconda3\\lib\\site-packages (from jinja2>=2.7.2->pyLDAvis) (1.1.1)\n",
      "Requirement already satisfied: pyparsing>=2.0.2 in c:\\users\\bhavn\\anaconda3\\lib\\site-packages (from packaging->pytest->pyLDAvis) (2.4.6)\n",
      "Requirement already satisfied: six in c:\\users\\bhavn\\anaconda3\\lib\\site-packages (from packaging->pytest->pyLDAvis) (1.14.0)\n",
      "Requirement already satisfied: zipp>=0.5 in c:\\users\\bhavn\\anaconda3\\lib\\site-packages (from importlib-metadata>=0.12->pytest->pyLDAvis) (2.2.0)\n"
     ]
    },
    {
     "name": "stdout",
     "output_type": "stream",
     "text": [
      "Collecting gensim\n",
      "  Downloading gensim-3.8.3-cp37-cp37m-win_amd64.whl (24.2 MB)\n",
      "Collecting smart-open>=1.8.1\n",
      "  Downloading smart_open-3.0.0.tar.gz (113 kB)\n",
      "Requirement already satisfied: scipy>=0.18.1 in c:\\users\\bhavn\\anaconda3\\lib\\site-packages (from gensim) (1.4.1)\n",
      "Requirement already satisfied: six>=1.5.0 in c:\\users\\bhavn\\anaconda3\\lib\\site-packages (from gensim) (1.14.0)\n",
      "Collecting Cython==0.29.14\n",
      "  Downloading Cython-0.29.14-cp37-cp37m-win_amd64.whl (1.7 MB)\n",
      "Requirement already satisfied: numpy>=1.11.3 in c:\\users\\bhavn\\anaconda3\\lib\\site-packages (from gensim) (1.18.1)\n",
      "Requirement already satisfied: requests in c:\\users\\bhavn\\anaconda3\\lib\\site-packages (from smart-open>=1.8.1->gensim) (2.22.0)\n",
      "Requirement already satisfied: urllib3!=1.25.0,!=1.25.1,<1.26,>=1.21.1 in c:\\users\\bhavn\\anaconda3\\lib\\site-packages (from requests->smart-open>=1.8.1->gensim) (1.25.8)\n",
      "Requirement already satisfied: chardet<3.1.0,>=3.0.2 in c:\\users\\bhavn\\anaconda3\\lib\\site-packages (from requests->smart-open>=1.8.1->gensim) (3.0.4)\n",
      "Requirement already satisfied: certifi>=2017.4.17 in c:\\users\\bhavn\\anaconda3\\lib\\site-packages (from requests->smart-open>=1.8.1->gensim) (2019.11.28)\n",
      "Requirement already satisfied: idna<2.9,>=2.5 in c:\\users\\bhavn\\anaconda3\\lib\\site-packages (from requests->smart-open>=1.8.1->gensim) (2.8)\n",
      "Building wheels for collected packages: smart-open\n",
      "  Building wheel for smart-open (setup.py): started\n",
      "  Building wheel for smart-open (setup.py): finished with status 'done'\n",
      "  Created wheel for smart-open: filename=smart_open-3.0.0-py3-none-any.whl size=107102 sha256=436c35862c742e4f6a590b8c30dfdca9de826224db166d7ed063ebec2626d79c\n",
      "  Stored in directory: c:\\users\\bhavn\\appdata\\local\\pip\\cache\\wheels\\83\\a6\\12\\bf3c1a667bde4251be5b7a3368b2d604c9af2105b5c1cb1870\n",
      "Successfully built smart-open\n",
      "Installing collected packages: smart-open, Cython, gensim\n",
      "  Attempting uninstall: Cython\n",
      "    Found existing installation: Cython 0.29.15\n",
      "    Uninstalling Cython-0.29.15:\n",
      "      Successfully uninstalled Cython-0.29.15\n",
      "Successfully installed Cython-0.29.14 gensim-3.8.3 smart-open-3.0.0\n"
     ]
    }
   ],
   "source": [
    "!pip install instaloader\n",
    "!pip install google-cloud\n",
    "!pip install google-cloud-vision\n",
    "!pip install pyLDAvis \n",
    "!pip install gensim"
   ]
  },
  {
   "cell_type": "code",
   "execution_count": 15,
   "metadata": {
    "id": "OE2hYG9V7wEB"
   },
   "outputs": [
    {
     "name": "stderr",
     "output_type": "stream",
     "text": [
      "[nltk_data] Downloading package wordnet to\n",
      "[nltk_data]     C:\\Users\\bhavn\\AppData\\Roaming\\nltk_data...\n",
      "[nltk_data]   Unzipping corpora\\wordnet.zip.\n"
     ]
    }
   ],
   "source": [
    "import instaloader\n",
    "from instaloader import Profile\n",
    "import pandas as pd\n",
    "import numpy as np\n",
    "from sklearn.metrics import confusion_matrix\n",
    "from sklearn.model_selection import train_test_split\n",
    "from sklearn.linear_model import LogisticRegression\n",
    "from sklearn.model_selection import train_test_split\n",
    "from google.cloud import vision\n",
    "from sklearn.feature_extraction.text import TfidfVectorizer\n",
    "from sklearn.metrics import classification_report\n",
    "import os\n",
    "import ast\n",
    "import gensim\n",
    "from gensim.utils import simple_preprocess\n",
    "from gensim.parsing.preprocessing import STOPWORDS\n",
    "from nltk.stem import WordNetLemmatizer, SnowballStemmer \n",
    "from nltk.stem.porter import *\n",
    "import numpy as np\n",
    "np.random.seed(2018)\n",
    "import nltk\n",
    "nltk.download('wordnet')\n",
    "import pyLDAvis\n",
    "import pyLDAvis.gensim"
   ]
  },
  {
   "cell_type": "code",
   "execution_count": 16,
   "metadata": {
    "id": "mY_kT1KB7wED"
   },
   "outputs": [],
   "source": [
    "posts_df = pd.read_csv('insta_labels.csv')"
   ]
  },
  {
   "cell_type": "code",
   "execution_count": 17,
   "metadata": {
    "id": "kujkVH067wEG"
   },
   "outputs": [],
   "source": [
    "posts_df['index'] = posts_df.index"
   ]
  },
  {
   "cell_type": "code",
   "execution_count": 18,
   "metadata": {
    "id": "HDLoqAAO7wEI",
    "outputId": "7598daa6-1c91-42f5-a964-0c894e7bd975",
    "scrolled": true
   },
   "outputs": [
    {
     "data": {
      "text/html": [
       "<div>\n",
       "<style scoped>\n",
       "    .dataframe tbody tr th:only-of-type {\n",
       "        vertical-align: middle;\n",
       "    }\n",
       "\n",
       "    .dataframe tbody tr th {\n",
       "        vertical-align: top;\n",
       "    }\n",
       "\n",
       "    .dataframe thead th {\n",
       "        text-align: right;\n",
       "    }\n",
       "</style>\n",
       "<table border=\"1\" class=\"dataframe\">\n",
       "  <thead>\n",
       "    <tr style=\"text-align: right;\">\n",
       "      <th></th>\n",
       "      <th>num_comments</th>\n",
       "      <th>num_likes</th>\n",
       "      <th>caption</th>\n",
       "      <th>image_url</th>\n",
       "      <th>labels</th>\n",
       "      <th>scaled_likes</th>\n",
       "      <th>scaled_comms</th>\n",
       "      <th>engagement_score</th>\n",
       "      <th>engagement</th>\n",
       "      <th>engagement_qual</th>\n",
       "      <th>index</th>\n",
       "    </tr>\n",
       "  </thead>\n",
       "  <tbody>\n",
       "    <tr>\n",
       "      <th>0</th>\n",
       "      <td>405</td>\n",
       "      <td>73222</td>\n",
       "      <td>FW20 Campaign. Kids Collection\\nCreative Direc...</td>\n",
       "      <td>https://scontent-iad3-1.cdninstagram.com/v/t51...</td>\n",
       "      <td>['Clothing', 'Fashion', 'Outerwear', 'Fur', 'S...</td>\n",
       "      <td>0.249823</td>\n",
       "      <td>0.124769</td>\n",
       "      <td>0.174791</td>\n",
       "      <td>1</td>\n",
       "      <td>High</td>\n",
       "      <td>0</td>\n",
       "    </tr>\n",
       "    <tr>\n",
       "      <th>1</th>\n",
       "      <td>124</td>\n",
       "      <td>38537</td>\n",
       "      <td>FW20 Campaign. Kids Collection\\nCreative Direc...</td>\n",
       "      <td>https://scontent-iad3-1.cdninstagram.com/v/t51...</td>\n",
       "      <td>['Sky', 'Darkness', 'Room', 'Adventure game', ...</td>\n",
       "      <td>0.131483</td>\n",
       "      <td>0.038201</td>\n",
       "      <td>0.075514</td>\n",
       "      <td>0</td>\n",
       "      <td>Low</td>\n",
       "      <td>1</td>\n",
       "    </tr>\n",
       "    <tr>\n",
       "      <th>2</th>\n",
       "      <td>194</td>\n",
       "      <td>56141</td>\n",
       "      <td>FW20 Campaign. Kids Collection\\nCreative Direc...</td>\n",
       "      <td>https://scontent-iad3-1.cdninstagram.com/v/t51...</td>\n",
       "      <td>['Cool', 'Fashion', 'Jeans', 'Sitting', 'Denim...</td>\n",
       "      <td>0.191545</td>\n",
       "      <td>0.059766</td>\n",
       "      <td>0.112478</td>\n",
       "      <td>0</td>\n",
       "      <td>Low</td>\n",
       "      <td>2</td>\n",
       "    </tr>\n",
       "    <tr>\n",
       "      <th>3</th>\n",
       "      <td>104</td>\n",
       "      <td>34764</td>\n",
       "      <td>FW20 Campaign. Man Collection\\nCreative Direct...</td>\n",
       "      <td>https://scontent-iad3-1.cdninstagram.com/v/t51...</td>\n",
       "      <td>['Hair', 'Face', 'Hairstyle', 'Eyebrow', 'Fore...</td>\n",
       "      <td>0.118610</td>\n",
       "      <td>0.032039</td>\n",
       "      <td>0.066668</td>\n",
       "      <td>0</td>\n",
       "      <td>Low</td>\n",
       "      <td>3</td>\n",
       "    </tr>\n",
       "    <tr>\n",
       "      <th>4</th>\n",
       "      <td>187</td>\n",
       "      <td>34312</td>\n",
       "      <td>FW20 Campaign. Man Collection\\nCreative Direct...</td>\n",
       "      <td>https://scontent-iad3-1.cdninstagram.com/v/t51...</td>\n",
       "      <td>['Snapshot', 'Standing', 'Hand', 'Arm', 'Human...</td>\n",
       "      <td>0.117068</td>\n",
       "      <td>0.057609</td>\n",
       "      <td>0.081393</td>\n",
       "      <td>0</td>\n",
       "      <td>Low</td>\n",
       "      <td>4</td>\n",
       "    </tr>\n",
       "  </tbody>\n",
       "</table>\n",
       "</div>"
      ],
      "text/plain": [
       "   num_comments  num_likes                                            caption  \\\n",
       "0           405      73222  FW20 Campaign. Kids Collection\\nCreative Direc...   \n",
       "1           124      38537  FW20 Campaign. Kids Collection\\nCreative Direc...   \n",
       "2           194      56141  FW20 Campaign. Kids Collection\\nCreative Direc...   \n",
       "3           104      34764  FW20 Campaign. Man Collection\\nCreative Direct...   \n",
       "4           187      34312  FW20 Campaign. Man Collection\\nCreative Direct...   \n",
       "\n",
       "                                           image_url  \\\n",
       "0  https://scontent-iad3-1.cdninstagram.com/v/t51...   \n",
       "1  https://scontent-iad3-1.cdninstagram.com/v/t51...   \n",
       "2  https://scontent-iad3-1.cdninstagram.com/v/t51...   \n",
       "3  https://scontent-iad3-1.cdninstagram.com/v/t51...   \n",
       "4  https://scontent-iad3-1.cdninstagram.com/v/t51...   \n",
       "\n",
       "                                              labels  scaled_likes  \\\n",
       "0  ['Clothing', 'Fashion', 'Outerwear', 'Fur', 'S...      0.249823   \n",
       "1  ['Sky', 'Darkness', 'Room', 'Adventure game', ...      0.131483   \n",
       "2  ['Cool', 'Fashion', 'Jeans', 'Sitting', 'Denim...      0.191545   \n",
       "3  ['Hair', 'Face', 'Hairstyle', 'Eyebrow', 'Fore...      0.118610   \n",
       "4  ['Snapshot', 'Standing', 'Hand', 'Arm', 'Human...      0.117068   \n",
       "\n",
       "   scaled_comms  engagement_score  engagement engagement_qual  index  \n",
       "0      0.124769          0.174791           1            High      0  \n",
       "1      0.038201          0.075514           0             Low      1  \n",
       "2      0.059766          0.112478           0             Low      2  \n",
       "3      0.032039          0.066668           0             Low      3  \n",
       "4      0.057609          0.081393           0             Low      4  "
      ]
     },
     "execution_count": 18,
     "metadata": {},
     "output_type": "execute_result"
    }
   ],
   "source": [
    "posts_df.head()"
   ]
  },
  {
   "cell_type": "code",
   "execution_count": 19,
   "metadata": {
    "id": "GkIc2kNS7wEL",
    "outputId": "cd1b96a3-0399-430e-92e3-033edabafcd6",
    "scrolled": true
   },
   "outputs": [
    {
     "name": "stdout",
     "output_type": "stream",
     "text": [
      "570\n"
     ]
    },
    {
     "name": "stderr",
     "output_type": "stream",
     "text": [
      "C:\\Users\\bhavn\\Anaconda3\\lib\\site-packages\\ipykernel_launcher.py:2: SettingWithCopyWarning: \n",
      "A value is trying to be set on a copy of a slice from a DataFrame.\n",
      "Try using .loc[row_indexer,col_indexer] = value instead\n",
      "\n",
      "See the caveats in the documentation: https://pandas.pydata.org/pandas-docs/stable/user_guide/indexing.html#returning-a-view-versus-a-copy\n",
      "  \n"
     ]
    },
    {
     "data": {
      "text/html": [
       "<div>\n",
       "<style scoped>\n",
       "    .dataframe tbody tr th:only-of-type {\n",
       "        vertical-align: middle;\n",
       "    }\n",
       "\n",
       "    .dataframe tbody tr th {\n",
       "        vertical-align: top;\n",
       "    }\n",
       "\n",
       "    .dataframe thead th {\n",
       "        text-align: right;\n",
       "    }\n",
       "</style>\n",
       "<table border=\"1\" class=\"dataframe\">\n",
       "  <thead>\n",
       "    <tr style=\"text-align: right;\">\n",
       "      <th></th>\n",
       "      <th>labels</th>\n",
       "      <th>index</th>\n",
       "    </tr>\n",
       "  </thead>\n",
       "  <tbody>\n",
       "    <tr>\n",
       "      <th>0</th>\n",
       "      <td>['Clothing', 'Fashion', 'Outerwear', 'Fur', 'S...</td>\n",
       "      <td>0</td>\n",
       "    </tr>\n",
       "    <tr>\n",
       "      <th>1</th>\n",
       "      <td>['Sky', 'Darkness', 'Room', 'Adventure game', ...</td>\n",
       "      <td>1</td>\n",
       "    </tr>\n",
       "    <tr>\n",
       "      <th>2</th>\n",
       "      <td>['Cool', 'Fashion', 'Jeans', 'Sitting', 'Denim...</td>\n",
       "      <td>2</td>\n",
       "    </tr>\n",
       "    <tr>\n",
       "      <th>3</th>\n",
       "      <td>['Hair', 'Face', 'Hairstyle', 'Eyebrow', 'Fore...</td>\n",
       "      <td>3</td>\n",
       "    </tr>\n",
       "    <tr>\n",
       "      <th>4</th>\n",
       "      <td>['Snapshot', 'Standing', 'Hand', 'Arm', 'Human...</td>\n",
       "      <td>4</td>\n",
       "    </tr>\n",
       "    <tr>\n",
       "      <th>5</th>\n",
       "      <td>['Clothing', 'Fashion', 'Outerwear', 'Beige', ...</td>\n",
       "      <td>5</td>\n",
       "    </tr>\n",
       "    <tr>\n",
       "      <th>6</th>\n",
       "      <td>['People in nature', 'Photograph', 'Black-and-...</td>\n",
       "      <td>6</td>\n",
       "    </tr>\n",
       "    <tr>\n",
       "      <th>7</th>\n",
       "      <td>['Photograph', 'Standing', 'People', 'Suit', '...</td>\n",
       "      <td>7</td>\n",
       "    </tr>\n",
       "    <tr>\n",
       "      <th>8</th>\n",
       "      <td>['Cool', 'Human', 'Font', 'Fur', 'Outerwear', ...</td>\n",
       "      <td>8</td>\n",
       "    </tr>\n",
       "    <tr>\n",
       "      <th>9</th>\n",
       "      <td>['Photograph', 'Clothing', 'Formal wear', 'Sta...</td>\n",
       "      <td>9</td>\n",
       "    </tr>\n",
       "  </tbody>\n",
       "</table>\n",
       "</div>"
      ],
      "text/plain": [
       "                                              labels  index\n",
       "0  ['Clothing', 'Fashion', 'Outerwear', 'Fur', 'S...      0\n",
       "1  ['Sky', 'Darkness', 'Room', 'Adventure game', ...      1\n",
       "2  ['Cool', 'Fashion', 'Jeans', 'Sitting', 'Denim...      2\n",
       "3  ['Hair', 'Face', 'Hairstyle', 'Eyebrow', 'Fore...      3\n",
       "4  ['Snapshot', 'Standing', 'Hand', 'Arm', 'Human...      4\n",
       "5  ['Clothing', 'Fashion', 'Outerwear', 'Beige', ...      5\n",
       "6  ['People in nature', 'Photograph', 'Black-and-...      6\n",
       "7  ['Photograph', 'Standing', 'People', 'Suit', '...      7\n",
       "8  ['Cool', 'Human', 'Font', 'Fur', 'Outerwear', ...      8\n",
       "9  ['Photograph', 'Clothing', 'Formal wear', 'Sta...      9"
      ]
     },
     "execution_count": 19,
     "metadata": {},
     "output_type": "execute_result"
    }
   ],
   "source": [
    "data_labels = posts_df[['labels']]\n",
    "data_labels['index'] = data_labels.index\n",
    "print(len(data_labels))\n",
    "data_labels[:10]"
   ]
  },
  {
   "cell_type": "markdown",
   "metadata": {
    "id": "jsrbRah07wEN"
   },
   "source": [
    "### Stemming, Lemmatizing and Pre-processing"
   ]
  },
  {
   "cell_type": "code",
   "execution_count": 20,
   "metadata": {
    "id": "ERInVUty7wEN"
   },
   "outputs": [],
   "source": [
    "def lemmatize_stemming(text):\n",
    "    return WordNetLemmatizer().lemmatize(text, pos='v')\n",
    "def preprocess(text):\n",
    "    result = []\n",
    "    for token in gensim.utils.simple_preprocess(text):\n",
    "        if token not in gensim.parsing.preprocessing.STOPWORDS and len(token) > 2:\n",
    "            result.append(lemmatize_stemming(token))\n",
    "    return result"
   ]
  },
  {
   "cell_type": "code",
   "execution_count": 21,
   "metadata": {
    "id": "mA4canjg7wEP",
    "outputId": "cd6fd44c-c571-45e6-b041-93ce1e09355d"
   },
   "outputs": [
    {
     "name": "stdout",
     "output_type": "stream",
     "text": [
      "original document: \n",
      "[\"['People',\", \"'Social\", \"group',\", \"'Youth',\", \"'Fun',\", \"'Friendship',\", \"'Smile',\", \"'Dance',\", \"'Child',\", \"'Leg',\", \"'Happy']\"]\n",
      "\n",
      "\n",
      " tokenized and lemmatized document: \n",
      "['people', 'social', 'group', 'youth', 'fun', 'friendship', 'smile', 'dance', 'child', 'leg', 'happy']\n"
     ]
    },
    {
     "data": {
      "text/plain": [
       "0    [clothe, fashion, outerwear, fur, street, fash...\n",
       "1    [sky, darkness, room, adventure, game, music, ...\n",
       "2      [cool, fashion, jeans, sit, denim, shoe, style]\n",
       "3    [hair, face, hairstyle, eyebrow, forehead, chi...\n",
       "4    [snapshot, stand, hand, arm, human, photograph...\n",
       "5    [clothe, fashion, outerwear, beige, fashion, d...\n",
       "6    [people, nature, photograph, black, white, sta...\n",
       "7    [photograph, stand, people, suit, black, white...\n",
       "8    [cool, human, font, fur, outerwear, textile, a...\n",
       "9    [photograph, clothe, formal, wear, stand, suit...\n",
       "Name: labels, dtype: object"
      ]
     },
     "execution_count": 21,
     "metadata": {},
     "output_type": "execute_result"
    }
   ],
   "source": [
    "doc_sample = data_labels[data_labels['index'] == 200].values[0][0]\n",
    "print('original document: ')\n",
    "words = []\n",
    "for word in doc_sample.split(' '):\n",
    "    words.append(word)\n",
    "print(words)\n",
    "print('\\n\\n tokenized and lemmatized document: ')\n",
    "print(preprocess(doc_sample))\n",
    "\n",
    "processed_docs = data_labels['labels'].map(preprocess)\n",
    "processed_docs[:10]"
   ]
  },
  {
   "cell_type": "markdown",
   "metadata": {
    "id": "2ajjRSIS7wEQ"
   },
   "source": [
    "### Bag of words"
   ]
  },
  {
   "cell_type": "code",
   "execution_count": 22,
   "metadata": {
    "id": "g8_-71U97wER",
    "outputId": "7e42b9fe-ce3f-456c-d91c-93d9409fe9f8"
   },
   "outputs": [
    {
     "name": "stdout",
     "output_type": "stream",
     "text": [
      "0 clothe\n",
      "1 coat\n",
      "2 design\n",
      "3 fashion\n",
      "4 fur\n",
      "5 headgear\n",
      "6 knee\n",
      "7 outerwear\n",
      "8 photography\n",
      "9 street\n",
      "10 adventure\n"
     ]
    }
   ],
   "source": [
    "dictionary = gensim.corpora.Dictionary(processed_docs)\n",
    "count = 0\n",
    "for k, v in dictionary.iteritems():\n",
    "    print(k, v)\n",
    "    count += 1\n",
    "    if count > 10:\n",
    "        break"
   ]
  },
  {
   "cell_type": "code",
   "execution_count": 23,
   "metadata": {
    "id": "VLc7Ud9m7wES"
   },
   "outputs": [],
   "source": [
    "dictionary.filter_extremes(no_below=7, no_above=0.5, keep_n=100000)"
   ]
  },
  {
   "cell_type": "markdown",
   "metadata": {
    "id": "B6PH9LLg7wEV"
   },
   "source": [
    "**Gensim doc2bow**"
   ]
  },
  {
   "cell_type": "code",
   "execution_count": 24,
   "metadata": {
    "id": "v2WdXKCP7wEV",
    "outputId": "2a893a93-8ed3-4269-fc24-f4a2712cea0b"
   },
   "outputs": [
    {
     "data": {
      "text/plain": [
       "['sit',\n",
       " 'beauty',\n",
       " 'leg',\n",
       " 'fashion',\n",
       " 'footwear',\n",
       " 'photo',\n",
       " 'shoot',\n",
       " 'furniture',\n",
       " 'blond',\n",
       " 'jeans',\n",
       " 'photography']"
      ]
     },
     "execution_count": 24,
     "metadata": {},
     "output_type": "execute_result"
    }
   ],
   "source": [
    "bow_corpus = [dictionary.doc2bow(doc) for doc in processed_docs]\n",
    "bow_corpus[310]\n",
    "\n",
    "processed_docs[310]\n",
    "\n",
    "#To output words and their corresponding frequency\n",
    "\n",
    "#bow_doc_310 = bow_corpus[310]\n",
    "#for i in range(len(bow_doc_310)):\n",
    "    #print(\"Word {} (\\\"{}\\\") appears {} time.\".format(bow_doc_310[i][0], \n",
    "     #                                          dictionary[bow_doc_310[i][0]], \n",
    "#bow_doc_310[i][1]))\n",
    "#"
   ]
  },
  {
   "cell_type": "markdown",
   "metadata": {
    "id": "4V1qTcGl7wEX"
   },
   "source": [
    "### Running LDA using bag of words"
   ]
  },
  {
   "cell_type": "code",
   "execution_count": 25,
   "metadata": {
    "id": "axeMNPJo7wEX"
   },
   "outputs": [],
   "source": [
    "np.random.seed(2020)\n",
    "lda_model = gensim.models.LdaMulticore(bow_corpus, num_topics=4, id2word=dictionary, passes=8, workers=2)"
   ]
  },
  {
   "cell_type": "code",
   "execution_count": 26,
   "metadata": {
    "id": "6LdqIYpI7wEZ",
    "outputId": "67735768-5a2a-4f36-bc49-5b38297acd78",
    "scrolled": true
   },
   "outputs": [
    {
     "name": "stdout",
     "output_type": "stream",
     "text": [
      "Topic: 0 \n",
      "Words: 0.124*\"hair\" + 0.070*\"beauty\" + 0.050*\"hairstyle\" + 0.047*\"model\" + 0.038*\"skin\" + 0.038*\"long\" + 0.034*\"face\" + 0.034*\"shoot\" + 0.034*\"photo\" + 0.032*\"fashion\"\n",
      "Topic: 1 \n",
      "Words: 0.074*\"black\" + 0.073*\"photography\" + 0.072*\"white\" + 0.068*\"fashion\" + 0.041*\"blue\" + 0.035*\"monochrome\" + 0.032*\"clothe\" + 0.032*\"outerwear\" + 0.030*\"stand\" + 0.030*\"photograph\"\n",
      "Topic: 2 \n",
      "Words: 0.102*\"fashion\" + 0.072*\"leg\" + 0.046*\"photography\" + 0.041*\"clothe\" + 0.039*\"footwear\" + 0.034*\"outerwear\" + 0.029*\"joint\" + 0.028*\"shoulder\" + 0.027*\"human\" + 0.027*\"sit\"\n",
      "Topic: 3 \n",
      "Words: 0.100*\"fashion\" + 0.091*\"clothe\" + 0.070*\"outerwear\" + 0.058*\"sleeve\" + 0.051*\"neck\" + 0.047*\"dress\" + 0.045*\"shoulder\" + 0.033*\"design\" + 0.027*\"shirt\" + 0.026*\"pattern\"\n"
     ]
    }
   ],
   "source": [
    "for idx, topic in lda_model.print_topics(-1):\n",
    "    print('Topic: {} \\nWords: {}'.format(idx, topic))"
   ]
  },
  {
   "cell_type": "markdown",
   "metadata": {
    "id": "e__aMMWt7wEb"
   },
   "source": [
    "### Top-10 words loaded for each topic"
   ]
  },
  {
   "cell_type": "code",
   "execution_count": 27,
   "metadata": {
    "id": "9QnDJzVc7wEb",
    "outputId": "ee782fc4-f093-4e5e-c328-a7006f096ef5"
   },
   "outputs": [
    {
     "name": "stdout",
     "output_type": "stream",
     "text": [
      "Topic words: 0 \n",
      "Words: ['hair', 'beauty', 'hairstyle', 'model', 'skin', 'long', 'face', 'shoot', 'photo', 'fashion']\n",
      "Topic words: 1 \n",
      "Words: ['black', 'photography', 'white', 'fashion', 'blue', 'monochrome', 'clothe', 'outerwear', 'stand', 'photograph']\n",
      "Topic words: 2 \n",
      "Words: ['fashion', 'leg', 'photography', 'clothe', 'footwear', 'outerwear', 'joint', 'shoulder', 'human', 'sit']\n",
      "Topic words: 3 \n",
      "Words: ['fashion', 'clothe', 'outerwear', 'sleeve', 'neck', 'dress', 'shoulder', 'design', 'shirt', 'pattern']\n"
     ]
    }
   ],
   "source": [
    "x=lda_model.show_topics()\n",
    "\n",
    "def Convert(string): \n",
    "    li = list(string.split(\"  \")) \n",
    "    return li \n",
    "\n",
    "twords={}\n",
    "for topic,word in x:\n",
    "    twords[topic]=Convert(re.sub('[^A-Za-z ]+','', word))\n",
    "    print('Topic words:',topic,'\\nWords:',twords[topic])\n",
    "    \n",
    "terms_df = pd.DataFrame([twords])\n",
    "terms_df = terms_df.transpose()\n",
    "terms_df.index.name = 'Topic'\n",
    "terms_df.columns = ['Words']\n",
    "terms_df.to_csv('words_loading_on_topics.csv')"
   ]
  },
  {
   "cell_type": "markdown",
   "metadata": {
    "id": "n7dJ7HEA7wEd"
   },
   "source": [
    "### Performance Evaluation\n",
    "This was for manual verification wherein we changed index number everytime manually and checked topic generated for a set of labels"
   ]
  },
  {
   "cell_type": "code",
   "execution_count": 30,
   "metadata": {
    "id": "l0b4f0oA7wEd",
    "outputId": "1ad08b52-d761-4b3a-ef88-ccc2cb806c97",
    "scrolled": true
   },
   "outputs": [
    {
     "data": {
      "text/plain": [
       "['black',\n",
       " 'white',\n",
       " 'eyewear',\n",
       " 'black',\n",
       " 'white',\n",
       " 'beauty',\n",
       " 'monochrome',\n",
       " 'glass',\n",
       " 'cool',\n",
       " 'stand',\n",
       " 'shoulder']"
      ]
     },
     "execution_count": 30,
     "metadata": {},
     "output_type": "execute_result"
    }
   ],
   "source": [
    "processed_docs[301]"
   ]
  },
  {
   "cell_type": "code",
   "execution_count": 31,
   "metadata": {
    "id": "6_4hEcWh7wEf",
    "outputId": "9a6b3b48-0b45-4c33-c13a-d83d138e421f"
   },
   "outputs": [
    {
     "name": "stdout",
     "output_type": "stream",
     "text": [
      "\n",
      "Score 0.6489116549491882 \n",
      "Topic: 1\n",
      "\n",
      "Score 0.3078915774822235 \n",
      "Topic: 3\n",
      "\n",
      "Score 0.021746888756752014 \n",
      "Topic: 0\n",
      "\n",
      "Score 0.02144993282854557 \n",
      "Topic: 2\n"
     ]
    }
   ],
   "source": [
    "for index, score in sorted(lda_model[bow_corpus[301]], key=lambda tup: -1*tup[1]):\n",
    "    print(\"\\nScore {} \\nTopic: {}\".format(score, index))"
   ]
  },
  {
   "cell_type": "markdown",
   "metadata": {
    "id": "lm7y8fJr7wEi"
   },
   "source": [
    "### Topic Weights"
   ]
  },
  {
   "cell_type": "code",
   "execution_count": 32,
   "metadata": {
    "id": "XweB-oKk7wEi",
    "outputId": "93c2773c-95f7-4126-dc4d-392eff759031"
   },
   "outputs": [
    {
     "name": "stderr",
     "output_type": "stream",
     "text": [
      "C:\\Users\\bhavn\\Anaconda3\\lib\\site-packages\\pandas\\core\\indexing.py:844: SettingWithCopyWarning: \n",
      "A value is trying to be set on a copy of a slice from a DataFrame.\n",
      "Try using .loc[row_indexer,col_indexer] = value instead\n",
      "\n",
      "See the caveats in the documentation: https://pandas.pydata.org/pandas-docs/stable/user_guide/indexing.html#returning-a-view-versus-a-copy\n",
      "  self.obj[key] = _infer_fill_value(value)\n",
      "C:\\Users\\bhavn\\Anaconda3\\lib\\site-packages\\pandas\\core\\indexing.py:965: SettingWithCopyWarning: \n",
      "A value is trying to be set on a copy of a slice from a DataFrame.\n",
      "Try using .loc[row_indexer,col_indexer] = value instead\n",
      "\n",
      "See the caveats in the documentation: https://pandas.pydata.org/pandas-docs/stable/user_guide/indexing.html#returning-a-view-versus-a-copy\n",
      "  self.obj[item] = s\n"
     ]
    }
   ],
   "source": [
    "for i in range(0,len(bow_corpus)):\n",
    "    for index, score in sorted(lda_model[bow_corpus[i]], key=lambda tup: -1*tup[1]):\n",
    "        arr = \"Topic \"+ str(index)\n",
    "        data_labels.loc[i,arr]= score"
   ]
  },
  {
   "cell_type": "code",
   "execution_count": 33,
   "metadata": {
    "id": "F8ET6zPO7wEk",
    "outputId": "8e9c2507-fa73-4e54-fabe-0d46065b720e"
   },
   "outputs": [
    {
     "data": {
      "text/html": [
       "<div>\n",
       "<style scoped>\n",
       "    .dataframe tbody tr th:only-of-type {\n",
       "        vertical-align: middle;\n",
       "    }\n",
       "\n",
       "    .dataframe tbody tr th {\n",
       "        vertical-align: top;\n",
       "    }\n",
       "\n",
       "    .dataframe thead th {\n",
       "        text-align: right;\n",
       "    }\n",
       "</style>\n",
       "<table border=\"1\" class=\"dataframe\">\n",
       "  <thead>\n",
       "    <tr style=\"text-align: right;\">\n",
       "      <th></th>\n",
       "      <th>labels</th>\n",
       "      <th>index</th>\n",
       "      <th>Topic 2</th>\n",
       "      <th>Topic 1</th>\n",
       "      <th>Topic 3</th>\n",
       "      <th>Topic 0</th>\n",
       "    </tr>\n",
       "  </thead>\n",
       "  <tbody>\n",
       "    <tr>\n",
       "      <th>1</th>\n",
       "      <td>['Sky', 'Darkness', 'Room', 'Adventure game', ...</td>\n",
       "      <td>1</td>\n",
       "      <td>0.068813</td>\n",
       "      <td>0.799203</td>\n",
       "      <td>0.065936</td>\n",
       "      <td>0.066047</td>\n",
       "    </tr>\n",
       "    <tr>\n",
       "      <th>2</th>\n",
       "      <td>['Cool', 'Fashion', 'Jeans', 'Sitting', 'Denim...</td>\n",
       "      <td>2</td>\n",
       "      <td>0.330438</td>\n",
       "      <td>0.605146</td>\n",
       "      <td>0.032455</td>\n",
       "      <td>0.031960</td>\n",
       "    </tr>\n",
       "    <tr>\n",
       "      <th>3</th>\n",
       "      <td>['Hair', 'Face', 'Hairstyle', 'Eyebrow', 'Fore...</td>\n",
       "      <td>3</td>\n",
       "      <td>0.022968</td>\n",
       "      <td>0.022796</td>\n",
       "      <td>0.022786</td>\n",
       "      <td>0.931450</td>\n",
       "    </tr>\n",
       "    <tr>\n",
       "      <th>4</th>\n",
       "      <td>['Snapshot', 'Standing', 'Hand', 'Arm', 'Human...</td>\n",
       "      <td>4</td>\n",
       "      <td>0.027386</td>\n",
       "      <td>0.605992</td>\n",
       "      <td>0.025317</td>\n",
       "      <td>0.341305</td>\n",
       "    </tr>\n",
       "    <tr>\n",
       "      <th>5</th>\n",
       "      <td>['Clothing', 'Fashion', 'Outerwear', 'Beige', ...</td>\n",
       "      <td>5</td>\n",
       "      <td>0.304825</td>\n",
       "      <td>0.028842</td>\n",
       "      <td>0.637864</td>\n",
       "      <td>0.028469</td>\n",
       "    </tr>\n",
       "    <tr>\n",
       "      <th>6</th>\n",
       "      <td>['People in nature', 'Photograph', 'Black-and-...</td>\n",
       "      <td>6</td>\n",
       "      <td>0.019729</td>\n",
       "      <td>0.940877</td>\n",
       "      <td>0.019588</td>\n",
       "      <td>0.019805</td>\n",
       "    </tr>\n",
       "    <tr>\n",
       "      <th>7</th>\n",
       "      <td>['Photograph', 'Standing', 'People', 'Suit', '...</td>\n",
       "      <td>7</td>\n",
       "      <td>0.246244</td>\n",
       "      <td>0.719558</td>\n",
       "      <td>0.017329</td>\n",
       "      <td>0.016870</td>\n",
       "    </tr>\n",
       "    <tr>\n",
       "      <th>8</th>\n",
       "      <td>['Cool', 'Human', 'Font', 'Fur', 'Outerwear', ...</td>\n",
       "      <td>8</td>\n",
       "      <td>0.365791</td>\n",
       "      <td>0.493547</td>\n",
       "      <td>0.022513</td>\n",
       "      <td>0.118149</td>\n",
       "    </tr>\n",
       "    <tr>\n",
       "      <th>9</th>\n",
       "      <td>['Photograph', 'Clothing', 'Formal wear', 'Sta...</td>\n",
       "      <td>9</td>\n",
       "      <td>0.354012</td>\n",
       "      <td>0.606579</td>\n",
       "      <td>0.020094</td>\n",
       "      <td>0.019315</td>\n",
       "    </tr>\n",
       "  </tbody>\n",
       "</table>\n",
       "</div>"
      ],
      "text/plain": [
       "                                              labels  index   Topic 2  \\\n",
       "1  ['Sky', 'Darkness', 'Room', 'Adventure game', ...      1  0.068813   \n",
       "2  ['Cool', 'Fashion', 'Jeans', 'Sitting', 'Denim...      2  0.330438   \n",
       "3  ['Hair', 'Face', 'Hairstyle', 'Eyebrow', 'Fore...      3  0.022968   \n",
       "4  ['Snapshot', 'Standing', 'Hand', 'Arm', 'Human...      4  0.027386   \n",
       "5  ['Clothing', 'Fashion', 'Outerwear', 'Beige', ...      5  0.304825   \n",
       "6  ['People in nature', 'Photograph', 'Black-and-...      6  0.019729   \n",
       "7  ['Photograph', 'Standing', 'People', 'Suit', '...      7  0.246244   \n",
       "8  ['Cool', 'Human', 'Font', 'Fur', 'Outerwear', ...      8  0.365791   \n",
       "9  ['Photograph', 'Clothing', 'Formal wear', 'Sta...      9  0.354012   \n",
       "\n",
       "    Topic 1   Topic 3   Topic 0  \n",
       "1  0.799203  0.065936  0.066047  \n",
       "2  0.605146  0.032455  0.031960  \n",
       "3  0.022796  0.022786  0.931450  \n",
       "4  0.605992  0.025317  0.341305  \n",
       "5  0.028842  0.637864  0.028469  \n",
       "6  0.940877  0.019588  0.019805  \n",
       "7  0.719558  0.017329  0.016870  \n",
       "8  0.493547  0.022513  0.118149  \n",
       "9  0.606579  0.020094  0.019315  "
      ]
     },
     "execution_count": 33,
     "metadata": {},
     "output_type": "execute_result"
    }
   ],
   "source": [
    "#Displaying topic weights for each label\n",
    "data_labels[1:10]"
   ]
  },
  {
   "cell_type": "code",
   "execution_count": 34,
   "metadata": {
    "id": "CRgCLq577wEm",
    "outputId": "27e23331-1a17-491e-b885-ac2e1133f22f",
    "scrolled": true
   },
   "outputs": [
    {
     "data": {
      "text/html": [
       "<div>\n",
       "<style scoped>\n",
       "    .dataframe tbody tr th:only-of-type {\n",
       "        vertical-align: middle;\n",
       "    }\n",
       "\n",
       "    .dataframe tbody tr th {\n",
       "        vertical-align: top;\n",
       "    }\n",
       "\n",
       "    .dataframe thead th {\n",
       "        text-align: right;\n",
       "    }\n",
       "</style>\n",
       "<table border=\"1\" class=\"dataframe\">\n",
       "  <thead>\n",
       "    <tr style=\"text-align: right;\">\n",
       "      <th></th>\n",
       "      <th>Document_No</th>\n",
       "      <th>Dominant_Topic</th>\n",
       "      <th>Topic_Perc_Contrib</th>\n",
       "      <th>Keywords</th>\n",
       "      <th>Text</th>\n",
       "    </tr>\n",
       "  </thead>\n",
       "  <tbody>\n",
       "    <tr>\n",
       "      <th>0</th>\n",
       "      <td>0</td>\n",
       "      <td>2.0</td>\n",
       "      <td>0.9378</td>\n",
       "      <td>fashion, leg, photography, clothe, footwear, o...</td>\n",
       "      <td>[clothe, fashion, outerwear, fur, street, fash...</td>\n",
       "    </tr>\n",
       "    <tr>\n",
       "      <th>1</th>\n",
       "      <td>1</td>\n",
       "      <td>1.0</td>\n",
       "      <td>0.7992</td>\n",
       "      <td>black, photography, white, fashion, blue, mono...</td>\n",
       "      <td>[sky, darkness, room, adventure, game, music, ...</td>\n",
       "    </tr>\n",
       "    <tr>\n",
       "      <th>2</th>\n",
       "      <td>2</td>\n",
       "      <td>1.0</td>\n",
       "      <td>0.6052</td>\n",
       "      <td>black, photography, white, fashion, blue, mono...</td>\n",
       "      <td>[cool, fashion, jeans, sit, denim, shoe, style]</td>\n",
       "    </tr>\n",
       "    <tr>\n",
       "      <th>3</th>\n",
       "      <td>3</td>\n",
       "      <td>0.0</td>\n",
       "      <td>0.9314</td>\n",
       "      <td>hair, beauty, hairstyle, model, skin, long, fa...</td>\n",
       "      <td>[hair, face, hairstyle, eyebrow, forehead, chi...</td>\n",
       "    </tr>\n",
       "    <tr>\n",
       "      <th>4</th>\n",
       "      <td>4</td>\n",
       "      <td>1.0</td>\n",
       "      <td>0.6060</td>\n",
       "      <td>black, photography, white, fashion, blue, mono...</td>\n",
       "      <td>[snapshot, stand, hand, arm, human, photograph...</td>\n",
       "    </tr>\n",
       "    <tr>\n",
       "      <th>5</th>\n",
       "      <td>5</td>\n",
       "      <td>3.0</td>\n",
       "      <td>0.6378</td>\n",
       "      <td>fashion, clothe, outerwear, sleeve, neck, dres...</td>\n",
       "      <td>[clothe, fashion, outerwear, beige, fashion, d...</td>\n",
       "    </tr>\n",
       "    <tr>\n",
       "      <th>6</th>\n",
       "      <td>6</td>\n",
       "      <td>1.0</td>\n",
       "      <td>0.9409</td>\n",
       "      <td>black, photography, white, fashion, blue, mono...</td>\n",
       "      <td>[people, nature, photograph, black, white, sta...</td>\n",
       "    </tr>\n",
       "    <tr>\n",
       "      <th>7</th>\n",
       "      <td>7</td>\n",
       "      <td>1.0</td>\n",
       "      <td>0.7196</td>\n",
       "      <td>black, photography, white, fashion, blue, mono...</td>\n",
       "      <td>[photograph, stand, people, suit, black, white...</td>\n",
       "    </tr>\n",
       "    <tr>\n",
       "      <th>8</th>\n",
       "      <td>8</td>\n",
       "      <td>1.0</td>\n",
       "      <td>0.4936</td>\n",
       "      <td>black, photography, white, fashion, blue, mono...</td>\n",
       "      <td>[cool, human, font, fur, outerwear, textile, a...</td>\n",
       "    </tr>\n",
       "    <tr>\n",
       "      <th>9</th>\n",
       "      <td>9</td>\n",
       "      <td>1.0</td>\n",
       "      <td>0.6066</td>\n",
       "      <td>black, photography, white, fashion, blue, mono...</td>\n",
       "      <td>[photograph, clothe, formal, wear, stand, suit...</td>\n",
       "    </tr>\n",
       "  </tbody>\n",
       "</table>\n",
       "</div>"
      ],
      "text/plain": [
       "   Document_No  Dominant_Topic  Topic_Perc_Contrib  \\\n",
       "0            0             2.0              0.9378   \n",
       "1            1             1.0              0.7992   \n",
       "2            2             1.0              0.6052   \n",
       "3            3             0.0              0.9314   \n",
       "4            4             1.0              0.6060   \n",
       "5            5             3.0              0.6378   \n",
       "6            6             1.0              0.9409   \n",
       "7            7             1.0              0.7196   \n",
       "8            8             1.0              0.4936   \n",
       "9            9             1.0              0.6066   \n",
       "\n",
       "                                            Keywords  \\\n",
       "0  fashion, leg, photography, clothe, footwear, o...   \n",
       "1  black, photography, white, fashion, blue, mono...   \n",
       "2  black, photography, white, fashion, blue, mono...   \n",
       "3  hair, beauty, hairstyle, model, skin, long, fa...   \n",
       "4  black, photography, white, fashion, blue, mono...   \n",
       "5  fashion, clothe, outerwear, sleeve, neck, dres...   \n",
       "6  black, photography, white, fashion, blue, mono...   \n",
       "7  black, photography, white, fashion, blue, mono...   \n",
       "8  black, photography, white, fashion, blue, mono...   \n",
       "9  black, photography, white, fashion, blue, mono...   \n",
       "\n",
       "                                                Text  \n",
       "0  [clothe, fashion, outerwear, fur, street, fash...  \n",
       "1  [sky, darkness, room, adventure, game, music, ...  \n",
       "2    [cool, fashion, jeans, sit, denim, shoe, style]  \n",
       "3  [hair, face, hairstyle, eyebrow, forehead, chi...  \n",
       "4  [snapshot, stand, hand, arm, human, photograph...  \n",
       "5  [clothe, fashion, outerwear, beige, fashion, d...  \n",
       "6  [people, nature, photograph, black, white, sta...  \n",
       "7  [photograph, stand, people, suit, black, white...  \n",
       "8  [cool, human, font, fur, outerwear, textile, a...  \n",
       "9  [photograph, clothe, formal, wear, stand, suit...  "
      ]
     },
     "execution_count": 34,
     "metadata": {},
     "output_type": "execute_result"
    }
   ],
   "source": [
    "# This bit gives out the best topic match for each document and the corresponding score\n",
    "def format_topics_sentences(lda_model=None, corpus=bow_corpus, texts=processed_docs):\n",
    "    # Init output\n",
    "    sent_topics_df = pd.DataFrame()\n",
    "\n",
    "    # Get main topic in each document\n",
    "    for i, row_list in enumerate(lda_model[bow_corpus]):\n",
    "        row = row_list[0] if lda_model.per_word_topics else row_list            \n",
    "        # print(row)\n",
    "        row = sorted(row, key=lambda x: (x[1]), reverse=True)\n",
    "        # Get the Dominant topic, Perc Contribution and Keywords for each document\n",
    "        for j, (topic_num, prop_topic) in enumerate(row):\n",
    "            if j == 0:  # => dominant topic\n",
    "                wp = lda_model.show_topic(topic_num)\n",
    "                topic_keywords = \", \".join([word for word, prop in wp])\n",
    "                sent_topics_df = sent_topics_df.append(pd.Series([int(topic_num), round(prop_topic,4), topic_keywords]), ignore_index=True)\n",
    "            else:\n",
    "                break\n",
    "    sent_topics_df.columns = ['Dominant_Topic', 'Perc_Contribution', 'Topic_Keywords']\n",
    "\n",
    "    # Add original text to the end of the output\n",
    "    contents = pd.Series(texts)\n",
    "    sent_topics_df = pd.concat([sent_topics_df, contents], axis=1)\n",
    "    return(sent_topics_df)\n",
    "\n",
    "\n",
    "df_topic_sents_keywords = format_topics_sentences(lda_model, corpus=bow_corpus, texts=processed_docs)\n",
    "\n",
    "# Format\n",
    "df_dominant_topic = df_topic_sents_keywords.reset_index()\n",
    "df_dominant_topic.columns = ['Document_No', 'Dominant_Topic', 'Topic_Perc_Contrib', 'Keywords', 'Text']\n",
    "df_dominant_topic.head(10)"
   ]
  },
  {
   "cell_type": "code",
   "execution_count": 35,
   "metadata": {
    "id": "7l779zN67wEo",
    "outputId": "107cf6c0-25de-4f54-de98-bbde0cec4f55"
   },
   "outputs": [
    {
     "name": "stderr",
     "output_type": "stream",
     "text": [
      "C:\\Users\\bhavn\\Anaconda3\\lib\\site-packages\\ipykernel_launcher.py:1: SettingWithCopyWarning: \n",
      "A value is trying to be set on a copy of a slice from a DataFrame.\n",
      "Try using .loc[row_indexer,col_indexer] = value instead\n",
      "\n",
      "See the caveats in the documentation: https://pandas.pydata.org/pandas-docs/stable/user_guide/indexing.html#returning-a-view-versus-a-copy\n",
      "  \"\"\"Entry point for launching an IPython kernel.\n"
     ]
    }
   ],
   "source": [
    "data_labels['image_URL'] = posts_df['image_url']\n",
    "\n",
    "cols = ['image_URL','labels','index','Topic 1','Topic 2','Topic 3']\n",
    "data_labels[cols].to_csv('topics_and_weights.csv')"
   ]
  },
  {
   "cell_type": "markdown",
   "metadata": {
    "id": "IvbpcFfK7wEq"
   },
   "source": [
    "### Engagement scores vs Topic Weights "
   ]
  },
  {
   "cell_type": "code",
   "execution_count": 36,
   "metadata": {
    "id": "Ci9GnWEN7wEq",
    "outputId": "6b0fea12-b905-4984-b223-5035444402d2"
   },
   "outputs": [
    {
     "name": "stderr",
     "output_type": "stream",
     "text": [
      "C:\\Users\\bhavn\\Anaconda3\\lib\\site-packages\\ipykernel_launcher.py:1: SettingWithCopyWarning: \n",
      "A value is trying to be set on a copy of a slice from a DataFrame.\n",
      "Try using .loc[row_indexer,col_indexer] = value instead\n",
      "\n",
      "See the caveats in the documentation: https://pandas.pydata.org/pandas-docs/stable/user_guide/indexing.html#returning-a-view-versus-a-copy\n",
      "  \"\"\"Entry point for launching an IPython kernel.\n"
     ]
    },
    {
     "data": {
      "text/plain": [
       "0.25    0.095768\n",
       "0.50    0.132158\n",
       "0.75    0.198502\n",
       "Name: engagement_score, dtype: float64"
      ]
     },
     "execution_count": 36,
     "metadata": {},
     "output_type": "execute_result"
    }
   ],
   "source": [
    "data_labels['engagement_score'] = posts_df['engagement_score']\n",
    "data_labels.engagement_score.quantile([0.25,0.5,0.75])"
   ]
  },
  {
   "cell_type": "code",
   "execution_count": 37,
   "metadata": {
    "id": "qe-Nrb_57wEs"
   },
   "outputs": [],
   "source": [
    "#Splitting the data into two quartiles for the lowest and highest engageent scores\n",
    "quart_25 = data_labels[data_labels['engagement_score']<0.045992] #lowest\n",
    "quart_75 = data_labels[data_labels['engagement_score']>0.097723] #highest\n",
    "\n",
    "#Average of topic weights in each of these quartiles\n",
    "avg_low = pd.DataFrame(quart_25[['Topic 0','Topic 1','Topic 2','Topic 3']].mean())\n",
    "avg_low = avg_low.transpose()\n",
    "\n",
    "avg_high = pd.DataFrame(quart_75[['Topic 0','Topic 1','Topic 2','Topic 3']].mean())\n",
    "avg_high = avg_high.transpose()"
   ]
  },
  {
   "cell_type": "code",
   "execution_count": 38,
   "metadata": {
    "id": "zN915EWL7wEu",
    "outputId": "b78e4e58-605c-44c2-bd0c-0ad1e73cd837"
   },
   "outputs": [
    {
     "data": {
      "text/html": [
       "<div>\n",
       "<style scoped>\n",
       "    .dataframe tbody tr th:only-of-type {\n",
       "        vertical-align: middle;\n",
       "    }\n",
       "\n",
       "    .dataframe tbody tr th {\n",
       "        vertical-align: top;\n",
       "    }\n",
       "\n",
       "    .dataframe thead th {\n",
       "        text-align: right;\n",
       "    }\n",
       "</style>\n",
       "<table border=\"1\" class=\"dataframe\">\n",
       "  <thead>\n",
       "    <tr style=\"text-align: right;\">\n",
       "      <th></th>\n",
       "      <th>Topic 0</th>\n",
       "      <th>Topic 1</th>\n",
       "      <th>Topic 2</th>\n",
       "      <th>Topic 3</th>\n",
       "    </tr>\n",
       "    <tr>\n",
       "      <th>Engagement_levels</th>\n",
       "      <th></th>\n",
       "      <th></th>\n",
       "      <th></th>\n",
       "      <th></th>\n",
       "    </tr>\n",
       "  </thead>\n",
       "  <tbody>\n",
       "    <tr>\n",
       "      <th>Low Engagement</th>\n",
       "      <td>0.041012</td>\n",
       "      <td>0.216785</td>\n",
       "      <td>0.083103</td>\n",
       "      <td>0.659099</td>\n",
       "    </tr>\n",
       "    <tr>\n",
       "      <th>High Engagement</th>\n",
       "      <td>0.218818</td>\n",
       "      <td>0.242639</td>\n",
       "      <td>0.299544</td>\n",
       "      <td>0.238999</td>\n",
       "    </tr>\n",
       "  </tbody>\n",
       "</table>\n",
       "</div>"
      ],
      "text/plain": [
       "                    Topic 0   Topic 1   Topic 2   Topic 3\n",
       "Engagement_levels                                        \n",
       "Low Engagement     0.041012  0.216785  0.083103  0.659099\n",
       "High Engagement    0.218818  0.242639  0.299544  0.238999"
      ]
     },
     "execution_count": 38,
     "metadata": {},
     "output_type": "execute_result"
    }
   ],
   "source": [
    "engagement_scores_high_and_low = avg_low.append(avg_high,ignore_index=True)\n",
    "engagement_scores_high_and_low['Engagement_levels'] = ['Low Engagement','High Engagement']\n",
    "engagement_scores_high_and_low.set_index('Engagement_levels',inplace=True)\n",
    "engagement_scores_high_and_low#.rename(columns = {\"Topic 0\": \"A\", \"Topic 1\": \"B\", \"Topic 2\": \"C\", \"Topic 3\": \"D\"})"
   ]
  },
  {
   "cell_type": "markdown",
   "metadata": {
    "id": "lKN4v6ac7wEw"
   },
   "source": [
    "### LDA Visualisation"
   ]
  },
  {
   "cell_type": "code",
   "execution_count": 39,
   "metadata": {
    "id": "HwoBdB2G7wEw",
    "outputId": "c4d59bb7-5655-4f05-e191-7d84f6518c3b"
   },
   "outputs": [
    {
     "data": {
      "text/html": [
       "\n",
       "<link rel=\"stylesheet\" type=\"text/css\" href=\"https://cdn.rawgit.com/bmabey/pyLDAvis/files/ldavis.v1.0.0.css\">\n",
       "\n",
       "\n",
       "<div id=\"ldavis_el2754824614898764248647643277\"></div>\n",
       "<script type=\"text/javascript\">\n",
       "\n",
       "var ldavis_el2754824614898764248647643277_data = {\"mdsDat\": {\"x\": [0.0713225018515068, 0.09897883842325063, -0.2728626023174434, 0.10256126204268619], \"y\": [-0.003172394738034467, -0.1397331772285518, 0.0015973548032106773, 0.14130821716337552], \"topics\": [1, 2, 3, 4], \"cluster\": [1, 1, 1, 1], \"Freq\": [29.642671585083008, 25.848960876464844, 22.458757400512695, 22.049606323242188]}, \"tinfo\": {\"Term\": [\"hair\", \"leg\", \"sleeve\", \"hairstyle\", \"black\", \"clothe\", \"blue\", \"neck\", \"skin\", \"monochrome\", \"face\", \"long\", \"beauty\", \"outerwear\", \"photography\", \"white\", \"footwear\", \"blond\", \"photograph\", \"dress\", \"denim\", \"chin\", \"lip\", \"pattern\", \"jeans\", \"shirt\", \"shoe\", \"child\", \"shoot\", \"design\", \"shoe\", \"vehicle\", \"knee\", \"thigh\", \"leg\", \"high\", \"sandal\", \"tights\", \"chair\", \"ankle\", \"formal\", \"wear\", \"furniture\", \"blazer\", \"footwear\", \"costume\", \"fur\", \"sportswear\", \"suit\", \"muscle\", \"purple\", \"illustration\", \"joint\", \"body\", \"human\", \"sea\", \"magenta\", \"sit\", \"headgear\", \"worker\", \"stand\", \"fashion\", \"shoot\", \"photo\", \"photography\", \"clothe\", \"outerwear\", \"dress\", \"shoulder\", \"design\", \"model\", \"white\", \"arm\", \"street\", \"black\", \"beauty\", \"monochrome\", \"denim\", \"bag\", \"dog\", \"blue\", \"electric\", \"trench\", \"text\", \"light\", \"photograph\", \"canidae\", \"jeans\", \"architecture\", \"font\", \"coat\", \"turquoise\", \"black\", \"snapshot\", \"sky\", \"overcoat\", \"street\", \"leather\", \"trousers\", \"textile\", \"stock\", \"white\", \"pocket\", \"style\", \"jacket\", \"photography\", \"stand\", \"fashion\", \"outerwear\", \"clothe\", \"cool\", \"beauty\", \"shoulder\", \"people\", \"model\", \"design\", \"skin\", \"face\", \"eyebrow\", \"nose\", \"hair\", \"chin\", \"head\", \"lip\", \"forehead\", \"hairstyle\", \"expression\", \"eye\", \"cheek\", \"facial\", \"blond\", \"long\", \"ear\", \"friendship\", \"smile\", \"child\", \"hand\", \"gesture\", \"beauty\", \"brown\", \"toddler\", \"portrait\", \"shoot\", \"photo\", \"model\", \"people\", \"sit\", \"human\", \"shoulder\", \"photography\", \"fashion\", \"neck\", \"arm\", \"pattern\", \"sleeve\", \"short\", \"green\", \"sunglasses\", \"product\", \"equipment\", \"robe\", \"shirt\", \"glass\", \"uniform\", \"summer\", \"eyewear\", \"neck\", \"beige\", \"plant\", \"collar\", \"tree\", \"table\", \"dress\", \"pink\", \"design\", \"clothe\", \"headgear\", \"waist\", \"cool\", \"outerwear\", \"yellow\", \"vacation\", \"magenta\", \"shoulder\", \"fashion\", \"textile\", \"model\", \"white\", \"joint\", \"beauty\", \"footwear\"], \"Freq\": [151.0, 122.0, 72.0, 62.0, 132.0, 215.0, 57.0, 81.0, 45.0, 48.0, 41.0, 48.0, 136.0, 180.0, 205.0, 167.0, 74.0, 40.0, 44.0, 105.0, 35.0, 32.0, 32.0, 32.0, 41.0, 35.0, 34.0, 45.0, 86.0, 77.0, 33.72093963623047, 19.256099700927734, 13.734482765197754, 13.68416976928711, 111.69927978515625, 7.953418254852295, 7.935912132263184, 7.904943943023682, 7.748848915100098, 6.853762149810791, 36.51777648925781, 36.472660064697266, 18.38618278503418, 24.0838623046875, 60.41440963745117, 6.974315166473389, 15.448446273803711, 8.340474128723145, 29.83985137939453, 7.522831439971924, 6.750467777252197, 7.768844127655029, 44.24455261230469, 7.426002502441406, 41.899112701416016, 4.801210880279541, 5.751082897186279, 41.459136962890625, 9.081787109375, 3.896836519241333, 37.33924865722656, 156.85635375976562, 36.6568717956543, 36.49293899536133, 70.88412475585938, 63.18114471435547, 52.970829010009766, 36.97938537597656, 43.99026870727539, 27.66490936279297, 36.75592041015625, 37.719932556152344, 14.871936798095703, 15.707561492919922, 22.049772262573242, 14.459707260131836, 47.42559051513672, 34.15949249267578, 18.705398559570312, 16.9113712310791, 54.827144622802734, 14.11889934539795, 12.083090782165527, 9.46306324005127, 9.442301750183105, 40.6171875, 6.722264289855957, 36.85719680786133, 8.355321884155273, 8.417535781860352, 33.372581481933594, 11.373205184936523, 99.18246459960938, 28.920494079589844, 8.816825866699219, 14.171191215515137, 27.939434051513672, 12.795384407043457, 7.5244855880737305, 17.57175064086914, 15.348949432373047, 96.3791732788086, 4.732702732086182, 12.840776443481445, 21.308679580688477, 98.95750427246094, 40.996150970458984, 91.64427185058594, 42.46318817138672, 43.353675842285156, 13.793584823608398, 20.390974044799805, 19.681747436523438, 10.956364631652832, 13.072208404541016, 11.76720905303955, 44.276668548583984, 40.22288513183594, 21.36277961730957, 17.411216735839844, 144.708984375, 30.70136260986328, 14.342461585998535, 30.553537368774414, 13.356868743896484, 58.997928619384766, 13.316298484802246, 12.213922500610352, 10.320820808410645, 17.73247528076172, 37.179473876953125, 44.06644821166992, 7.304437160491943, 7.013640403747559, 16.993066787719727, 35.00598907470703, 8.982867240905762, 6.5008697509765625, 81.64181518554688, 14.770735740661621, 4.223179817199707, 7.310065746307373, 40.192745208740234, 39.63594436645508, 55.06276321411133, 11.291911125183105, 24.862905502319336, 20.67207145690918, 32.811424255371094, 32.24564743041992, 37.6984977722168, 18.455663681030273, 11.450160026550293, 29.854196548461914, 66.95112609863281, 8.356138229370117, 12.952835083007812, 12.96296215057373, 8.302990913391113, 7.316611289978027, 9.862885475158691, 30.98754119873047, 12.966588020324707, 15.461685180664062, 14.977327346801758, 16.396203994750977, 58.51762008666992, 26.965164184570312, 7.176253795623779, 11.939070701599121, 8.255382537841797, 5.12762975692749, 54.19790267944336, 12.16844367980957, 37.94150161743164, 104.2650146484375, 8.167668342590332, 13.859389305114746, 18.27458381652832, 80.77017974853516, 12.75027847290039, 7.582674503326416, 4.304413318634033, 51.54069519042969, 115.31499481201172, 10.503862380981445, 26.815677642822266, 29.005916595458984, 17.39181137084961, 19.636337280273438, 12.98905086517334], \"Total\": [151.0, 122.0, 72.0, 62.0, 132.0, 215.0, 57.0, 81.0, 45.0, 48.0, 41.0, 48.0, 136.0, 180.0, 205.0, 167.0, 74.0, 40.0, 44.0, 105.0, 35.0, 32.0, 32.0, 32.0, 41.0, 35.0, 34.0, 45.0, 86.0, 77.0, 34.80476379394531, 20.324060440063477, 14.512345314025879, 14.514841079711914, 122.03150177001953, 8.712087631225586, 8.713541030883789, 8.711997985839844, 8.719738006591797, 7.751776695251465, 42.45320510864258, 42.445255279541016, 22.26704216003418, 29.802793502807617, 74.9817123413086, 8.678897857666016, 19.313650131225586, 10.720112800598145, 38.39579772949219, 9.742448806762695, 8.76170825958252, 10.571020126342773, 69.66380310058594, 11.768166542053223, 71.38055419921875, 8.73288345336914, 10.820627212524414, 78.0572738647461, 17.77582359313965, 8.677142143249512, 85.67064666748047, 401.5141296386719, 86.57645416259766, 88.37776184082031, 205.3992919921875, 215.93234252929688, 180.0298309326172, 105.58924865722656, 148.02413940429688, 77.64515686035156, 131.70657348632812, 167.77125549316406, 34.51630783081055, 44.33100509643555, 132.81008911132812, 136.1288299560547, 48.37264633178711, 35.39653015136719, 19.568328857421875, 17.707508087158203, 57.826358795166016, 14.919235229492188, 13.077655792236328, 10.276215553283691, 10.277861595153809, 44.86104965209961, 7.484708786010742, 41.22220230102539, 9.353717803955078, 10.370856285095215, 44.36201095581055, 15.164742469787598, 132.81008911132812, 40.476192474365234, 13.368106842041016, 21.765474319458008, 44.33100509643555, 20.870256423950195, 12.295328140258789, 28.78989601135254, 26.469921112060547, 167.77125549316406, 8.678426742553711, 23.722576141357422, 40.106788635253906, 205.3992919921875, 85.67064666748047, 401.5141296386719, 180.0298309326172, 215.93234252929688, 40.089385986328125, 136.1288299560547, 148.02413940429688, 28.3526611328125, 131.70657348632812, 77.64515686035156, 45.4699821472168, 41.41392135620117, 22.217044830322266, 18.174549102783203, 151.4807891845703, 32.32938003540039, 15.138147354125977, 32.306610107421875, 14.127037048339844, 62.4759521484375, 14.122483253479004, 13.104704856872559, 11.091645240783691, 19.127859115600586, 40.300601959228516, 48.467750549316406, 8.059505462646484, 8.047111511230469, 21.91065216064453, 45.18413162231445, 11.920034408569336, 9.850921630859375, 136.1288299560547, 26.65923500061035, 7.993683815002441, 14.562285423278809, 86.57645416259766, 88.37776184082031, 131.70657348632812, 28.3526611328125, 78.0572738647461, 71.38055419921875, 148.02413940429688, 205.3992919921875, 401.5141296386719, 81.7081298828125, 34.51630783081055, 32.25071716308594, 72.57685852050781, 9.086566925048828, 14.121599197387695, 14.148035049438477, 9.082398414611816, 8.071676254272461, 11.070171356201172, 35.140968322753906, 15.99600601196289, 20.063758850097656, 20.041112899780273, 22.097047805786133, 81.7081298828125, 44.57429504394531, 11.932313919067383, 20.698226928710938, 14.652851104736328, 9.844541549682617, 105.58924865722656, 24.797119140625, 77.64515686035156, 215.93234252929688, 17.77582359313965, 30.390487670898438, 40.089385986328125, 180.0298309326172, 29.30394172668457, 17.591489791870117, 10.820627212524414, 148.02413940429688, 401.5141296386719, 28.78989601135254, 131.70657348632812, 167.77125549316406, 69.66380310058594, 136.1288299560547, 74.9817123413086], \"Category\": [\"Default\", \"Default\", \"Default\", \"Default\", \"Default\", \"Default\", \"Default\", \"Default\", \"Default\", \"Default\", \"Default\", \"Default\", \"Default\", \"Default\", \"Default\", \"Default\", \"Default\", \"Default\", \"Default\", \"Default\", \"Default\", \"Default\", \"Default\", \"Default\", \"Default\", \"Default\", \"Default\", \"Default\", \"Default\", \"Default\", \"Topic1\", \"Topic1\", \"Topic1\", \"Topic1\", \"Topic1\", \"Topic1\", \"Topic1\", \"Topic1\", \"Topic1\", \"Topic1\", \"Topic1\", \"Topic1\", \"Topic1\", \"Topic1\", \"Topic1\", \"Topic1\", \"Topic1\", \"Topic1\", \"Topic1\", \"Topic1\", \"Topic1\", \"Topic1\", \"Topic1\", \"Topic1\", \"Topic1\", \"Topic1\", \"Topic1\", \"Topic1\", \"Topic1\", \"Topic1\", \"Topic1\", \"Topic1\", \"Topic1\", \"Topic1\", \"Topic1\", \"Topic1\", \"Topic1\", \"Topic1\", \"Topic1\", \"Topic1\", \"Topic1\", \"Topic1\", \"Topic1\", \"Topic1\", \"Topic1\", \"Topic1\", \"Topic2\", \"Topic2\", \"Topic2\", \"Topic2\", \"Topic2\", \"Topic2\", \"Topic2\", \"Topic2\", \"Topic2\", \"Topic2\", \"Topic2\", \"Topic2\", \"Topic2\", \"Topic2\", \"Topic2\", \"Topic2\", \"Topic2\", \"Topic2\", \"Topic2\", \"Topic2\", \"Topic2\", \"Topic2\", \"Topic2\", \"Topic2\", \"Topic2\", \"Topic2\", \"Topic2\", \"Topic2\", \"Topic2\", \"Topic2\", \"Topic2\", \"Topic2\", \"Topic2\", \"Topic2\", \"Topic2\", \"Topic2\", \"Topic2\", \"Topic2\", \"Topic2\", \"Topic2\", \"Topic3\", \"Topic3\", \"Topic3\", \"Topic3\", \"Topic3\", \"Topic3\", \"Topic3\", \"Topic3\", \"Topic3\", \"Topic3\", \"Topic3\", \"Topic3\", \"Topic3\", \"Topic3\", \"Topic3\", \"Topic3\", \"Topic3\", \"Topic3\", \"Topic3\", \"Topic3\", \"Topic3\", \"Topic3\", \"Topic3\", \"Topic3\", \"Topic3\", \"Topic3\", \"Topic3\", \"Topic3\", \"Topic3\", \"Topic3\", \"Topic3\", \"Topic3\", \"Topic3\", \"Topic3\", \"Topic3\", \"Topic3\", \"Topic3\", \"Topic4\", \"Topic4\", \"Topic4\", \"Topic4\", \"Topic4\", \"Topic4\", \"Topic4\", \"Topic4\", \"Topic4\", \"Topic4\", \"Topic4\", \"Topic4\", \"Topic4\", \"Topic4\", \"Topic4\", \"Topic4\", \"Topic4\", \"Topic4\", \"Topic4\", \"Topic4\", \"Topic4\", \"Topic4\", \"Topic4\", \"Topic4\", \"Topic4\", \"Topic4\", \"Topic4\", \"Topic4\", \"Topic4\", \"Topic4\", \"Topic4\", \"Topic4\", \"Topic4\", \"Topic4\", \"Topic4\", \"Topic4\", \"Topic4\", \"Topic4\"], \"logprob\": [30.0, 29.0, 28.0, 27.0, 26.0, 25.0, 24.0, 23.0, 22.0, 21.0, 20.0, 19.0, 18.0, 17.0, 16.0, 15.0, 14.0, 13.0, 12.0, 11.0, 10.0, 9.0, 8.0, 7.0, 6.0, 5.0, 4.0, 3.0, 2.0, 1.0, -3.8245999813079834, -4.384900093078613, -4.722899913787842, -4.726500034332275, -2.627000093460083, -5.269199848175049, -5.271399974822998, -5.275300025939941, -5.295199871063232, -5.418000221252441, -3.744999885559082, -3.7462000846862793, -4.43120002746582, -4.161200046539307, -3.241499900817871, -5.4004998207092285, -4.605299949645996, -5.22160005569458, -3.946899890899658, -5.32480001449585, -5.433199882507324, -5.292600154876709, -3.552999973297119, -5.337800025939941, -3.6075000762939453, -5.773900032043457, -5.593400001525879, -3.6180999279022217, -5.136499881744385, -5.982600212097168, -3.7227001190185547, -2.287400007247925, -3.7411999702453613, -3.7455999851226807, -3.081700086593628, -3.1967999935150146, -3.372999906539917, -3.7323999404907227, -3.558799982070923, -4.022600173950195, -3.7385001182556152, -3.712599992752075, -4.6433000564575195, -4.588600158691406, -4.249499797821045, -4.67140007019043, -3.3466999530792236, -3.674799919128418, -4.2769999504089355, -4.377799987792969, -3.2016000747680664, -4.558300018310547, -4.714000225067139, -4.958399772644043, -4.960599899291992, -3.5016000270843506, -5.3003997802734375, -3.59879994392395, -5.082900047302246, -5.075500011444092, -3.6981000900268555, -4.774600028991699, -2.6089000701904297, -3.8413000106811523, -5.029200077056885, -4.554599761962891, -3.8757998943328857, -4.656700134277344, -5.187699794769287, -4.3394999504089355, -4.474800109863281, -2.637500047683716, -5.651299953460693, -4.653200149536133, -4.146699905395508, -2.6110999584198, -3.492300033569336, -2.6879000663757324, -3.457200050354004, -3.4363999366760254, -4.581600189208984, -4.190700054168701, -4.226099967956543, -4.8119001388549805, -4.635300159454346, -4.740499973297119, -3.2748000621795654, -3.370800018310547, -4.003600120544434, -4.208099842071533, -2.0905001163482666, -3.640899896621704, -4.4019999504089355, -3.645699977874756, -4.473199844360352, -2.9876999855041504, -4.476200103759766, -4.562699794769287, -4.731100082397461, -4.189799785614014, -3.44950008392334, -3.2795000076293945, -5.076700210571289, -5.117400169372559, -4.232399940490723, -3.509700059890747, -4.869900226593018, -5.193299770355225, -2.662899971008301, -4.372600078582764, -5.624599933624268, -5.076000213623047, -3.371500015258789, -3.385499954223633, -3.05679988861084, -4.64109992980957, -3.851900100708008, -4.036399841308594, -3.57450008392334, -3.5917999744415283, -3.4356000423431396, -4.149899959564209, -4.627200126647949, -3.6505000591278076, -2.842900037765503, -4.923799991607666, -4.485499858856201, -4.4847002029418945, -4.930200099945068, -5.056700229644775, -4.7581000328063965, -3.613300085067749, -4.484499931335449, -4.308499813079834, -4.3403000831604, -4.249800205230713, -2.9774999618530273, -3.7523000240325928, -5.076099872589111, -4.566999912261963, -4.935999870300293, -5.412199974060059, -3.0541999340057373, -4.547999858856201, -3.410799980163574, -2.399899959564209, -4.946700096130371, -4.417900085449219, -4.141300201416016, -2.6552000045776367, -4.501299858093262, -5.020999908447266, -5.587200164794922, -3.1045000553131104, -2.2992000579833984, -4.695099830627441, -3.7578999996185303, -3.67930006980896, -4.190800189971924, -4.069499969482422, -4.482699871063232], \"loglift\": [30.0, 29.0, 28.0, 27.0, 26.0, 25.0, 24.0, 23.0, 22.0, 21.0, 20.0, 19.0, 18.0, 17.0, 16.0, 15.0, 14.0, 13.0, 12.0, 11.0, 10.0, 9.0, 8.0, 7.0, 6.0, 5.0, 4.0, 3.0, 2.0, 1.0, 1.1842999458312988, 1.1619999408721924, 1.1608999967575073, 1.156999945640564, 1.127500057220459, 1.1247999668121338, 1.122499942779541, 1.1187000274658203, 1.0979000329971313, 1.0928000211715698, 1.0654000043869019, 1.0642999410629272, 1.024399995803833, 1.0029000043869019, 0.9998999834060669, 0.9973000288009644, 0.9926999807357788, 0.9649999737739563, 0.9639000296592712, 0.9574000239372253, 0.9552000164985657, 0.9079999923706055, 0.7620000243186951, 0.7555000185966492, 0.6832000017166138, 0.6176999807357788, 0.583899974822998, 0.5831999778747559, 0.5443999767303467, 0.4153999984264374, 0.3855000138282776, 0.2759999930858612, 0.3564999997615814, 0.33149999380111694, 0.15199999511241913, -0.013000000268220901, -0.007400000002235174, 0.16680000722408295, 0.0024999999441206455, 0.18400000035762787, -0.06030000001192093, -0.27649998664855957, 0.37400001287460327, 0.17839999496936798, -0.5796999931335449, -1.0262999534606934, 1.3330999612808228, 1.3172999620437622, 1.307800054550171, 1.3069000244140625, 1.2996000051498413, 1.2977999448776245, 1.273800015449524, 1.2704999446868896, 1.2681000232696533, 1.253499984741211, 1.2454999685287476, 1.2410000562667847, 1.2400000095367432, 1.1441999673843384, 1.0683000087738037, 1.0651999711990356, 1.0608999729156494, 1.016700029373169, 0.9366999864578247, 0.923799991607666, 0.8913000226020813, 0.8636999726295471, 0.8618000149726868, 0.8592000007629395, 0.8079000115394592, 0.7986000180244446, 0.7465999722480774, 0.7390999794006348, 0.7204999923706055, 0.6226000189781189, 0.6158999800682068, -0.12439999729394913, -0.09160000085830688, -0.25270000100135803, 0.28600001335144043, -0.5455999970436096, -0.6647999882698059, 0.40209999680519104, -0.9571999907493591, -0.5339000225067139, 1.4668999910354614, 1.4643000364303589, 1.454300045967102, 1.450600028038025, 1.4478000402450562, 1.4417999982833862, 1.4394999742507935, 1.4377000331878662, 1.437399983406067, 1.4362000226974487, 1.4347000122070312, 1.4230999946594238, 1.4214999675750732, 1.4177000522613525, 1.4128999710083008, 1.398300051689148, 1.3950999975204468, 1.3559999465942383, 1.239300012588501, 1.2382999658584595, 1.2106000185012817, 1.0779000520706177, 0.982200026512146, 0.902999997138977, 0.855400025844574, 0.8043000102043152, 0.7261000275611877, 0.6916000247001648, 0.621399998664856, 0.5728999972343445, 0.34940001368522644, 0.2542000114917755, -0.013100000098347664, -0.3580999970436096, -0.8720999956130981, 0.00570000009611249, 0.39010000228881836, 1.4347000122070312, 1.4312000274658203, 1.4280999898910522, 1.4255000352859497, 1.424399971961975, 1.4221999645233154, 1.413699984550476, 1.396399974822998, 1.3861000537872314, 1.301900029182434, 1.2512999773025513, 1.2206000089645386, 1.2135000228881836, 1.1779999732971191, 1.0092999935150146, 1.0033999681472778, 0.9616000056266785, 0.9380999803543091, 0.8596000075340271, 0.8450000286102295, 0.800000011920929, 0.795799970626831, 0.7838000059127808, 0.7342000007629395, 0.7267000079154968, 0.7263000011444092, 0.7103999853134155, 0.6797000169754028, 0.6703000068664551, 0.5900999903678894, 0.4569000005722046, 0.26429998874664307, 0.503600001335144, -0.07970000058412552, -0.24320000410079956, 0.1242000013589859, -0.4242999851703644, -0.24130000174045563]}, \"token.table\": {\"Topic\": [1, 2, 1, 2, 3, 4, 2, 1, 2, 3, 4, 1, 2, 3, 4, 1, 2, 3, 4, 1, 2, 4, 1, 2, 3, 4, 1, 2, 3, 1, 3, 1, 2, 3, 2, 1, 3, 1, 2, 3, 4, 3, 4, 1, 2, 3, 4, 1, 2, 4, 1, 2, 4, 1, 2, 3, 4, 1, 2, 2, 4, 1, 2, 4, 2, 1, 2, 3, 4, 3, 2, 4, 3, 3, 3, 1, 2, 3, 4, 2, 3, 2, 3, 1, 2, 3, 4, 2, 4, 1, 2, 4, 3, 1, 2, 3, 4, 1, 3, 1, 2, 4, 1, 2, 4, 2, 3, 2, 3, 4, 2, 4, 1, 2, 3, 4, 2, 3, 4, 2, 3, 3, 1, 4, 1, 1, 2, 3, 4, 1, 2, 1, 2, 4, 2, 4, 1, 2, 3, 4, 1, 1, 2, 3, 4, 1, 2, 3, 4, 2, 2, 3, 4, 2, 3, 4, 1, 2, 4, 1, 2, 3, 4, 2, 1, 3, 1, 2, 3, 4, 3, 1, 2, 3, 4, 1, 2, 4, 2, 4, 2, 3, 4, 1, 2, 3, 4, 1, 2, 3, 4, 1, 2, 3, 4, 1, 2, 3, 4, 1, 4, 2, 4, 2, 3, 4, 1, 4, 2, 4, 1, 1, 2, 3, 4, 1, 2, 4, 1, 1, 2, 3, 4, 4, 1, 2, 3, 4, 1, 2, 3, 4, 3, 4, 2, 3, 4, 1, 2, 4, 1, 2, 3, 1, 2, 3, 1, 4, 1, 2, 3, 4, 1, 2, 1, 2, 1, 2, 4, 1, 2, 4, 1, 3, 4, 3, 4, 1, 2, 4, 2, 2, 4, 1, 1, 1, 3, 4, 2, 4, 2, 1, 2, 4, 2, 4, 2, 3, 4, 1, 2, 4, 1, 4, 1, 2, 4, 1, 2, 3, 4, 1, 2, 3, 4, 1, 2, 4, 1, 2, 3, 4], \"Freq\": [0.9030187726020813, 0.8552749156951904, 0.43457719683647156, 0.05794362351298332, 0.3186899423599243, 0.17383088171482086, 0.9709566831588745, 0.1028437539935112, 0.14691965281963348, 0.60237056016922, 0.14691965281963348, 0.15704117715358734, 0.15704117715358734, 0.067303366959095, 0.6057302951812744, 0.16565006971359253, 0.745425283908844, 0.030118193477392197, 0.05270683765411377, 0.805293619632721, 0.16776950657367706, 0.03355390205979347, 0.02481352537870407, 0.02481352537870407, 0.9181004166603088, 0.02481352537870407, 0.01729315146803856, 0.9511233568191528, 0.03458630293607712, 0.594825029373169, 0.33990001678466797, 0.33759409189224243, 0.11253136396408081, 0.562656819820404, 0.9352401494979858, 0.9174587726593018, 0.9015794992446899, 0.06639499217271805, 0.0442633256316185, 0.7746082544326782, 0.11065831780433655, 0.9588801264762878, 0.030931616201996803, 0.29175806045532227, 0.19913645088672638, 0.023155400529503822, 0.4816323518753052, 0.11270904541015625, 0.7438797354698181, 0.13525085151195526, 0.1932532638311386, 0.1932532638311386, 0.5797597765922546, 0.09977703541517258, 0.3492196202278137, 0.09977703541517258, 0.4489966630935669, 0.8065540194511414, 0.1152220070362091, 0.9605461359024048, 0.02825135737657547, 0.3606148958206177, 0.154549241065979, 0.48940593004226685, 0.9600447416305542, 0.3504144549369812, 0.10417727380990982, 0.02841198444366455, 0.5114157199859619, 0.8685396313667297, 0.9383859038352966, 0.8672299981117249, 0.9205179810523987, 0.915701687335968, 0.9452202320098877, 0.0905098244547844, 0.0452549122273922, 0.0905098244547844, 0.7240785956382751, 0.024146469309926033, 0.9658588171005249, 0.0522797666490078, 0.941035807132721, 0.3910198509693146, 0.22913265228271484, 0.09464175254106522, 0.28641581535339355, 0.7713924050331116, 0.09642405062913895, 0.8001950979232788, 0.013336584903299809, 0.17337560653686523, 0.9202212691307068, 0.8715478777885437, 0.09422139078378677, 0.023555347695946693, 0.023555347695946693, 0.12426818907260895, 0.8698773384094238, 0.7766527533531189, 0.10355370491743088, 0.05177685245871544, 0.8083695769309998, 0.08981884270906448, 0.08981884270906448, 0.3045400381088257, 0.7105934023857117, 0.1250312179327011, 0.06251560896635056, 0.8127028942108154, 0.07081350684165955, 0.9205756187438965, 0.0066014970652759075, 0.019804490730166435, 0.9572170972824097, 0.02640598826110363, 0.048018474131822586, 0.9443633556365967, 0.01600615866482258, 0.16778475046157837, 0.755031406879425, 0.9248159527778625, 0.5063056349754333, 0.4500494599342346, 0.9182643890380859, 0.5883955359458923, 0.08405650407075882, 0.29419776797294617, 0.04202825203537941, 0.7567859888076782, 0.18919649720191956, 0.2742677927017212, 0.5236021280288696, 0.1994674801826477, 0.8975745439529419, 0.09703508764505386, 0.6316049098968506, 0.014354657381772995, 0.10048259794712067, 0.24402916431427002, 0.9646958708763123, 0.23957540094852448, 0.6228960156440735, 0.09583015739917755, 0.047915078699588776, 0.9177957773208618, 0.024583816528320312, 0.008194605819880962, 0.057362236082553864, 0.8756685256958008, 0.03095341846346855, 0.9595559239387512, 0.03095341846346855, 0.020632276311516762, 0.9078201651573181, 0.061896827071905136, 0.5544965267181396, 0.09241608530282974, 0.36966434121131897, 0.28092750906944275, 0.0987042635679245, 0.41759493947029114, 0.20500116050243378, 0.9716234803199768, 0.8211488127708435, 0.20528720319271088, 0.024477368220686913, 0.036716051399707794, 0.22029632329940796, 0.7220823764801025, 0.9353739619255066, 0.29439565539360046, 0.23329466581344604, 0.02221854031085968, 0.44992542266845703, 0.22972162067890167, 0.6432205438613892, 0.09188865125179291, 0.062014125287532806, 0.9302119016647339, 0.38797062635421753, 0.38797062635421753, 0.21162034571170807, 0.4073422849178314, 0.1244656965136528, 0.4526025354862213, 0.011315063573420048, 0.04458210617303848, 0.9139331579208374, 0.04458210617303848, 0.02229105308651924, 0.3456681966781616, 0.4819880425930023, 0.15579411387443542, 0.014605698175728321, 0.32261812686920166, 0.08065453171730042, 0.12098179757595062, 0.4839271903038025, 0.3352241814136505, 0.5866422653198242, 0.5761412978172302, 0.3456847667694092, 0.4806937873363495, 0.4806937873363495, 0.880824625492096, 0.7989309430122375, 0.11413299292325974, 0.09033283591270447, 0.9033283591270447, 0.918111264705658, 0.5725485682487488, 0.229019433259964, 0.229019433259964, 0.114509716629982, 0.02845681458711624, 0.08537044376134872, 0.8821612596511841, 0.976877748966217, 0.4273679256439209, 0.09240387380123138, 0.4620193839073181, 0.011550484225153923, 0.8804205060005188, 0.29724881052970886, 0.13511309027671814, 0.22293661534786224, 0.35129404067993164, 0.5252553224563599, 0.1409221589565277, 0.3202776610851288, 0.012811105698347092, 0.9676713943481445, 0.021992530673742294, 0.6732441782951355, 0.29921963810920715, 0.07480490952730179, 0.027556993067264557, 0.041335489600896835, 0.9231593012809753, 0.04563990235328674, 0.13691970705986023, 0.7758783102035522, 0.24705880880355835, 0.7164705395698547, 0.024705881252884865, 0.7462608218193054, 0.18656520545482635, 0.43188655376434326, 0.47857698798179626, 0.011672609485685825, 0.0700356587767601, 0.41556602716445923, 0.5666809678077698, 0.3609212040901184, 0.6316121220588684, 0.37938544154167175, 0.5480011701583862, 0.042153939604759216, 0.7813355326652527, 0.20835614204406738, 0.026044517755508423, 0.19958971440792084, 0.04989742860198021, 0.7484614253044128, 0.07068119198083878, 0.9188554883003235, 0.304737389087677, 0.20315827429294586, 0.5078956484794617, 0.8758087754249573, 0.6252193450927734, 0.38207849860191345, 0.9645300507545471, 0.9182738661766052, 0.25019752979278564, 0.5003950595855713, 0.25019752979278564, 0.409476637840271, 0.5459688305854797, 0.917595624923706, 0.3253268301486969, 0.6506536602973938, 0.08133170753717422, 0.7253667712211609, 0.1978272944688797, 0.09968221932649612, 0.09968221932649612, 0.7476166486740112, 0.34107401967048645, 0.22738267481327057, 0.45476534962654114, 0.9348525404930115, 0.04920276626944542, 0.3619553744792938, 0.19743019342422485, 0.46067047119140625, 0.8481513261795044, 0.09423903375864029, 0.023559758439660072, 0.023559758439660072, 0.22649887204170227, 0.5722076892852783, 0.029802482575178146, 0.17285440862178802, 0.4609812796115875, 0.34573593735694885, 0.23049063980579376, 0.1706255078315735, 0.30712592601776123, 0.06825020164251328, 0.4436263144016266], \"Term\": [\"ankle\", \"architecture\", \"arm\", \"arm\", \"arm\", \"arm\", \"bag\", \"beauty\", \"beauty\", \"beauty\", \"beauty\", \"beige\", \"beige\", \"beige\", \"beige\", \"black\", \"black\", \"black\", \"black\", \"blazer\", \"blazer\", \"blazer\", \"blond\", \"blond\", \"blond\", \"blond\", \"blue\", \"blue\", \"blue\", \"body\", \"body\", \"brown\", \"brown\", \"brown\", \"canidae\", \"chair\", \"cheek\", \"child\", \"child\", \"child\", \"child\", \"chin\", \"chin\", \"clothe\", \"clothe\", \"clothe\", \"clothe\", \"coat\", \"coat\", \"coat\", \"collar\", \"collar\", \"collar\", \"cool\", \"cool\", \"cool\", \"cool\", \"costume\", \"costume\", \"denim\", \"denim\", \"design\", \"design\", \"design\", \"dog\", \"dress\", \"dress\", \"dress\", \"dress\", \"ear\", \"electric\", \"equipment\", \"expression\", \"eye\", \"eyebrow\", \"eyewear\", \"eyewear\", \"eyewear\", \"eyewear\", \"face\", \"face\", \"facial\", \"facial\", \"fashion\", \"fashion\", \"fashion\", \"fashion\", \"font\", \"font\", \"footwear\", \"footwear\", \"footwear\", \"forehead\", \"formal\", \"formal\", \"formal\", \"formal\", \"friendship\", \"friendship\", \"fur\", \"fur\", \"fur\", \"furniture\", \"furniture\", \"furniture\", \"gesture\", \"gesture\", \"glass\", \"glass\", \"glass\", \"green\", \"green\", \"hair\", \"hair\", \"hair\", \"hair\", \"hairstyle\", \"hairstyle\", \"hairstyle\", \"hand\", \"hand\", \"head\", \"headgear\", \"headgear\", \"high\", \"human\", \"human\", \"human\", \"human\", \"illustration\", \"illustration\", \"jacket\", \"jacket\", \"jacket\", \"jeans\", \"jeans\", \"joint\", \"joint\", \"joint\", \"joint\", \"knee\", \"leather\", \"leather\", \"leather\", \"leather\", \"leg\", \"leg\", \"leg\", \"leg\", \"light\", \"lip\", \"lip\", \"lip\", \"long\", \"long\", \"long\", \"magenta\", \"magenta\", \"magenta\", \"model\", \"model\", \"model\", \"model\", \"monochrome\", \"muscle\", \"muscle\", \"neck\", \"neck\", \"neck\", \"neck\", \"nose\", \"outerwear\", \"outerwear\", \"outerwear\", \"outerwear\", \"overcoat\", \"overcoat\", \"overcoat\", \"pattern\", \"pattern\", \"people\", \"people\", \"people\", \"photo\", \"photo\", \"photo\", \"photo\", \"photograph\", \"photograph\", \"photograph\", \"photograph\", \"photography\", \"photography\", \"photography\", \"photography\", \"pink\", \"pink\", \"pink\", \"pink\", \"plant\", \"plant\", \"pocket\", \"pocket\", \"portrait\", \"portrait\", \"product\", \"purple\", \"purple\", \"robe\", \"robe\", \"sandal\", \"sea\", \"sea\", \"sea\", \"sea\", \"shirt\", \"shirt\", \"shirt\", \"shoe\", \"shoot\", \"shoot\", \"shoot\", \"shoot\", \"short\", \"shoulder\", \"shoulder\", \"shoulder\", \"shoulder\", \"sit\", \"sit\", \"sit\", \"sit\", \"skin\", \"skin\", \"sky\", \"sky\", \"sky\", \"sleeve\", \"sleeve\", \"sleeve\", \"smile\", \"smile\", \"smile\", \"snapshot\", \"snapshot\", \"snapshot\", \"sportswear\", \"sportswear\", \"stand\", \"stand\", \"stand\", \"stand\", \"stock\", \"stock\", \"street\", \"street\", \"style\", \"style\", \"style\", \"suit\", \"suit\", \"suit\", \"summer\", \"summer\", \"summer\", \"sunglasses\", \"sunglasses\", \"table\", \"table\", \"table\", \"text\", \"textile\", \"textile\", \"thigh\", \"tights\", \"toddler\", \"toddler\", \"toddler\", \"tree\", \"tree\", \"trench\", \"trousers\", \"trousers\", \"trousers\", \"turquoise\", \"turquoise\", \"uniform\", \"uniform\", \"uniform\", \"vacation\", \"vacation\", \"vacation\", \"vehicle\", \"vehicle\", \"waist\", \"waist\", \"waist\", \"wear\", \"wear\", \"wear\", \"wear\", \"white\", \"white\", \"white\", \"white\", \"worker\", \"worker\", \"worker\", \"yellow\", \"yellow\", \"yellow\", \"yellow\"]}, \"R\": 30, \"lambda.step\": 0.01, \"plot.opts\": {\"xlab\": \"PC1\", \"ylab\": \"PC2\"}, \"topic.order\": [3, 2, 1, 4]};\n",
       "\n",
       "function LDAvis_load_lib(url, callback){\n",
       "  var s = document.createElement('script');\n",
       "  s.src = url;\n",
       "  s.async = true;\n",
       "  s.onreadystatechange = s.onload = callback;\n",
       "  s.onerror = function(){console.warn(\"failed to load library \" + url);};\n",
       "  document.getElementsByTagName(\"head\")[0].appendChild(s);\n",
       "}\n",
       "\n",
       "if(typeof(LDAvis) !== \"undefined\"){\n",
       "   // already loaded: just create the visualization\n",
       "   !function(LDAvis){\n",
       "       new LDAvis(\"#\" + \"ldavis_el2754824614898764248647643277\", ldavis_el2754824614898764248647643277_data);\n",
       "   }(LDAvis);\n",
       "}else if(typeof define === \"function\" && define.amd){\n",
       "   // require.js is available: use it to load d3/LDAvis\n",
       "   require.config({paths: {d3: \"https://cdnjs.cloudflare.com/ajax/libs/d3/3.5.5/d3.min\"}});\n",
       "   require([\"d3\"], function(d3){\n",
       "      window.d3 = d3;\n",
       "      LDAvis_load_lib(\"https://cdn.rawgit.com/bmabey/pyLDAvis/files/ldavis.v1.0.0.js\", function(){\n",
       "        new LDAvis(\"#\" + \"ldavis_el2754824614898764248647643277\", ldavis_el2754824614898764248647643277_data);\n",
       "      });\n",
       "    });\n",
       "}else{\n",
       "    // require.js not available: dynamically load d3 & LDAvis\n",
       "    LDAvis_load_lib(\"https://cdnjs.cloudflare.com/ajax/libs/d3/3.5.5/d3.min.js\", function(){\n",
       "         LDAvis_load_lib(\"https://cdn.rawgit.com/bmabey/pyLDAvis/files/ldavis.v1.0.0.js\", function(){\n",
       "                 new LDAvis(\"#\" + \"ldavis_el2754824614898764248647643277\", ldavis_el2754824614898764248647643277_data);\n",
       "            })\n",
       "         });\n",
       "}\n",
       "</script>"
      ],
      "text/plain": [
       "PreparedData(topic_coordinates=              x         y  topics  cluster       Freq\n",
       "topic                                                \n",
       "2      0.071323 -0.003172       1        1  29.642672\n",
       "1      0.098979 -0.139733       2        1  25.848961\n",
       "0     -0.272863  0.001597       3        1  22.458757\n",
       "3      0.102561  0.141308       4        1  22.049606, topic_info=         Term        Freq       Total Category  logprob  loglift\n",
       "24       hair  151.000000  151.000000  Default  30.0000  30.0000\n",
       "84        leg  122.000000  122.000000  Default  29.0000  29.0000\n",
       "81     sleeve   72.000000   72.000000  Default  28.0000  28.0000\n",
       "25  hairstyle   62.000000   62.000000  Default  27.0000  27.0000\n",
       "37      black  132.000000  132.000000  Default  26.0000  26.0000\n",
       "..        ...         ...         ...      ...      ...      ...\n",
       "35      model   26.815678  131.706573   Topic4  -3.7579  -0.0797\n",
       "42      white   29.005917  167.771255   Topic4  -3.6793  -0.2432\n",
       "61      joint   17.391811   69.663803   Topic4  -4.1908   0.1242\n",
       "18     beauty   19.636337  136.128830   Topic4  -4.0695  -0.4243\n",
       "60   footwear   12.989051   74.981712   Topic4  -4.4827  -0.2413\n",
       "\n",
       "[191 rows x 6 columns], token_table=      Topic      Freq          Term\n",
       "term                               \n",
       "122       1  0.903019         ankle\n",
       "119       2  0.855275  architecture\n",
       "28        1  0.434577           arm\n",
       "28        2  0.057944           arm\n",
       "28        3  0.318690           arm\n",
       "...     ...       ...           ...\n",
       "46        4  0.230491        worker\n",
       "109       1  0.170626        yellow\n",
       "109       2  0.307126        yellow\n",
       "109       3  0.068250        yellow\n",
       "109       4  0.443626        yellow\n",
       "\n",
       "[312 rows x 3 columns], R=30, lambda_step=0.01, plot_opts={'xlab': 'PC1', 'ylab': 'PC2'}, topic_order=[3, 2, 1, 4])"
      ]
     },
     "execution_count": 39,
     "metadata": {},
     "output_type": "execute_result"
    }
   ],
   "source": [
    "pyLDAvis.enable_notebook()\n",
    "vis = pyLDAvis.gensim.prepare(lda_model, bow_corpus, dictionary)\n",
    "vis"
   ]
  },
  {
   "cell_type": "markdown",
   "metadata": {
    "id": "_1Wd71fYeXxv"
   },
   "source": [
    "## Task D"
   ]
  },
  {
   "cell_type": "markdown",
   "metadata": {
    "id": "nO91bDrNeZU9"
   },
   "source": [
    "According to Task B, captions are very influential on a user's engagement with a post and carry more weight than the topics depicted within the image. Zara will be able to increase user response to posts by focusing on creating engaging captions. Then based on Task C, Zara should post pictures that mostly belong in Topic 2. Topic 2 includes labels such as 'fashion', 'leg', 'photography', 'clothe', 'footwear', 'outerwear', 'joint', 'shoulder', 'human',  and 'sit' suggesting that Zara post more about relaxing, summer outerwear. Some examples may include off the shoulder tops, bikinis, shorts, and trendy footwear.  To also increase engagement, Zara should reduce the amount of posts that are in Topic 3 which include the labels 'fashion', 'clothe', 'outerwear', 'sleeve', 'neck', 'dress', 'shoulder', 'design', 'shirt',  and 'pattern'. \n",
    "\n",
    "In conclusion, Zara can increase engagement on their posts by creating engaging captions with pictures of relaxing summer clothes. "
   ]
  }
 ],
 "metadata": {
  "colab": {
   "collapsed_sections": [],
   "name": "V5_Text_Analysis_Assignment_3.ipynb",
   "provenance": []
  },
  "kernelspec": {
   "display_name": "Python 3",
   "language": "python",
   "name": "python3"
  },
  "language_info": {
   "codemirror_mode": {
    "name": "ipython",
    "version": 3
   },
   "file_extension": ".py",
   "mimetype": "text/x-python",
   "name": "python",
   "nbconvert_exporter": "python",
   "pygments_lexer": "ipython3",
   "version": "3.7.3"
  }
 },
 "nbformat": 4,
 "nbformat_minor": 1
}
